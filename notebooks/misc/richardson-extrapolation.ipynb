{
 "cells": [
  {
   "cell_type": "code",
   "execution_count": 1,
   "id": "f00f7ba1",
   "metadata": {},
   "outputs": [],
   "source": [
    "import random\n",
    "import time\n",
    "from itertools import product, islice\n",
    "from collections import defaultdict\n",
    "from tqdm.auto import tqdm\n",
    "\n",
    "import numpy as np\n",
    "import matplotlib.pyplot as plt\n",
    "\n",
    "from scipy import interpolate, optimize\n",
    "\n",
    "import torch\n",
    "import torch.nn as nn\n",
    "import torchvision\n",
    "\n",
    "from precisionml.optimizers import ConjugateGradients"
   ]
  },
  {
   "cell_type": "code",
   "execution_count": 2,
   "id": "79db49dd",
   "metadata": {},
   "outputs": [
    {
     "data": {
      "text/plain": [
       "'cuda:0'"
      ]
     },
     "execution_count": 2,
     "metadata": {},
     "output_type": "execute_result"
    }
   ],
   "source": [
    "device = 'cuda:0' if torch.cuda.is_available() else 'cpu'\n",
    "# device = 'cpu'\n",
    "torch.set_default_dtype(torch.float64)\n",
    "device"
   ]
  },
  {
   "cell_type": "markdown",
   "id": "6df84d4b",
   "metadata": {},
   "source": [
    "### define losses"
   ]
  },
  {
   "cell_type": "code",
   "execution_count": 3,
   "id": "6ed714cc",
   "metadata": {},
   "outputs": [],
   "source": [
    "rmse_loss_fn_torch = lambda x, y: torch.sqrt(torch.mean(torch.pow(x-y, 2)))\n",
    "qmqe_loss_fn_torch = lambda x, y: torch.pow(torch.mean(torch.pow(x-y, 4)), 1/4)\n",
    "smse_loss_fn_torch = lambda x, y: torch.pow(torch.mean(torch.pow(x-y, 6)), 1/6)\n",
    "mse_loss_fn_torch = nn.MSELoss()\n",
    "\n",
    "def lp_norm(p):\n",
    "    def loss(x, y):\n",
    "        return torch.pow(torch.mean(torch.pow(torch.abs(x-y), p)), 1/p)\n",
    "    return loss\n",
    "\n",
    "def dl_loss(epsilon):\n",
    "    def loss(x, y):\n",
    "        return torch.mean(0.5 * torch.log2(1 + torch.pow((x-y) / epsilon, 2)))\n",
    "    return loss"
   ]
  },
  {
   "cell_type": "code",
   "execution_count": 4,
   "id": "b91856f6",
   "metadata": {},
   "outputs": [],
   "source": [
    "def loss(param_vector, lenghts, shapes, \n",
    "             mlp, loss_fn, x, y, device=device):\n",
    "    l = 0\n",
    "    for i, param in enumerate(mlp.parameters()):\n",
    "        param_data = param_vector[l:l+lenghts[i]]\n",
    "        l += lenghts[i]\n",
    "        param_data_shaped = param_data.reshape(shapes[i])\n",
    "        param.data = torch.tensor(param_data_shaped).to(device)\n",
    "    return loss_fn(mlp(x.to(device)), y).detach().cpu().numpy()\n",
    "\n",
    "def gradient(param_vector, lenghts, shapes, \n",
    "             mlp, loss_fn, x, y, device=device):\n",
    "    l = 0\n",
    "    for i, param in enumerate(mlp.parameters()):\n",
    "        param_data = param_vector[l:l+lenghts[i]]\n",
    "        l += lenghts[i]\n",
    "        param_data_shaped = param_data.reshape(shapes[i])\n",
    "        param.data = torch.tensor(param_data_shaped).to(device)\n",
    "    loss_fn(mlp(x.to(device)), y).backward()\n",
    "    grads = []\n",
    "    for param in mlp.parameters():\n",
    "        grads.append(param.grad.detach().clone().cpu().numpy().flatten())\n",
    "        param.grad = None\n",
    "    return np.concatenate(grads)"
   ]
  },
  {
   "cell_type": "code",
   "execution_count": 5,
   "id": "8cee775b",
   "metadata": {},
   "outputs": [],
   "source": [
    "n = 300\n",
    "x_line = y_line = np.linspace(-1, 1, n)\n",
    "X, Y = np.meshgrid(x_line, y_line)\n",
    "Z = np.exp(X + Y)\n",
    "x_2d = np.stack([X, Y], axis=2)\n",
    "\n",
    "x = torch.from_numpy(x_2d.reshape((n*n, 2))).to(device)\n",
    "y = torch.from_numpy(Z.reshape((n*n, 1))).to(device)\n",
    "\n",
    "n = 257\n",
    "x_line = y_line = np.linspace(-1, 1, n)\n",
    "X, Y = np.meshgrid(x_line, y_line)\n",
    "Z = np.exp(X + Y)\n",
    "x_2d = np.stack([X, Y], axis=2)\n",
    "\n",
    "x_test = torch.from_numpy(x_2d.reshape((n*n, 2))).to(device)\n",
    "y_test = torch.from_numpy(Z.reshape((n*n, 1))).to(device)"
   ]
  },
  {
   "cell_type": "markdown",
   "id": "ce3f38e7",
   "metadata": {},
   "source": [
    "### train first network"
   ]
  },
  {
   "cell_type": "code",
   "execution_count": 7,
   "id": "4779e66a",
   "metadata": {},
   "outputs": [
    {
     "name": "stdout",
     "output_type": "stream",
     "text": [
      "Warning: Desired error not necessarily achieved due to precision loss.\n",
      "         Current function value: 0.004184\n",
      "         Iterations: 283\n",
      "         Function evaluations: 393\n",
      "         Gradient evaluations: 381\n"
     ]
    },
    {
     "data": {
      "text/plain": [
       "0.004199931166830488"
      ]
     },
     "execution_count": 7,
     "metadata": {},
     "output_type": "execute_result"
    }
   ],
   "source": [
    "width = 10\n",
    "mlp_N = nn.Sequential(\n",
    "    nn.Linear(2, width),\n",
    "    nn.ReLU(),\n",
    "    nn.Linear(width, width),\n",
    "    nn.ReLU(),\n",
    "    nn.Linear(width, 1)\n",
    ").to(device)\n",
    "\n",
    "params = []\n",
    "shapes = []\n",
    "lenghts = []\n",
    "for param in mlp_N.parameters():\n",
    "    param_np = param.data.detach().clone().cpu().numpy()\n",
    "    shapes.append(param_np.shape)\n",
    "    param_np_flat = param_np.flatten()\n",
    "    lenghts.append(len(param_np_flat))\n",
    "    params.append(param_np_flat)\n",
    "\n",
    "param_vector = np.concatenate(params)\n",
    "N = len(param_vector)\n",
    "\n",
    "result = optimize.minimize(loss,\n",
    "                           param_vector, \n",
    "                           args=(lenghts, shapes, mlp_N, rmse_loss_fn_torch, x, y, device),\n",
    "                           jac=gradient,\n",
    "                           method='BFGS',\n",
    "                           options={\n",
    "                               'disp': True,\n",
    "                               'gtol': 1e-18,\n",
    "                               'maxiter': 25000,\n",
    "#                                'finite_diff_rel_step': 1e-15\n",
    "                           },\n",
    "                        )\n",
    "    \n",
    "l = 0\n",
    "for i, param in enumerate(mlp_N.parameters()):\n",
    "    param_data = result.x[l:l+lenghts[i]]\n",
    "    l += lenghts[i]\n",
    "    param_data_shaped = param_data.reshape(shapes[i])\n",
    "    param.data = torch.tensor(param_data_shaped).to(device)\n",
    "\n",
    "rmse_N = rmse_loss_fn_torch(mlp_N(x_test), y_test).item()\n",
    "rmse_N\n"
   ]
  },
  {
   "cell_type": "markdown",
   "id": "1a0e352d",
   "metadata": {},
   "source": [
    "### train second network"
   ]
  },
  {
   "cell_type": "code",
   "execution_count": 8,
   "id": "fce1fa63",
   "metadata": {},
   "outputs": [
    {
     "name": "stdout",
     "output_type": "stream",
     "text": [
      "Warning: Desired error not necessarily achieved due to precision loss.\n",
      "         Current function value: 0.000581\n",
      "         Iterations: 2904\n",
      "         Function evaluations: 3108\n",
      "         Gradient evaluations: 3097\n"
     ]
    },
    {
     "data": {
      "text/plain": [
       "0.0005884489711409657"
      ]
     },
     "execution_count": 8,
     "metadata": {},
     "output_type": "execute_result"
    }
   ],
   "source": [
    "\n",
    "width = 30\n",
    "mlp_M = nn.Sequential(\n",
    "    nn.Linear(2, width),\n",
    "    nn.ReLU(),\n",
    "    nn.Linear(width, width),\n",
    "    nn.ReLU(),\n",
    "    nn.Linear(width, 1)\n",
    ").to(device)\n",
    "\n",
    "params = []\n",
    "shapes = []\n",
    "lenghts = []\n",
    "for param in mlp_M.parameters():\n",
    "    param_np = param.data.detach().clone().cpu().numpy()\n",
    "    shapes.append(param_np.shape)\n",
    "    param_np_flat = param_np.flatten()\n",
    "    lenghts.append(len(param_np_flat))\n",
    "    params.append(param_np_flat)\n",
    "\n",
    "param_vector = np.concatenate(params)\n",
    "M = len(param_vector)\n",
    "\n",
    "result = optimize.minimize(loss,\n",
    "                           param_vector, \n",
    "                           args=(lenghts, shapes, mlp_M, rmse_loss_fn_torch, x, y, device),\n",
    "                           jac=gradient,\n",
    "                           method='BFGS',\n",
    "                           options={\n",
    "                               'disp': True,\n",
    "                               'gtol': 1e-18,\n",
    "                               'maxiter': 25000,\n",
    "#                                'finite_diff_rel_step': 1e-15\n",
    "                           },\n",
    "                        )\n",
    "\n",
    "l = 0\n",
    "for i, param in enumerate(mlp_M.parameters()):\n",
    "    param_data = result.x[l:l+lenghts[i]]\n",
    "    l += lenghts[i]\n",
    "    param_data_shaped = param_data.reshape(shapes[i])\n",
    "    param.data = torch.tensor(param_data_shaped).to(device)\n",
    "\n",
    "rmse_M = rmse_loss_fn_torch(mlp_M(x_test), y_test).item()\n",
    "rmse_M\n"
   ]
  },
  {
   "cell_type": "code",
   "execution_count": 9,
   "id": "d2bafa8c",
   "metadata": {},
   "outputs": [],
   "source": [
    "a = - np.log(rmse_N / rmse_M) / np.log(N / M)"
   ]
  },
  {
   "cell_type": "code",
   "execution_count": 10,
   "id": "7854e82b",
   "metadata": {},
   "outputs": [],
   "source": [
    "def mlp_R(x):\n",
    "    numerator = mlp_N(x) - (mlp_M(x) * np.power(N/M, -a))\n",
    "    denominator = 1 - np.power(N/M, -a)\n",
    "    return numerator / denominator"
   ]
  },
  {
   "cell_type": "code",
   "execution_count": 11,
   "id": "07822a0e",
   "metadata": {},
   "outputs": [
    {
     "data": {
      "text/plain": [
       "0.0009555428767046097"
      ]
     },
     "execution_count": 11,
     "metadata": {},
     "output_type": "execute_result"
    }
   ],
   "source": [
    "rmse_loss_fn_torch(mlp_R(x_test), y_test).item()"
   ]
  },
  {
   "cell_type": "code",
   "execution_count": null,
   "id": "0f3a5ae9",
   "metadata": {},
   "outputs": [],
   "source": []
  },
  {
   "cell_type": "code",
   "execution_count": null,
   "id": "2308de51",
   "metadata": {},
   "outputs": [],
   "source": []
  },
  {
   "cell_type": "code",
   "execution_count": null,
   "id": "ecbd7e19",
   "metadata": {},
   "outputs": [],
   "source": []
  },
  {
   "cell_type": "code",
   "execution_count": null,
   "id": "1f307941",
   "metadata": {},
   "outputs": [],
   "source": []
  },
  {
   "cell_type": "code",
   "execution_count": null,
   "id": "bb0b549b",
   "metadata": {},
   "outputs": [],
   "source": []
  }
 ],
 "metadata": {
  "kernelspec": {
   "display_name": "Python 3 (ipykernel)",
   "language": "python",
   "name": "python3"
  },
  "language_info": {
   "codemirror_mode": {
    "name": "ipython",
    "version": 3
   },
   "file_extension": ".py",
   "mimetype": "text/x-python",
   "name": "python",
   "nbconvert_exporter": "python",
   "pygments_lexer": "ipython3",
   "version": "3.8.12"
  }
 },
 "nbformat": 4,
 "nbformat_minor": 5
}
