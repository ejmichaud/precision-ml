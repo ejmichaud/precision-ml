{
 "cells": [
  {
   "cell_type": "markdown",
   "id": "e996d5de",
   "metadata": {},
   "source": [
    "# Hypothesis and proposed solution\n",
    "\n",
    "**Hypothesis**: Neural network loss landscapes possess \"gradient flat\" regions where the gradient is approximately in the kernel of the Hessian. Applying Newton's method in this regime leads to bad steps (except isn't the multiplication with the inverse of the Hessian, not the Hessian itself?). Since algorithms like BFGS approximate Newton's method, perhaps they also can't handle gradient flat regions. This hypothesis as to why BFGS doesn't reach the architecture error could totally be wrong though, since the BFGS step isn't just a matrix multiplication, but rather a line search in a direction. But worth investigating.\n",
    "\n",
    "**Solution**: Avoid second-order methods and try L4 and other techniques instead."
   ]
  },
  {
   "cell_type": "code",
   "execution_count": 1,
   "id": "f00f7ba1",
   "metadata": {},
   "outputs": [],
   "source": [
    "import random\n",
    "import time\n",
    "from itertools import product, islice\n",
    "from collections import defaultdict\n",
    "from copy import deepcopy\n",
    "from tqdm.auto import tqdm\n",
    "\n",
    "import numpy as np\n",
    "import matplotlib.pyplot as plt\n",
    "\n",
    "from scipy import interpolate, optimize\n",
    "\n",
    "import torch\n",
    "import torch.nn as nn\n",
    "import torchvision\n",
    "\n",
    "from precisionml.optimizers import ConjugateGradients, L4"
   ]
  },
  {
   "cell_type": "code",
   "execution_count": 2,
   "id": "79db49dd",
   "metadata": {},
   "outputs": [
    {
     "data": {
      "text/plain": [
       "'cuda:0'"
      ]
     },
     "execution_count": 2,
     "metadata": {},
     "output_type": "execute_result"
    }
   ],
   "source": [
    "device = 'cuda:0' if torch.cuda.is_available() else 'cpu'\n",
    "# device = 'cpu'\n",
    "torch.set_default_dtype(torch.float64)\n",
    "device"
   ]
  },
  {
   "cell_type": "markdown",
   "id": "ac541568",
   "metadata": {},
   "source": [
    "### define losses"
   ]
  },
  {
   "cell_type": "code",
   "execution_count": 3,
   "id": "6ed714cc",
   "metadata": {},
   "outputs": [],
   "source": [
    "rmse_loss_fn_torch = lambda x, y: torch.sqrt(torch.mean(torch.pow(x-y, 2)))\n",
    "qmqe_loss_fn_torch = lambda x, y: torch.pow(torch.mean(torch.pow(x-y, 4)), 1/4)\n",
    "smse_loss_fn_torch = lambda x, y: torch.pow(torch.mean(torch.pow(x-y, 6)), 1/6)\n",
    "mse_loss_fn_torch = nn.MSELoss()\n",
    "\n",
    "def lp_norm(p):\n",
    "    def loss(x, y):\n",
    "        return torch.pow(torch.mean(torch.pow(torch.abs(x-y), p)), 1/p)\n",
    "    return loss\n",
    "\n",
    "def dl_loss(epsilon):\n",
    "    def loss(x, y):\n",
    "        return torch.mean(0.5 * torch.log2(1 + torch.pow((x-y) / epsilon, 2)))\n",
    "    return loss"
   ]
  },
  {
   "cell_type": "markdown",
   "id": "cd34add3",
   "metadata": {},
   "source": [
    "## Let's first compare the magnitude of the gradient and the Hessian-gradient product at the beginning vs end of training"
   ]
  },
  {
   "cell_type": "code",
   "execution_count": 4,
   "id": "4696d901",
   "metadata": {},
   "outputs": [],
   "source": [
    "def hvp(model, v, loss_fn, x, y, r=1e-5):\n",
    "    initial_params = [p.data.detach().clone() for p in model.parameters()]\n",
    "    loss_fn(model(x), y).backward()\n",
    "    initial_gradient = [p.grad.detach().clone() for p in model.parameters()]\n",
    "    model.zero_grad()\n",
    "    for i, param in enumerate(model.parameters()):\n",
    "        param.data += r * v[i]\n",
    "    loss_fn(model(x), y).backward()\n",
    "    shifted_gradient = [p.grad.detach().clone() for p in model.parameters()]\n",
    "    product = []\n",
    "    for i in range(len(v)):\n",
    "        diff_quotient = (shifted_gradient[i] - initial_gradient[i]) / r\n",
    "        product.append(diff_quotient)\n",
    "    model.zero_grad()\n",
    "    for i, param in enumerate(model.parameters()):\n",
    "        param.data = initial_params[i].clone()\n",
    "    return product\n",
    "\n",
    "def dot_prod(u, v):\n",
    "    assert len(u) == len(v)\n",
    "    result = 0\n",
    "    for i in range(len(u)):\n",
    "        result += torch.sum(u[i] * v[i])\n",
    "    return result.item()"
   ]
  },
  {
   "cell_type": "code",
   "execution_count": 5,
   "id": "26556c9c",
   "metadata": {},
   "outputs": [],
   "source": [
    "def loss(param_vector, lenghts, shapes, \n",
    "             mlp, loss_fn, x, y, device=device):\n",
    "    l = 0\n",
    "    for i, param in enumerate(mlp.parameters()):\n",
    "        param_data = param_vector[l:l+lenghts[i]]\n",
    "        l += lenghts[i]\n",
    "        param_data_shaped = param_data.reshape(shapes[i])\n",
    "        param.data = torch.tensor(param_data_shaped).to(device)\n",
    "    return loss_fn(mlp(x.to(device)), y).detach().cpu().numpy()\n",
    "\n",
    "def gradient(param_vector, lenghts, shapes, \n",
    "             mlp, loss_fn, x, y, device=device):\n",
    "    l = 0\n",
    "    for i, param in enumerate(mlp.parameters()):\n",
    "        param_data = param_vector[l:l+lenghts[i]]\n",
    "        l += lenghts[i]\n",
    "        param_data_shaped = param_data.reshape(shapes[i])\n",
    "        param.data = torch.tensor(param_data_shaped).to(device)\n",
    "    loss_fn(mlp(x.to(device)), y).backward()\n",
    "    grads = []\n",
    "    for param in mlp.parameters():\n",
    "        grads.append(param.grad.detach().clone().cpu().numpy().flatten())\n",
    "        param.grad = None\n",
    "    mlp.zero_grad()\n",
    "    return np.concatenate(grads)"
   ]
  },
  {
   "cell_type": "code",
   "execution_count": 6,
   "id": "f459483d",
   "metadata": {},
   "outputs": [],
   "source": [
    "n = 200\n",
    "x_line = y_line = np.linspace(-1, 1, n)\n",
    "X, Y = np.meshgrid(x_line, y_line)\n",
    "Z = np.exp(X + Y)\n",
    "x_2d = np.stack([X, Y], axis=2)\n",
    "x = torch.from_numpy(x_2d.reshape((n*n, 2))).to(device)\n",
    "y = torch.from_numpy(Z.reshape((n*n, 1))).to(device)\n",
    "\n",
    "x_line = y_line = np.linspace(-1, 1, 257)\n",
    "X, Y = np.meshgrid(x_line, y_line)\n",
    "Z = np.exp(X + Y)\n",
    "x_2d = np.stack([X, Y], axis=2)\n",
    "x_test = torch.from_numpy(x_2d.reshape((257*257, 2))).to(device)\n",
    "y_test = torch.from_numpy(Z.reshape((257*257, 1))).to(device)"
   ]
  },
  {
   "cell_type": "code",
   "execution_count": 7,
   "id": "c45e6eb7",
   "metadata": {},
   "outputs": [],
   "source": [
    "width = 20\n",
    "mlp = nn.Sequential(\n",
    "    nn.Linear(2, width),\n",
    "    nn.Tanh(),\n",
    "    nn.Linear(width, width),\n",
    "    nn.Tanh(),\n",
    "    nn.Linear(width, 1)\n",
    ").to(device)\n",
    "\n",
    "params = []\n",
    "shapes = []\n",
    "lenghts = []\n",
    "for param in mlp.parameters():\n",
    "    param_np = param.data.detach().clone().cpu().numpy()\n",
    "    shapes.append(param_np.shape)\n",
    "    param_np_flat = param_np.flatten()\n",
    "    lenghts.append(len(param_np_flat))\n",
    "    params.append(param_np_flat)\n",
    "\n",
    "param_vector = np.concatenate(params)\n",
    "N = len(param_vector)"
   ]
  },
  {
   "cell_type": "markdown",
   "id": "a6a6e91f",
   "metadata": {},
   "source": [
    "### initial values"
   ]
  },
  {
   "cell_type": "code",
   "execution_count": 8,
   "id": "7029a463",
   "metadata": {},
   "outputs": [
    {
     "name": "stdout",
     "output_type": "stream",
     "text": [
      "|g|^2: 1.9075417243024022\n",
      "|Hg|^2: 3.244313016793226\n"
     ]
    }
   ],
   "source": [
    "rmse_loss_fn_torch(mlp(x), y).backward()\n",
    "g0 = [p.grad.detach().clone() for p in mlp.parameters()]\n",
    "print(\"|g|^2: {}\".format(dot_prod(g0, g0)))\n",
    "mlp.zero_grad()\n",
    "Hv = hvp(mlp, g0, rmse_loss_fn_torch, x, y, r=1e-5)\n",
    "print(\"|Hg|^2: {}\".format(dot_prod(Hv, Hv)))"
   ]
  },
  {
   "cell_type": "code",
   "execution_count": 29,
   "id": "b52a18bf",
   "metadata": {},
   "outputs": [
    {
     "ename": "NameError",
     "evalue": "name 'x' is not defined",
     "output_type": "error",
     "traceback": [
      "\u001b[0;31m---------------------------------------------------------------------------\u001b[0m",
      "\u001b[0;31mNameError\u001b[0m                                 Traceback (most recent call last)",
      "\u001b[0;32m/tmp/ipykernel_1881/2978954832.py\u001b[0m in \u001b[0;36m<module>\u001b[0;34m\u001b[0m\n\u001b[1;32m      1\u001b[0m result = optimize.minimize(loss,\n\u001b[1;32m      2\u001b[0m                            \u001b[0mparam_vector\u001b[0m\u001b[0;34m,\u001b[0m\u001b[0;34m\u001b[0m\u001b[0;34m\u001b[0m\u001b[0m\n\u001b[0;32m----> 3\u001b[0;31m                            \u001b[0margs\u001b[0m\u001b[0;34m=\u001b[0m\u001b[0;34m(\u001b[0m\u001b[0mlenghts\u001b[0m\u001b[0;34m,\u001b[0m \u001b[0mshapes\u001b[0m\u001b[0;34m,\u001b[0m \u001b[0mmlp\u001b[0m\u001b[0;34m,\u001b[0m \u001b[0mrmse_loss_fn_torch\u001b[0m\u001b[0;34m,\u001b[0m \u001b[0mx\u001b[0m\u001b[0;34m,\u001b[0m \u001b[0my\u001b[0m\u001b[0;34m,\u001b[0m \u001b[0mdevice\u001b[0m\u001b[0;34m)\u001b[0m\u001b[0;34m,\u001b[0m\u001b[0;34m\u001b[0m\u001b[0;34m\u001b[0m\u001b[0m\n\u001b[0m\u001b[1;32m      4\u001b[0m                            \u001b[0mjac\u001b[0m\u001b[0;34m=\u001b[0m\u001b[0mgradient\u001b[0m\u001b[0;34m,\u001b[0m\u001b[0;34m\u001b[0m\u001b[0;34m\u001b[0m\u001b[0m\n\u001b[1;32m      5\u001b[0m                            \u001b[0mmethod\u001b[0m\u001b[0;34m=\u001b[0m\u001b[0;34m'CG'\u001b[0m\u001b[0;34m,\u001b[0m\u001b[0;34m\u001b[0m\u001b[0;34m\u001b[0m\u001b[0m\n",
      "\u001b[0;31mNameError\u001b[0m: name 'x' is not defined"
     ]
    }
   ],
   "source": [
    "result = optimize.minimize(loss,\n",
    "                           param_vector, \n",
    "                           args=(lenghts, shapes, mlp, rmse_loss_fn_torch, x, y, device),\n",
    "                           jac=gradient,\n",
    "                           method='BFGS',\n",
    "                           options={\n",
    "                               'disp': True,\n",
    "                               'gtol': 1e-18,\n",
    "                               'maxiter': 25000,\n",
    "#                                'finite_diff_rel_step': 1e-15\n",
    "                           },\n",
    "                        )\n"
   ]
  },
  {
   "cell_type": "code",
   "execution_count": 10,
   "id": "fbbcb1c4",
   "metadata": {},
   "outputs": [
    {
     "data": {
      "text/plain": [
       "1.3894025260162552e-07"
      ]
     },
     "execution_count": 10,
     "metadata": {},
     "output_type": "execute_result"
    }
   ],
   "source": [
    "l = 0\n",
    "for i, param in enumerate(mlp.parameters()):\n",
    "    param_data = result.x[l:l+lenghts[i]]\n",
    "    l += lenghts[i]\n",
    "    param_data_shaped = param_data.reshape(shapes[i])\n",
    "    param.data = torch.tensor(param_data_shaped).to(device)\n",
    "\n",
    "rmse_loss_fn_torch(mlp(x_test), y_test).item()"
   ]
  },
  {
   "cell_type": "code",
   "execution_count": 11,
   "id": "929261e0",
   "metadata": {},
   "outputs": [
    {
     "name": "stdout",
     "output_type": "stream",
     "text": [
      "|g|^2: 0.0976853316126039\n",
      "|Hg|^2: 441530621356.94604\n"
     ]
    }
   ],
   "source": [
    "mlp.zero_grad()\n",
    "rmse_loss_fn_torch(mlp(x), y).backward()\n",
    "g0 = [p.grad.detach().clone() for p in mlp.parameters()]\n",
    "print(\"|g|^2: {}\".format(dot_prod(g0, g0)))\n",
    "mlp.zero_grad()\n",
    "Hv = hvp(mlp, g0, rmse_loss_fn_torch, x, y, r=1e-5)\n",
    "print(\"|Hg|^2: {}\".format(dot_prod(Hv, Hv)))"
   ]
  },
  {
   "cell_type": "code",
   "execution_count": 12,
   "id": "9173b10e",
   "metadata": {},
   "outputs": [
    {
     "name": "stdout",
     "output_type": "stream",
     "text": [
      "tensor(1.4007e-07, device='cuda:0', grad_fn=<SqrtBackward0>)\n"
     ]
    }
   ],
   "source": [
    "print(rmse_loss_fn_torch(mlp(x), y))\n",
    "mlp.zero_grad()"
   ]
  },
  {
   "cell_type": "code",
   "execution_count": 13,
   "id": "80a0096b",
   "metadata": {},
   "outputs": [],
   "source": [
    "saved_params = [deepcopy(param.data.detach().clone()) for param in mlp.parameters()]"
   ]
  },
  {
   "cell_type": "markdown",
   "id": "735bd668",
   "metadata": {},
   "source": [
    "### examine curvature at BFGS endpoint"
   ]
  },
  {
   "cell_type": "code",
   "execution_count": 125,
   "id": "0fc9802b",
   "metadata": {},
   "outputs": [
    {
     "name": "stdout",
     "output_type": "stream",
     "text": [
      "tensor(1.4007e-07, device='cuda:0', grad_fn=<SqrtBackward0>)\n"
     ]
    }
   ],
   "source": [
    "for i, param in enumerate(mlp.parameters()):\n",
    "    param.data = saved_params[i].clone()\n",
    "print(rmse_loss_fn_torch(mlp(x), y))\n",
    "mlp.zero_grad()"
   ]
  },
  {
   "cell_type": "code",
   "execution_count": 114,
   "id": "a554e215",
   "metadata": {},
   "outputs": [],
   "source": [
    "convergence = []\n",
    "v = [torch.randn(p.shape).to(device) for p in mlp.parameters()]\n",
    "rs = [10**(-n) for n in range(2, 11)]\n",
    "for r in rs:\n",
    "    Hv = hvp(mlp, v, rmse_loss_fn_torch, x, y, r=r)\n",
    "    vHv = dot_prod(v, Hv)\n",
    "    vv = dot_prod(v, v)\n",
    "    convergence.append(vHv / vv)"
   ]
  },
  {
   "cell_type": "code",
   "execution_count": 120,
   "id": "567f92e0",
   "metadata": {},
   "outputs": [
    {
     "data": {
      "text/plain": [
       "Text(0, 0.5, 'vHv / vv for a random, fixed v')"
      ]
     },
     "execution_count": 120,
     "metadata": {},
     "output_type": "execute_result"
    },
    {
     "data": {
      "image/png": "[encoded data removed]",
      "text/plain": [
       "<Figure size 432x288 with 1 Axes>"
      ]
     },
     "metadata": {
      "needs_background": "light"
     },
     "output_type": "display_data"
    }
   ],
   "source": [
    "plt.plot(rs, convergence)\n",
    "# plt.yscale('log')\n",
    "plt.xscale('log')\n",
    "plt.xlabel(\"Difference quotient step size\")\n",
    "plt.ylabel(\"vHv / vv for a random, fixed v\")"
   ]
  },
  {
   "cell_type": "code",
   "execution_count": 130,
   "id": "fc568c46",
   "metadata": {},
   "outputs": [
    {
     "data": {
      "application/vnd.jupyter.widget-view+json": {
       "model_id": "d86c70ee684f4501a170b57c4acf9d50",
       "version_major": 2,
       "version_minor": 0
      },
      "text/plain": [
       "  0%|          | 0/5000 [00:00<?, ?it/s]"
      ]
     },
     "metadata": {},
     "output_type": "display_data"
    }
   ],
   "source": [
    "curvatures = []\n",
    "for _ in tqdm(range(5000)):\n",
    "    v = [torch.randn(p.shape).to(device) for p in mlp.parameters()]\n",
    "    Hv = hvp(mlp, v, rmse_loss_fn_torch, x, y, r=1e-6)\n",
    "    vHv = dot_prod(v, Hv)\n",
    "    vv = dot_prod(v, v)\n",
    "    curvatures.append(vHv / vv)"
   ]
  },
  {
   "cell_type": "code",
   "execution_count": 131,
   "id": "6bcbd25d",
   "metadata": {},
   "outputs": [
    {
     "data": {
      "image/png": "[encoded data removed]",
      "text/plain": [
       "<Figure size 432x288 with 1 Axes>"
      ]
     },
     "metadata": {
      "needs_background": "light"
     },
     "output_type": "display_data"
    }
   ],
   "source": [
    "_ = plt.hist(curvatures, bins=300)\n",
    "plt.xscale('log')"
   ]
  },
  {
   "cell_type": "code",
   "execution_count": 135,
   "id": "81adbce3",
   "metadata": {},
   "outputs": [
    {
     "data": {
      "application/vnd.jupyter.widget-view+json": {
       "model_id": "75711086900c4619ba47eeebf84bc610",
       "version_major": 2,
       "version_minor": 0
      },
      "text/plain": [
       "0it [00:00, ?it/s]"
      ]
     },
     "metadata": {},
     "output_type": "display_data"
    },
    {
     "name": "stdout",
     "output_type": "stream",
     "text": [
      "tensor(1.4007e-07, device='cuda:0', grad_fn=<SqrtBackward0>)\n"
     ]
    },
    {
     "data": {
      "application/vnd.jupyter.widget-view+json": {
       "model_id": "",
       "version_major": 2,
       "version_minor": 0
      },
      "text/plain": [
       "  0%|          | 0/5000 [00:00<?, ?it/s]"
      ]
     },
     "metadata": {},
     "output_type": "display_data"
    },
    {
     "name": "stdout",
     "output_type": "stream",
     "text": [
      "tensor(1.4007e-07, device='cuda:0', grad_fn=<SqrtBackward0>)\n"
     ]
    },
    {
     "data": {
      "application/vnd.jupyter.widget-view+json": {
       "model_id": "",
       "version_major": 2,
       "version_minor": 0
      },
      "text/plain": [
       "  0%|          | 0/5000 [00:00<?, ?it/s]"
      ]
     },
     "metadata": {},
     "output_type": "display_data"
    },
    {
     "name": "stdout",
     "output_type": "stream",
     "text": [
      "tensor(1.4007e-07, device='cuda:0', grad_fn=<SqrtBackward0>)\n"
     ]
    },
    {
     "data": {
      "application/vnd.jupyter.widget-view+json": {
       "model_id": "",
       "version_major": 2,
       "version_minor": 0
      },
      "text/plain": [
       "  0%|          | 0/5000 [00:00<?, ?it/s]"
      ]
     },
     "metadata": {},
     "output_type": "display_data"
    },
    {
     "name": "stdout",
     "output_type": "stream",
     "text": [
      "tensor(1.4007e-07, device='cuda:0', grad_fn=<SqrtBackward0>)\n"
     ]
    },
    {
     "data": {
      "application/vnd.jupyter.widget-view+json": {
       "model_id": "",
       "version_major": 2,
       "version_minor": 0
      },
      "text/plain": [
       "  0%|          | 0/5000 [00:00<?, ?it/s]"
      ]
     },
     "metadata": {},
     "output_type": "display_data"
    },
    {
     "data": {
      "image/png": "[encoded data removed]",
      "text/plain": [
       "<Figure size 864x360 with 4 Axes>"
      ]
     },
     "metadata": {
      "needs_background": "light"
     },
     "output_type": "display_data"
    }
   ],
   "source": [
    "plt.figure(figsize=(12, 5))\n",
    "\n",
    "rs = [1e-3, 1e-6, 1e-9, 1e-12]\n",
    "for i, r in tqdm(enumerate(rs)):\n",
    "    \n",
    "    for j, param in enumerate(mlp.parameters()):\n",
    "        param.data = saved_params[j].clone()\n",
    "    print(rmse_loss_fn_torch(mlp(x), y))\n",
    "    mlp.zero_grad()\n",
    "    \n",
    "    curvatures = []\n",
    "    for _ in tqdm(range(5000), leave=False):\n",
    "        v = [torch.randn(p.shape).to(device) for p in mlp.parameters()]\n",
    "        Hv = hvp(mlp, v, rmse_loss_fn_torch, x, y, r=r)\n",
    "        vHv = dot_prod(v, Hv)\n",
    "        vv = dot_prod(v, v)\n",
    "        curvatures.append(vHv / vv)\n",
    "    \n",
    "    plt.subplot(1, len(rs), i+1)\n",
    "    _ = plt.hist(curvatures, bins=300)\n",
    "    plt.xscale('log')\n",
    "    plt.xlim(1, 1.1*np.max(curvatures))\n",
    "    plt.title(f\"step: {r}\")\n",
    "    plt.xlabel(\"vHv / vv\")"
   ]
  },
  {
   "cell_type": "markdown",
   "id": "01f7845d",
   "metadata": {},
   "source": [
    "### Plot histogram for various functions"
   ]
  },
  {
   "cell_type": "code",
   "execution_count": 156,
   "id": "4056b29f",
   "metadata": {
    "scrolled": true
   },
   "outputs": [
    {
     "data": {
      "application/vnd.jupyter.widget-view+json": {
       "model_id": "ecb8273d3c0c408387506407ed6f88b6",
       "version_major": 2,
       "version_minor": 0
      },
      "text/plain": [
       "  0%|          | 0/12 [00:00<?, ?it/s]"
      ]
     },
     "metadata": {},
     "output_type": "display_data"
    },
    {
     "name": "stdout",
     "output_type": "stream",
     "text": [
      "Warning: Desired error not necessarily achieved due to precision loss.\n",
      "         Current function value: 0.000000\n",
      "         Iterations: 562\n",
      "         Function evaluations: 683\n",
      "         Gradient evaluations: 671\n",
      "1.9424040912477354e-07\n"
     ]
    },
    {
     "data": {
      "application/vnd.jupyter.widget-view+json": {
       "model_id": "",
       "version_major": 2,
       "version_minor": 0
      },
      "text/plain": [
       "  0%|          | 0/5000 [00:00<?, ?it/s]"
      ]
     },
     "metadata": {},
     "output_type": "display_data"
    },
    {
     "name": "stdout",
     "output_type": "stream",
     "text": [
      "Warning: Desired error not necessarily achieved due to precision loss.\n",
      "         Current function value: 0.000000\n",
      "         Iterations: 684\n",
      "         Function evaluations: 829\n",
      "         Gradient evaluations: 817\n",
      "2.521726973771276e-07\n"
     ]
    },
    {
     "data": {
      "application/vnd.jupyter.widget-view+json": {
       "model_id": "",
       "version_major": 2,
       "version_minor": 0
      },
      "text/plain": [
       "  0%|          | 0/5000 [00:00<?, ?it/s]"
      ]
     },
     "metadata": {},
     "output_type": "display_data"
    },
    {
     "name": "stdout",
     "output_type": "stream",
     "text": [
      "Warning: Desired error not necessarily achieved due to precision loss.\n",
      "         Current function value: 0.000000\n",
      "         Iterations: 687\n",
      "         Function evaluations: 800\n",
      "         Gradient evaluations: 788\n",
      "3.120926299771742e-07\n"
     ]
    },
    {
     "data": {
      "application/vnd.jupyter.widget-view+json": {
       "model_id": "",
       "version_major": 2,
       "version_minor": 0
      },
      "text/plain": [
       "  0%|          | 0/5000 [00:00<?, ?it/s]"
      ]
     },
     "metadata": {},
     "output_type": "display_data"
    },
    {
     "name": "stdout",
     "output_type": "stream",
     "text": [
      "Warning: Desired error not necessarily achieved due to precision loss.\n",
      "         Current function value: 0.000000\n",
      "         Iterations: 529\n",
      "         Function evaluations: 645\n",
      "         Gradient evaluations: 633\n",
      "1.257844660874587e-07\n"
     ]
    },
    {
     "data": {
      "application/vnd.jupyter.widget-view+json": {
       "model_id": "",
       "version_major": 2,
       "version_minor": 0
      },
      "text/plain": [
       "  0%|          | 0/5000 [00:00<?, ?it/s]"
      ]
     },
     "metadata": {},
     "output_type": "display_data"
    },
    {
     "name": "stdout",
     "output_type": "stream",
     "text": [
      "Warning: Desired error not necessarily achieved due to precision loss.\n",
      "         Current function value: 0.000000\n",
      "         Iterations: 645\n",
      "         Function evaluations: 761\n",
      "         Gradient evaluations: 749\n",
      "1.334349525028941e-07\n"
     ]
    },
    {
     "data": {
      "application/vnd.jupyter.widget-view+json": {
       "model_id": "",
       "version_major": 2,
       "version_minor": 0
      },
      "text/plain": [
       "  0%|          | 0/5000 [00:00<?, ?it/s]"
      ]
     },
     "metadata": {},
     "output_type": "display_data"
    },
    {
     "name": "stdout",
     "output_type": "stream",
     "text": [
      "Warning: Desired error not necessarily achieved due to precision loss.\n",
      "         Current function value: 0.000001\n",
      "         Iterations: 910\n",
      "         Function evaluations: 1068\n",
      "         Gradient evaluations: 1056\n",
      "6.545135454602271e-07\n"
     ]
    },
    {
     "data": {
      "application/vnd.jupyter.widget-view+json": {
       "model_id": "",
       "version_major": 2,
       "version_minor": 0
      },
      "text/plain": [
       "  0%|          | 0/5000 [00:00<?, ?it/s]"
      ]
     },
     "metadata": {},
     "output_type": "display_data"
    },
    {
     "name": "stdout",
     "output_type": "stream",
     "text": [
      "Warning: Desired error not necessarily achieved due to precision loss.\n",
      "         Current function value: 0.000000\n",
      "         Iterations: 611\n",
      "         Function evaluations: 738\n",
      "         Gradient evaluations: 726\n",
      "1.9976785749136374e-07\n"
     ]
    },
    {
     "data": {
      "application/vnd.jupyter.widget-view+json": {
       "model_id": "",
       "version_major": 2,
       "version_minor": 0
      },
      "text/plain": [
       "  0%|          | 0/5000 [00:00<?, ?it/s]"
      ]
     },
     "metadata": {},
     "output_type": "display_data"
    },
    {
     "name": "stdout",
     "output_type": "stream",
     "text": [
      "Warning: Desired error not necessarily achieved due to precision loss.\n",
      "         Current function value: 0.000000\n",
      "         Iterations: 963\n",
      "         Function evaluations: 1155\n",
      "         Gradient evaluations: 1143\n",
      "3.42036217700889e-07\n"
     ]
    },
    {
     "data": {
      "application/vnd.jupyter.widget-view+json": {
       "model_id": "",
       "version_major": 2,
       "version_minor": 0
      },
      "text/plain": [
       "  0%|          | 0/5000 [00:00<?, ?it/s]"
      ]
     },
     "metadata": {},
     "output_type": "display_data"
    },
    {
     "name": "stdout",
     "output_type": "stream",
     "text": [
      "Warning: Desired error not necessarily achieved due to precision loss.\n",
      "         Current function value: 0.000000\n",
      "         Iterations: 754\n",
      "         Function evaluations: 874\n",
      "         Gradient evaluations: 862\n",
      "2.41945589990464e-07\n"
     ]
    },
    {
     "data": {
      "application/vnd.jupyter.widget-view+json": {
       "model_id": "",
       "version_major": 2,
       "version_minor": 0
      },
      "text/plain": [
       "  0%|          | 0/5000 [00:00<?, ?it/s]"
      ]
     },
     "metadata": {},
     "output_type": "display_data"
    },
    {
     "name": "stdout",
     "output_type": "stream",
     "text": [
      "Warning: Desired error not necessarily achieved due to precision loss.\n",
      "         Current function value: 0.000000\n",
      "         Iterations: 773\n",
      "         Function evaluations: 922\n",
      "         Gradient evaluations: 910\n",
      "4.4572511971875413e-07\n"
     ]
    },
    {
     "data": {
      "application/vnd.jupyter.widget-view+json": {
       "model_id": "",
       "version_major": 2,
       "version_minor": 0
      },
      "text/plain": [
       "  0%|          | 0/5000 [00:00<?, ?it/s]"
      ]
     },
     "metadata": {},
     "output_type": "display_data"
    },
    {
     "name": "stdout",
     "output_type": "stream",
     "text": [
      "Warning: Desired error not necessarily achieved due to precision loss.\n",
      "         Current function value: 0.000000\n",
      "         Iterations: 715\n",
      "         Function evaluations: 860\n",
      "         Gradient evaluations: 848\n",
      "2.5508999500770326e-07\n"
     ]
    },
    {
     "data": {
      "application/vnd.jupyter.widget-view+json": {
       "model_id": "",
       "version_major": 2,
       "version_minor": 0
      },
      "text/plain": [
       "  0%|          | 0/5000 [00:00<?, ?it/s]"
      ]
     },
     "metadata": {},
     "output_type": "display_data"
    },
    {
     "name": "stdout",
     "output_type": "stream",
     "text": [
      "Warning: Desired error not necessarily achieved due to precision loss.\n",
      "         Current function value: 0.000000\n",
      "         Iterations: 646\n",
      "         Function evaluations: 762\n",
      "         Gradient evaluations: 750\n",
      "2.2248200947232632e-07\n"
     ]
    },
    {
     "data": {
      "application/vnd.jupyter.widget-view+json": {
       "model_id": "",
       "version_major": 2,
       "version_minor": 0
      },
      "text/plain": [
       "  0%|          | 0/5000 [00:00<?, ?it/s]"
      ]
     },
     "metadata": {},
     "output_type": "display_data"
    }
   ],
   "source": [
    "n = 12\n",
    "\n",
    "losses = []\n",
    "curvatures = defaultdict(list)\n",
    "\n",
    "for i in tqdm(range(n)):\n",
    "    \n",
    "    coeffs = (a, b, c, d, e, f) = np.random.uniform(low=-1.5, high=1.5, size=(6,))\n",
    "    x_i = np.random.uniform(low=-1, high=1, size=(50000, 1))\n",
    "    y_i = a + b*np.power(x_i, 1) + c*np.power(x_i, 2) + d*np.power(x_i, 3) + e*np.power(x_i, 4) + f*np.power(x_i, 5)\n",
    "    \n",
    "    x_i = torch.from_numpy(x_i).to(device)\n",
    "    y_i = torch.from_numpy(y_i).to(device)\n",
    "    \n",
    "    width = 20\n",
    "    mlp = nn.Sequential(\n",
    "        nn.Linear(1, width),\n",
    "        nn.Tanh(),\n",
    "        nn.Linear(width, width),\n",
    "        nn.Tanh(),\n",
    "        nn.Linear(width, 1)\n",
    "    ).to(device)\n",
    "\n",
    "    params = []\n",
    "    shapes = []\n",
    "    lenghts = []\n",
    "    for param in mlp.parameters():\n",
    "        param_np = param.data.detach().clone().cpu().numpy()\n",
    "        shapes.append(param_np.shape)\n",
    "        param_np_flat = param_np.flatten()\n",
    "        lenghts.append(len(param_np_flat))\n",
    "        params.append(param_np_flat)\n",
    "\n",
    "    param_vector = np.concatenate(params)\n",
    "    \n",
    "    result = optimize.minimize(loss,\n",
    "                           param_vector, \n",
    "                           args=(lenghts, shapes, mlp, rmse_loss_fn_torch, x_i, y_i, device),\n",
    "                           jac=gradient,\n",
    "                           method='BFGS',\n",
    "                           options={\n",
    "                               'disp': True,\n",
    "                               'gtol': 1e-18,\n",
    "                               'maxiter': 25000,\n",
    "#                                'finite_diff_rel_step': 1e-15\n",
    "                           },\n",
    "                        )\n",
    "\n",
    "    l = 0\n",
    "    for j, param in enumerate(mlp.parameters()):\n",
    "        param_data = result.x[l:l+lenghts[j]]\n",
    "        l += lenghts[j]\n",
    "        param_data_shaped = param_data.reshape(shapes[j])\n",
    "        param.data = torch.tensor(param_data_shaped).to(device)\n",
    "\n",
    "    l = rmse_loss_fn_torch(mlp(x_i), y_i).item()\n",
    "    print(l)\n",
    "    losses.append(l)\n",
    "    mlp.zero_grad()\n",
    "    \n",
    "    for _ in tqdm(range(5000), leave=False):\n",
    "        v = [torch.randn(p.shape).to(device) for p in mlp.parameters()]\n",
    "        Hv = hvp(mlp, v, rmse_loss_fn_torch, x_i, y_i, r=1e-8)\n",
    "        vHv = dot_prod(v, Hv)\n",
    "        vv = dot_prod(v, v)\n",
    "        curvatures[i].append(vHv / vv)\n",
    "    \n",
    "    \n",
    "    \n",
    "    "
   ]
  },
  {
   "cell_type": "code",
   "execution_count": 161,
   "id": "717f943b",
   "metadata": {},
   "outputs": [
    {
     "data": {
      "image/png": "[encoded data removed]",
      "text/plain": [
       "<Figure size 864x576 with 12 Axes>"
      ]
     },
     "metadata": {
      "needs_background": "light"
     },
     "output_type": "display_data"
    }
   ],
   "source": [
    "plt.figure(figsize=(12, 8))\n",
    "\n",
    "for i in range(n):\n",
    "    plt.subplot(3, 4, i+1)\n",
    "    \n",
    "    _ = plt.hist(curvatures[i], bins=300)\n",
    "    plt.xscale('log')\n",
    "    plt.xlim(1, 1.1*np.max(curvatures[i]))\n",
    "    plt.title(\"loss: {:.4E}\".format(losses[i]))\n",
    "    plt.xlabel(\"vHv / vv\")\n",
    "\n",
    "plt.tight_layout()"
   ]
  },
  {
   "cell_type": "markdown",
   "id": "9ff3fc91",
   "metadata": {},
   "source": [
    "### Let's see if we can use autograd's hvp for better numerical stability"
   ]
  },
  {
   "cell_type": "code",
   "execution_count": 201,
   "id": "188e81de",
   "metadata": {},
   "outputs": [],
   "source": [
    "width = 20\n",
    "thing = nn.Sequential(\n",
    "    nn.Linear(1, width),\n",
    "    nn.Tanh(),\n",
    "    nn.Linear(width, width),\n",
    "    nn.Tanh(),\n",
    "    nn.Linear(width, 1)\n",
    ").to(device)"
   ]
  },
  {
   "cell_type": "code",
   "execution_count": 202,
   "id": "44f4b957",
   "metadata": {},
   "outputs": [],
   "source": [
    "p_tensors = tuple(p.data.detach().clone() for p in thing.parameters())\n",
    "v = tuple(torch.randn(p.shape).to(device) for p in thing.parameters())"
   ]
  },
  {
   "cell_type": "code",
   "execution_count": 218,
   "id": "208f7abe",
   "metadata": {},
   "outputs": [],
   "source": [
    "def get_func(model: nn.Module, loss_fn, x, y):\n",
    "    def func(*p_tensors):\n",
    "        assert len(list(model.parameters())) == len(p_tensors)\n",
    "        assert type(model) is nn.Sequential\n",
    "        i = 0\n",
    "        z = x\n",
    "        for module in model:\n",
    "            if type(module) is nn.Linear:\n",
    "                if module.bias is None:\n",
    "                    z = nn.functional.linear(z, p_tensors[i], None)\n",
    "                    i += 1\n",
    "                else:\n",
    "                    z = nn.functional.linear(z, p_tensors[i], p_tensors[i+1])\n",
    "                    i += 2\n",
    "            if type(module) in [nn.Tanh, nn.Sigmoid, nn.ReLU]:\n",
    "                z = module(z)\n",
    "        return loss_fn(z, y)\n",
    "    return func\n",
    "\n",
    "def hvp_autograd(model, v, loss_fn, x, y):\n",
    "    _, Hv = torch.autograd.functional.hvp(get_func(model, loss_fn, x, y), tuple(model.parameters()), v)\n",
    "    return Hv"
   ]
  },
  {
   "cell_type": "code",
   "execution_count": 223,
   "id": "daa53db8",
   "metadata": {},
   "outputs": [
    {
     "data": {
      "text/plain": [
       "tensor([-0.1191, -0.2454,  0.3004, -0.6634,  0.8248, -0.1275,  0.3975, -0.0760,\n",
       "         0.8181,  0.0685, -0.2996, -0.2225,  0.0900,  0.3404, -0.2765,  0.5940,\n",
       "        -0.5277,  0.0674, -0.3917,  0.2652], device='cuda:0')"
      ]
     },
     "execution_count": 223,
     "metadata": {},
     "output_type": "execute_result"
    }
   ],
   "source": [
    "hvp(thing, v, rmse_loss_fn_torch, x_i, y_i, r=1e-7)[1]"
   ]
  },
  {
   "cell_type": "code",
   "execution_count": 224,
   "id": "32231961",
   "metadata": {},
   "outputs": [
    {
     "data": {
      "text/plain": [
       "tensor([-0.1191, -0.2454,  0.3004, -0.6634,  0.8248, -0.1275,  0.3975, -0.0760,\n",
       "         0.8181,  0.0685, -0.2996, -0.2225,  0.0900,  0.3404, -0.2765,  0.5940,\n",
       "        -0.5277,  0.0674, -0.3917,  0.2652], device='cuda:0')"
      ]
     },
     "execution_count": 224,
     "metadata": {},
     "output_type": "execute_result"
    }
   ],
   "source": [
    "hvp_autograd(thing, v, rmse_loss_fn_torch, x_i, y_i)[1]"
   ]
  },
  {
   "cell_type": "code",
   "execution_count": 229,
   "id": "169539a9",
   "metadata": {},
   "outputs": [
    {
     "name": "stdout",
     "output_type": "stream",
     "text": [
      "Warning: Desired error not necessarily achieved due to precision loss.\n",
      "         Current function value: 0.000000\n",
      "         Iterations: 1411\n",
      "         Function evaluations: 1659\n",
      "         Gradient evaluations: 1647\n",
      "3.396698228654039e-07\n"
     ]
    }
   ],
   "source": [
    "coeffs = (a, b, c, d, e, f) = np.random.uniform(low=-1.5, high=1.5, size=(6,))\n",
    "x_i = np.random.uniform(low=-1, high=1, size=(50000, 1))\n",
    "y_i = a + b*np.power(x_i, 1) + c*np.power(x_i, 2) + d*np.power(x_i, 3) + e*np.power(x_i, 4) + f*np.power(x_i, 5)\n",
    "\n",
    "x_i = torch.from_numpy(x_i).to(device)\n",
    "y_i = torch.from_numpy(y_i).to(device)\n",
    "\n",
    "width = 20\n",
    "mlp = nn.Sequential(\n",
    "    nn.Linear(1, width),\n",
    "    nn.Tanh(),\n",
    "    nn.Linear(width, width),\n",
    "    nn.Tanh(),\n",
    "    nn.Linear(width, 1)\n",
    ").to(device)\n",
    "\n",
    "params = []\n",
    "shapes = []\n",
    "lenghts = []\n",
    "for param in mlp.parameters():\n",
    "    param_np = param.data.detach().clone().cpu().numpy()\n",
    "    shapes.append(param_np.shape)\n",
    "    param_np_flat = param_np.flatten()\n",
    "    lenghts.append(len(param_np_flat))\n",
    "    params.append(param_np_flat)\n",
    "\n",
    "param_vector = np.concatenate(params)\n",
    "\n",
    "result = optimize.minimize(loss,\n",
    "                       param_vector, \n",
    "                       args=(lenghts, shapes, mlp, rmse_loss_fn_torch, x_i, y_i, device),\n",
    "                       jac=gradient,\n",
    "                       method='BFGS',\n",
    "                       options={\n",
    "                           'disp': True,\n",
    "                           'gtol': 1e-18,\n",
    "                           'maxiter': 25000,\n",
    "#                                'finite_diff_rel_step': 1e-15\n",
    "                       },\n",
    "                    )\n",
    "\n",
    "l = 0\n",
    "for j, param in enumerate(mlp.parameters()):\n",
    "    param_data = result.x[l:l+lenghts[j]]\n",
    "    l += lenghts[j]\n",
    "    param_data_shaped = param_data.reshape(shapes[j])\n",
    "    param.data = torch.tensor(param_data_shaped).to(device)\n",
    "\n",
    "l = rmse_loss_fn_torch(mlp(x_i), y_i).item()\n",
    "print(l)"
   ]
  },
  {
   "cell_type": "code",
   "execution_count": 232,
   "id": "86a8721a",
   "metadata": {},
   "outputs": [],
   "source": [
    "convergence = []\n",
    "v = tuple(torch.randn(p.shape).to(device) for p in mlp.parameters())\n",
    "rs = [10**(-n) for n in range(2, 11)]\n",
    "for r in rs:\n",
    "    Hv = hvp(mlp, v, rmse_loss_fn_torch, x_i, y_i, r=r)\n",
    "    vHv = dot_prod(v, Hv)\n",
    "    vv = dot_prod(v, v)\n",
    "    convergence.append(vHv / vv)"
   ]
  },
  {
   "cell_type": "code",
   "execution_count": 233,
   "id": "f4d8dab6",
   "metadata": {},
   "outputs": [],
   "source": [
    "Hv = hvp_autograd(mlp, v, rmse_loss_fn_torch, x_i, y_i)\n",
    "vHv = dot_prod(v, Hv)\n",
    "baseline = vHv / dot_prod(v, v)"
   ]
  },
  {
   "cell_type": "code",
   "execution_count": 239,
   "id": "bffc34f7",
   "metadata": {},
   "outputs": [
    {
     "data": {
      "text/plain": [
       "<matplotlib.collections.LineCollection at 0x7fc8c9197e50>"
      ]
     },
     "execution_count": 239,
     "metadata": {},
     "output_type": "execute_result"
    },
    {
     "data": {
      "image/png": "[encoded data removed]",
      "text/plain": [
       "<Figure size 432x288 with 1 Axes>"
      ]
     },
     "metadata": {
      "needs_background": "light"
     },
     "output_type": "display_data"
    }
   ],
   "source": [
    "plt.plot(rs, convergence)\n",
    "# plt.yscale('log')\n",
    "plt.xscale('log')\n",
    "plt.xlabel(\"Difference quotient step size\")\n",
    "plt.ylabel(\"vHv / vv for a random, fixed v\")\n",
    "plt.hlines(baseline, 1e-10, 1e-3)"
   ]
  },
  {
   "cell_type": "code",
   "execution_count": 238,
   "id": "89730383",
   "metadata": {},
   "outputs": [
    {
     "data": {
      "text/plain": [
       "<function matplotlib.pyplot.hlines(y, xmin, xmax, colors=None, linestyles='solid', label='', *, data=None, **kwargs)>"
      ]
     },
     "execution_count": 238,
     "metadata": {},
     "output_type": "execute_result"
    }
   ],
   "source": [
    "plt.hlines"
   ]
  },
  {
   "cell_type": "markdown",
   "id": "e24fb719",
   "metadata": {},
   "source": [
    "### Okay so actually our original finite difference method was pretty accurate when r was small enough."
   ]
  },
  {
   "cell_type": "markdown",
   "id": "e18f91a3",
   "metadata": {},
   "source": [
    "### Let's see how the curvature looks at initialization vs after BFGS"
   ]
  },
  {
   "cell_type": "code",
   "execution_count": 242,
   "id": "e5ee7f91",
   "metadata": {},
   "outputs": [
    {
     "data": {
      "application/vnd.jupyter.widget-view+json": {
       "model_id": "56c3b54145194202a8da503f3c3a2e63",
       "version_major": 2,
       "version_minor": 0
      },
      "text/plain": [
       "  0%|          | 0/5000 [00:00<?, ?it/s]"
      ]
     },
     "metadata": {},
     "output_type": "display_data"
    },
    {
     "name": "stdout",
     "output_type": "stream",
     "text": [
      "Warning: Desired error not necessarily achieved due to precision loss.\n",
      "         Current function value: 0.000000\n",
      "         Iterations: 941\n",
      "         Function evaluations: 1113\n",
      "         Gradient evaluations: 1101\n",
      "4.308528752625427e-07\n"
     ]
    },
    {
     "data": {
      "application/vnd.jupyter.widget-view+json": {
       "model_id": "89d4ceb12d0e47fe9785481c449a1645",
       "version_major": 2,
       "version_minor": 0
      },
      "text/plain": [
       "  0%|          | 0/5000 [00:00<?, ?it/s]"
      ]
     },
     "metadata": {},
     "output_type": "display_data"
    }
   ],
   "source": [
    "coeffs = (a, b, c, d, e, f) = np.random.uniform(low=-1.5, high=1.5, size=(6,))\n",
    "x_i = np.random.uniform(low=-1, high=1, size=(50000, 1))\n",
    "y_i = a + b*np.power(x_i, 1) + c*np.power(x_i, 2) + d*np.power(x_i, 3) + e*np.power(x_i, 4) + f*np.power(x_i, 5)\n",
    "\n",
    "x_i = torch.from_numpy(x_i).to(device)\n",
    "y_i = torch.from_numpy(y_i).to(device)\n",
    "\n",
    "width = 20\n",
    "mlp = nn.Sequential(\n",
    "    nn.Linear(1, width),\n",
    "    nn.Tanh(),\n",
    "    nn.Linear(width, width),\n",
    "    nn.Tanh(),\n",
    "    nn.Linear(width, 1)\n",
    ").to(device)\n",
    "\n",
    "params = []\n",
    "shapes = []\n",
    "lenghts = []\n",
    "for param in mlp.parameters():\n",
    "    param_np = param.data.detach().clone().cpu().numpy()\n",
    "    shapes.append(param_np.shape)\n",
    "    param_np_flat = param_np.flatten()\n",
    "    lenghts.append(len(param_np_flat))\n",
    "    params.append(param_np_flat)\n",
    "\n",
    "param_vector = np.concatenate(params)\n",
    "\n",
    "# compute curvatures at initialization\n",
    "initial_curvatures = []\n",
    "for _ in tqdm(range(5000)):\n",
    "    v = tuple(torch.randn(p.shape).to(device) for p in mlp.parameters())\n",
    "    Hv = hvp_autograd(mlp, v, rmse_loss_fn_torch, x_i, y_i)\n",
    "    vHv = dot_prod(v, Hv)\n",
    "    vv = dot_prod(v, v)\n",
    "    initial_curvatures.append(vHv / vv)\n",
    "\n",
    "result = optimize.minimize(loss,\n",
    "                       param_vector, \n",
    "                       args=(lenghts, shapes, mlp, rmse_loss_fn_torch, x_i, y_i, device),\n",
    "                       jac=gradient,\n",
    "                       method='BFGS',\n",
    "                       options={\n",
    "                           'disp': True,\n",
    "                           'gtol': 1e-18,\n",
    "                           'maxiter': 25000,\n",
    "#                                'finite_diff_rel_step': 1e-15\n",
    "                       },\n",
    "                    )\n",
    "\n",
    "l = 0\n",
    "for j, param in enumerate(mlp.parameters()):\n",
    "    param_data = result.x[l:l+lenghts[j]]\n",
    "    l += lenghts[j]\n",
    "    param_data_shaped = param_data.reshape(shapes[j])\n",
    "    param.data = torch.tensor(param_data_shaped).to(device)\n",
    "\n",
    "l = rmse_loss_fn_torch(mlp(x_i), y_i).item()\n",
    "print(l)\n",
    "\n",
    "# compute curvatures at end\n",
    "final_curvatures = []\n",
    "for _ in tqdm(range(5000)):\n",
    "    v = tuple(torch.randn(p.shape).to(device) for p in mlp.parameters())\n",
    "    Hv = hvp_autograd(mlp, v, rmse_loss_fn_torch, x_i, y_i)\n",
    "    vHv = dot_prod(v, Hv)\n",
    "    vv = dot_prod(v, v)\n",
    "    final_curvatures.append(vHv / vv)"
   ]
  },
  {
   "cell_type": "code",
   "execution_count": 248,
   "id": "e168dca5",
   "metadata": {},
   "outputs": [
    {
     "data": {
      "text/plain": [
       "Text(0.5, 1.0, 'Curvature at BFGS end')"
      ]
     },
     "execution_count": 248,
     "metadata": {},
     "output_type": "execute_result"
    },
    {
     "data": {
      "image/png": "[encoded data removed]",
      "text/plain": [
       "<Figure size 432x288 with 2 Axes>"
      ]
     },
     "metadata": {
      "needs_background": "light"
     },
     "output_type": "display_data"
    }
   ],
   "source": [
    "plt.subplot(1, 2, 1)\n",
    "_ = plt.hist(initial_curvatures, bins=300)\n",
    "plt.xlabel(\"vHv / vv for random v\")\n",
    "plt.title(\"Curvature at init\")\n",
    "\n",
    "plt.subplot(1, 2, 2)\n",
    "_ = plt.hist(final_curvatures, bins=300)\n",
    "plt.xscale('log')\n",
    "plt.xlim(1, 1.1*np.max(final_curvatures))\n",
    "plt.xlabel(\"vHv / vv for random v\")\n",
    "plt.title(\"Curvature at BFGS end\")"
   ]
  },
  {
   "cell_type": "markdown",
   "id": "20c30345",
   "metadata": {},
   "source": [
    "### redo histogram ensemble with autograd hvp"
   ]
  },
  {
   "cell_type": "code",
   "execution_count": 251,
   "id": "212df348",
   "metadata": {},
   "outputs": [
    {
     "data": {
      "application/vnd.jupyter.widget-view+json": {
       "model_id": "8f5ad3a63e43468299cf311d2e9fc7a7",
       "version_major": 2,
       "version_minor": 0
      },
      "text/plain": [
       "  0%|          | 0/12 [00:00<?, ?it/s]"
      ]
     },
     "metadata": {},
     "output_type": "display_data"
    },
    {
     "name": "stdout",
     "output_type": "stream",
     "text": [
      "Warning: Desired error not necessarily achieved due to precision loss.\n",
      "         Current function value: 0.000001\n",
      "         Iterations: 396\n",
      "         Function evaluations: 488\n",
      "         Gradient evaluations: 476\n",
      "1.051760829045072e-06\n"
     ]
    },
    {
     "data": {
      "application/vnd.jupyter.widget-view+json": {
       "model_id": "",
       "version_major": 2,
       "version_minor": 0
      },
      "text/plain": [
       "  0%|          | 0/5000 [00:00<?, ?it/s]"
      ]
     },
     "metadata": {},
     "output_type": "display_data"
    },
    {
     "name": "stdout",
     "output_type": "stream",
     "text": [
      "Warning: Desired error not necessarily achieved due to precision loss.\n",
      "         Current function value: 0.000000\n",
      "         Iterations: 809\n",
      "         Function evaluations: 948\n",
      "         Gradient evaluations: 936\n",
      "3.987020132091419e-07\n"
     ]
    },
    {
     "data": {
      "application/vnd.jupyter.widget-view+json": {
       "model_id": "",
       "version_major": 2,
       "version_minor": 0
      },
      "text/plain": [
       "  0%|          | 0/5000 [00:00<?, ?it/s]"
      ]
     },
     "metadata": {},
     "output_type": "display_data"
    },
    {
     "name": "stdout",
     "output_type": "stream",
     "text": [
      "Warning: Desired error not necessarily achieved due to precision loss.\n",
      "         Current function value: 0.000000\n",
      "         Iterations: 668\n",
      "         Function evaluations: 793\n",
      "         Gradient evaluations: 781\n",
      "1.7496749730778545e-07\n"
     ]
    },
    {
     "data": {
      "application/vnd.jupyter.widget-view+json": {
       "model_id": "",
       "version_major": 2,
       "version_minor": 0
      },
      "text/plain": [
       "  0%|          | 0/5000 [00:00<?, ?it/s]"
      ]
     },
     "metadata": {},
     "output_type": "display_data"
    },
    {
     "name": "stdout",
     "output_type": "stream",
     "text": [
      "Warning: Desired error not necessarily achieved due to precision loss.\n",
      "         Current function value: 0.000000\n",
      "         Iterations: 1066\n",
      "         Function evaluations: 1249\n",
      "         Gradient evaluations: 1237\n",
      "2.0075018664152654e-07\n"
     ]
    },
    {
     "data": {
      "application/vnd.jupyter.widget-view+json": {
       "model_id": "",
       "version_major": 2,
       "version_minor": 0
      },
      "text/plain": [
       "  0%|          | 0/5000 [00:00<?, ?it/s]"
      ]
     },
     "metadata": {},
     "output_type": "display_data"
    },
    {
     "name": "stdout",
     "output_type": "stream",
     "text": [
      "Warning: Desired error not necessarily achieved due to precision loss.\n",
      "         Current function value: 0.000000\n",
      "         Iterations: 1011\n",
      "         Function evaluations: 1180\n",
      "         Gradient evaluations: 1168\n",
      "1.5935241035790693e-07\n"
     ]
    },
    {
     "data": {
      "application/vnd.jupyter.widget-view+json": {
       "model_id": "",
       "version_major": 2,
       "version_minor": 0
      },
      "text/plain": [
       "  0%|          | 0/5000 [00:00<?, ?it/s]"
      ]
     },
     "metadata": {},
     "output_type": "display_data"
    },
    {
     "name": "stdout",
     "output_type": "stream",
     "text": [
      "Warning: Desired error not necessarily achieved due to precision loss.\n",
      "         Current function value: 0.000000\n",
      "         Iterations: 775\n",
      "         Function evaluations: 930\n",
      "         Gradient evaluations: 918\n",
      "1.7221375620078183e-07\n"
     ]
    },
    {
     "data": {
      "application/vnd.jupyter.widget-view+json": {
       "model_id": "",
       "version_major": 2,
       "version_minor": 0
      },
      "text/plain": [
       "  0%|          | 0/5000 [00:00<?, ?it/s]"
      ]
     },
     "metadata": {},
     "output_type": "display_data"
    },
    {
     "name": "stdout",
     "output_type": "stream",
     "text": [
      "Warning: Desired error not necessarily achieved due to precision loss.\n",
      "         Current function value: 0.000000\n",
      "         Iterations: 1107\n",
      "         Function evaluations: 1282\n",
      "         Gradient evaluations: 1270\n",
      "2.6321384954657816e-07\n"
     ]
    },
    {
     "data": {
      "application/vnd.jupyter.widget-view+json": {
       "model_id": "",
       "version_major": 2,
       "version_minor": 0
      },
      "text/plain": [
       "  0%|          | 0/5000 [00:00<?, ?it/s]"
      ]
     },
     "metadata": {},
     "output_type": "display_data"
    },
    {
     "name": "stdout",
     "output_type": "stream",
     "text": [
      "Warning: Desired error not necessarily achieved due to precision loss.\n",
      "         Current function value: 0.000001\n",
      "         Iterations: 832\n",
      "         Function evaluations: 967\n",
      "         Gradient evaluations: 955\n",
      "9.299402957288845e-07\n"
     ]
    },
    {
     "data": {
      "application/vnd.jupyter.widget-view+json": {
       "model_id": "",
       "version_major": 2,
       "version_minor": 0
      },
      "text/plain": [
       "  0%|          | 0/5000 [00:00<?, ?it/s]"
      ]
     },
     "metadata": {},
     "output_type": "display_data"
    },
    {
     "name": "stdout",
     "output_type": "stream",
     "text": [
      "Warning: Desired error not necessarily achieved due to precision loss.\n",
      "         Current function value: 0.000000\n",
      "         Iterations: 758\n",
      "         Function evaluations: 885\n",
      "         Gradient evaluations: 873\n",
      "1.8651446318557656e-07\n"
     ]
    },
    {
     "data": {
      "application/vnd.jupyter.widget-view+json": {
       "model_id": "",
       "version_major": 2,
       "version_minor": 0
      },
      "text/plain": [
       "  0%|          | 0/5000 [00:00<?, ?it/s]"
      ]
     },
     "metadata": {},
     "output_type": "display_data"
    },
    {
     "name": "stdout",
     "output_type": "stream",
     "text": [
      "Warning: Desired error not necessarily achieved due to precision loss.\n",
      "         Current function value: 0.000001\n",
      "         Iterations: 594\n",
      "         Function evaluations: 707\n",
      "         Gradient evaluations: 695\n",
      "7.55195686385521e-07\n"
     ]
    },
    {
     "data": {
      "application/vnd.jupyter.widget-view+json": {
       "model_id": "",
       "version_major": 2,
       "version_minor": 0
      },
      "text/plain": [
       "  0%|          | 0/5000 [00:00<?, ?it/s]"
      ]
     },
     "metadata": {},
     "output_type": "display_data"
    },
    {
     "name": "stdout",
     "output_type": "stream",
     "text": [
      "Warning: Desired error not necessarily achieved due to precision loss.\n",
      "         Current function value: 0.000001\n",
      "         Iterations: 772\n",
      "         Function evaluations: 915\n",
      "         Gradient evaluations: 903\n",
      "7.019083846216618e-07\n"
     ]
    },
    {
     "data": {
      "application/vnd.jupyter.widget-view+json": {
       "model_id": "",
       "version_major": 2,
       "version_minor": 0
      },
      "text/plain": [
       "  0%|          | 0/5000 [00:00<?, ?it/s]"
      ]
     },
     "metadata": {},
     "output_type": "display_data"
    },
    {
     "name": "stdout",
     "output_type": "stream",
     "text": [
      "Warning: Desired error not necessarily achieved due to precision loss.\n",
      "         Current function value: 0.000000\n",
      "         Iterations: 640\n",
      "         Function evaluations: 782\n",
      "         Gradient evaluations: 770\n",
      "1.5063157736604494e-07\n"
     ]
    },
    {
     "data": {
      "application/vnd.jupyter.widget-view+json": {
       "model_id": "",
       "version_major": 2,
       "version_minor": 0
      },
      "text/plain": [
       "  0%|          | 0/5000 [00:00<?, ?it/s]"
      ]
     },
     "metadata": {},
     "output_type": "display_data"
    }
   ],
   "source": [
    "n = 12\n",
    "\n",
    "losses = []\n",
    "curvatures = defaultdict(list)\n",
    "\n",
    "for i in tqdm(range(n)):\n",
    "    \n",
    "    coeffs = (a, b, c, d, e, f) = np.random.uniform(low=-1.5, high=1.5, size=(6,))\n",
    "    x_i = np.random.uniform(low=-1, high=1, size=(50000, 1))\n",
    "    y_i = a + b*np.power(x_i, 1) + c*np.power(x_i, 2) + d*np.power(x_i, 3) + e*np.power(x_i, 4) + f*np.power(x_i, 5)\n",
    "    \n",
    "    x_i = torch.from_numpy(x_i).to(device)\n",
    "    y_i = torch.from_numpy(y_i).to(device)\n",
    "    \n",
    "    width = 20\n",
    "    mlp = nn.Sequential(\n",
    "        nn.Linear(1, width),\n",
    "        nn.Tanh(),\n",
    "        nn.Linear(width, width),\n",
    "        nn.Tanh(),\n",
    "        nn.Linear(width, 1)\n",
    "    ).to(device)\n",
    "\n",
    "    params = []\n",
    "    shapes = []\n",
    "    lenghts = []\n",
    "    for param in mlp.parameters():\n",
    "        param_np = param.data.detach().clone().cpu().numpy()\n",
    "        shapes.append(param_np.shape)\n",
    "        param_np_flat = param_np.flatten()\n",
    "        lenghts.append(len(param_np_flat))\n",
    "        params.append(param_np_flat)\n",
    "\n",
    "    param_vector = np.concatenate(params)\n",
    "    \n",
    "    result = optimize.minimize(loss,\n",
    "                           param_vector, \n",
    "                           args=(lenghts, shapes, mlp, rmse_loss_fn_torch, x_i, y_i, device),\n",
    "                           jac=gradient,\n",
    "                           method='BFGS',\n",
    "                           options={\n",
    "                               'disp': True,\n",
    "                               'gtol': 1e-18,\n",
    "                               'maxiter': 25000,\n",
    "#                                'finite_diff_rel_step': 1e-15\n",
    "                           },\n",
    "                        )\n",
    "\n",
    "    l = 0\n",
    "    for j, param in enumerate(mlp.parameters()):\n",
    "        param_data = result.x[l:l+lenghts[j]]\n",
    "        l += lenghts[j]\n",
    "        param_data_shaped = param_data.reshape(shapes[j])\n",
    "        param.data = torch.tensor(param_data_shaped).to(device)\n",
    "\n",
    "    l = rmse_loss_fn_torch(mlp(x_i), y_i).item()\n",
    "    print(l)\n",
    "    losses.append(l)\n",
    "    mlp.zero_grad()\n",
    "    \n",
    "    for _ in tqdm(range(5000), leave=False):\n",
    "        v = tuple(torch.randn(p.shape).to(device) for p in mlp.parameters())\n",
    "        Hv = hvp_autograd(mlp, v, rmse_loss_fn_torch, x_i, y_i)\n",
    "        vHv = dot_prod(v, Hv)\n",
    "        vv = dot_prod(v, v)\n",
    "        curvatures[i].append(vHv / vv)\n",
    "    "
   ]
  },
  {
   "cell_type": "code",
   "execution_count": 252,
   "id": "cad0581f",
   "metadata": {},
   "outputs": [
    {
     "data": {
      "image/png": "[encoded data removed]",
      "text/plain": [
       "<Figure size 864x576 with 12 Axes>"
      ]
     },
     "metadata": {
      "needs_background": "light"
     },
     "output_type": "display_data"
    }
   ],
   "source": [
    "plt.figure(figsize=(12, 8))\n",
    "\n",
    "for i in range(n):\n",
    "    plt.subplot(3, 4, i+1)\n",
    "    \n",
    "    _ = plt.hist(curvatures[i], bins=300)\n",
    "    plt.xscale('log')\n",
    "    plt.xlim(1, 1.1*np.max(curvatures[i]))\n",
    "    plt.title(\"loss: {:.4E}\".format(losses[i]))\n",
    "    plt.xlabel(\"vHv / vv\")\n",
    "\n",
    "plt.tight_layout()"
   ]
  },
  {
   "cell_type": "markdown",
   "id": "02b6d63d",
   "metadata": {},
   "source": [
    "### same but with sigmoid activations"
   ]
  },
  {
   "cell_type": "code",
   "execution_count": 253,
   "id": "6911a43d",
   "metadata": {},
   "outputs": [
    {
     "data": {
      "application/vnd.jupyter.widget-view+json": {
       "model_id": "4ea3cafc2b8346eaa0cf14b73a21fa9e",
       "version_major": 2,
       "version_minor": 0
      },
      "text/plain": [
       "  0%|          | 0/12 [00:00<?, ?it/s]"
      ]
     },
     "metadata": {},
     "output_type": "display_data"
    },
    {
     "name": "stdout",
     "output_type": "stream",
     "text": [
      "Warning: Desired error not necessarily achieved due to precision loss.\n",
      "         Current function value: 0.000001\n",
      "         Iterations: 1577\n",
      "         Function evaluations: 1841\n",
      "         Gradient evaluations: 1829\n",
      "8.294781561556235e-07\n"
     ]
    },
    {
     "data": {
      "application/vnd.jupyter.widget-view+json": {
       "model_id": "",
       "version_major": 2,
       "version_minor": 0
      },
      "text/plain": [
       "  0%|          | 0/5000 [00:00<?, ?it/s]"
      ]
     },
     "metadata": {},
     "output_type": "display_data"
    },
    {
     "name": "stdout",
     "output_type": "stream",
     "text": [
      "Warning: Desired error not necessarily achieved due to precision loss.\n",
      "         Current function value: 0.000000\n",
      "         Iterations: 931\n",
      "         Function evaluations: 1084\n",
      "         Gradient evaluations: 1072\n",
      "3.7481579295069014e-07\n"
     ]
    },
    {
     "data": {
      "application/vnd.jupyter.widget-view+json": {
       "model_id": "",
       "version_major": 2,
       "version_minor": 0
      },
      "text/plain": [
       "  0%|          | 0/5000 [00:00<?, ?it/s]"
      ]
     },
     "metadata": {},
     "output_type": "display_data"
    },
    {
     "name": "stdout",
     "output_type": "stream",
     "text": [
      "Warning: Desired error not necessarily achieved due to precision loss.\n",
      "         Current function value: 0.000000\n",
      "         Iterations: 1420\n",
      "         Function evaluations: 1680\n",
      "         Gradient evaluations: 1668\n",
      "2.0649109343722804e-07\n"
     ]
    },
    {
     "data": {
      "application/vnd.jupyter.widget-view+json": {
       "model_id": "",
       "version_major": 2,
       "version_minor": 0
      },
      "text/plain": [
       "  0%|          | 0/5000 [00:00<?, ?it/s]"
      ]
     },
     "metadata": {},
     "output_type": "display_data"
    },
    {
     "name": "stdout",
     "output_type": "stream",
     "text": [
      "Warning: Desired error not necessarily achieved due to precision loss.\n",
      "         Current function value: 0.000000\n",
      "         Iterations: 694\n",
      "         Function evaluations: 818\n",
      "         Gradient evaluations: 806\n",
      "2.9340592695131363e-07\n"
     ]
    },
    {
     "data": {
      "application/vnd.jupyter.widget-view+json": {
       "model_id": "",
       "version_major": 2,
       "version_minor": 0
      },
      "text/plain": [
       "  0%|          | 0/5000 [00:00<?, ?it/s]"
      ]
     },
     "metadata": {},
     "output_type": "display_data"
    },
    {
     "name": "stdout",
     "output_type": "stream",
     "text": [
      "Warning: Desired error not necessarily achieved due to precision loss.\n",
      "         Current function value: 0.000001\n",
      "         Iterations: 964\n",
      "         Function evaluations: 1125\n",
      "         Gradient evaluations: 1113\n",
      "8.291834059975975e-07\n"
     ]
    },
    {
     "data": {
      "application/vnd.jupyter.widget-view+json": {
       "model_id": "",
       "version_major": 2,
       "version_minor": 0
      },
      "text/plain": [
       "  0%|          | 0/5000 [00:00<?, ?it/s]"
      ]
     },
     "metadata": {},
     "output_type": "display_data"
    },
    {
     "name": "stdout",
     "output_type": "stream",
     "text": [
      "Warning: Desired error not necessarily achieved due to precision loss.\n",
      "         Current function value: 0.000002\n",
      "         Iterations: 922\n",
      "         Function evaluations: 1092\n",
      "         Gradient evaluations: 1080\n",
      "2.450815222549239e-06\n"
     ]
    },
    {
     "data": {
      "application/vnd.jupyter.widget-view+json": {
       "model_id": "",
       "version_major": 2,
       "version_minor": 0
      },
      "text/plain": [
       "  0%|          | 0/5000 [00:00<?, ?it/s]"
      ]
     },
     "metadata": {},
     "output_type": "display_data"
    },
    {
     "name": "stdout",
     "output_type": "stream",
     "text": [
      "Warning: Desired error not necessarily achieved due to precision loss.\n",
      "         Current function value: 0.000001\n",
      "         Iterations: 583\n",
      "         Function evaluations: 696\n",
      "         Gradient evaluations: 684\n",
      "5.939421124159126e-07\n"
     ]
    },
    {
     "data": {
      "application/vnd.jupyter.widget-view+json": {
       "model_id": "",
       "version_major": 2,
       "version_minor": 0
      },
      "text/plain": [
       "  0%|          | 0/5000 [00:00<?, ?it/s]"
      ]
     },
     "metadata": {},
     "output_type": "display_data"
    },
    {
     "name": "stdout",
     "output_type": "stream",
     "text": [
      "Warning: Desired error not necessarily achieved due to precision loss.\n",
      "         Current function value: 0.000000\n",
      "         Iterations: 584\n",
      "         Function evaluations: 692\n",
      "         Gradient evaluations: 680\n",
      "4.130858244576288e-07\n"
     ]
    },
    {
     "data": {
      "application/vnd.jupyter.widget-view+json": {
       "model_id": "",
       "version_major": 2,
       "version_minor": 0
      },
      "text/plain": [
       "  0%|          | 0/5000 [00:00<?, ?it/s]"
      ]
     },
     "metadata": {},
     "output_type": "display_data"
    },
    {
     "name": "stdout",
     "output_type": "stream",
     "text": [
      "Warning: Desired error not necessarily achieved due to precision loss.\n",
      "         Current function value: 0.000001\n",
      "         Iterations: 538\n",
      "         Function evaluations: 653\n",
      "         Gradient evaluations: 641\n",
      "5.31916713796474e-07\n"
     ]
    },
    {
     "data": {
      "application/vnd.jupyter.widget-view+json": {
       "model_id": "",
       "version_major": 2,
       "version_minor": 0
      },
      "text/plain": [
       "  0%|          | 0/5000 [00:00<?, ?it/s]"
      ]
     },
     "metadata": {},
     "output_type": "display_data"
    },
    {
     "name": "stdout",
     "output_type": "stream",
     "text": [
      "Warning: Desired error not necessarily achieved due to precision loss.\n",
      "         Current function value: 0.000001\n",
      "         Iterations: 1242\n",
      "         Function evaluations: 1456\n",
      "         Gradient evaluations: 1444\n",
      "5.704947001496297e-07\n"
     ]
    },
    {
     "data": {
      "application/vnd.jupyter.widget-view+json": {
       "model_id": "",
       "version_major": 2,
       "version_minor": 0
      },
      "text/plain": [
       "  0%|          | 0/5000 [00:00<?, ?it/s]"
      ]
     },
     "metadata": {},
     "output_type": "display_data"
    },
    {
     "name": "stdout",
     "output_type": "stream",
     "text": [
      "Warning: Desired error not necessarily achieved due to precision loss.\n",
      "         Current function value: 0.000001\n",
      "         Iterations: 1000\n",
      "         Function evaluations: 1131\n",
      "         Gradient evaluations: 1119\n",
      "8.037002153246846e-07\n"
     ]
    },
    {
     "data": {
      "application/vnd.jupyter.widget-view+json": {
       "model_id": "",
       "version_major": 2,
       "version_minor": 0
      },
      "text/plain": [
       "  0%|          | 0/5000 [00:00<?, ?it/s]"
      ]
     },
     "metadata": {},
     "output_type": "display_data"
    },
    {
     "name": "stdout",
     "output_type": "stream",
     "text": [
      "Warning: Desired error not necessarily achieved due to precision loss.\n",
      "         Current function value: 0.000001\n",
      "         Iterations: 826\n",
      "         Function evaluations: 1001\n",
      "         Gradient evaluations: 989\n",
      "7.672340831074277e-07\n"
     ]
    },
    {
     "data": {
      "application/vnd.jupyter.widget-view+json": {
       "model_id": "",
       "version_major": 2,
       "version_minor": 0
      },
      "text/plain": [
       "  0%|          | 0/5000 [00:00<?, ?it/s]"
      ]
     },
     "metadata": {},
     "output_type": "display_data"
    }
   ],
   "source": [
    "n = 12\n",
    "\n",
    "losses = []\n",
    "curvatures = defaultdict(list)\n",
    "\n",
    "for i in tqdm(range(n)):\n",
    "    \n",
    "    coeffs = (a, b, c, d, e, f) = np.random.uniform(low=-1.5, high=1.5, size=(6,))\n",
    "    x_i = np.random.uniform(low=-1, high=1, size=(50000, 1))\n",
    "    y_i = a + b*np.power(x_i, 1) + c*np.power(x_i, 2) + d*np.power(x_i, 3) + e*np.power(x_i, 4) + f*np.power(x_i, 5)\n",
    "    \n",
    "    x_i = torch.from_numpy(x_i).to(device)\n",
    "    y_i = torch.from_numpy(y_i).to(device)\n",
    "    \n",
    "    width = 20\n",
    "    mlp = nn.Sequential(\n",
    "        nn.Linear(1, width),\n",
    "        nn.Sigmoid(),\n",
    "        nn.Linear(width, width),\n",
    "        nn.Sigmoid(),\n",
    "        nn.Linear(width, 1)\n",
    "    ).to(device)\n",
    "\n",
    "    params = []\n",
    "    shapes = []\n",
    "    lenghts = []\n",
    "    for param in mlp.parameters():\n",
    "        param_np = param.data.detach().clone().cpu().numpy()\n",
    "        shapes.append(param_np.shape)\n",
    "        param_np_flat = param_np.flatten()\n",
    "        lenghts.append(len(param_np_flat))\n",
    "        params.append(param_np_flat)\n",
    "\n",
    "    param_vector = np.concatenate(params)\n",
    "    \n",
    "    result = optimize.minimize(loss,\n",
    "                           param_vector, \n",
    "                           args=(lenghts, shapes, mlp, rmse_loss_fn_torch, x_i, y_i, device),\n",
    "                           jac=gradient,\n",
    "                           method='BFGS',\n",
    "                           options={\n",
    "                               'disp': True,\n",
    "                               'gtol': 1e-18,\n",
    "                               'maxiter': 25000,\n",
    "#                                'finite_diff_rel_step': 1e-15\n",
    "                           },\n",
    "                        )\n",
    "\n",
    "    l = 0\n",
    "    for j, param in enumerate(mlp.parameters()):\n",
    "        param_data = result.x[l:l+lenghts[j]]\n",
    "        l += lenghts[j]\n",
    "        param_data_shaped = param_data.reshape(shapes[j])\n",
    "        param.data = torch.tensor(param_data_shaped).to(device)\n",
    "\n",
    "    l = rmse_loss_fn_torch(mlp(x_i), y_i).item()\n",
    "    print(l)\n",
    "    losses.append(l)\n",
    "    mlp.zero_grad()\n",
    "    \n",
    "    for _ in tqdm(range(5000), leave=False):\n",
    "        v = tuple(torch.randn(p.shape).to(device) for p in mlp.parameters())\n",
    "        Hv = hvp_autograd(mlp, v, rmse_loss_fn_torch, x_i, y_i)\n",
    "        vHv = dot_prod(v, Hv)\n",
    "        vv = dot_prod(v, v)\n",
    "        curvatures[i].append(vHv / vv)\n",
    "    "
   ]
  },
  {
   "cell_type": "code",
   "execution_count": 254,
   "id": "d0d56106",
   "metadata": {},
   "outputs": [
    {
     "data": {
      "image/png": "[encoded data removed]",
      "text/plain": [
       "<Figure size 864x576 with 12 Axes>"
      ]
     },
     "metadata": {
      "needs_background": "light"
     },
     "output_type": "display_data"
    }
   ],
   "source": [
    "plt.figure(figsize=(12, 8))\n",
    "\n",
    "for i in range(n):\n",
    "    plt.subplot(3, 4, i+1)\n",
    "    \n",
    "    _ = plt.hist(curvatures[i], bins=300)\n",
    "    plt.xscale('log')\n",
    "    plt.xlim(1, 1.1*np.max(curvatures[i]))\n",
    "    plt.title(\"loss: {:.4E}\".format(losses[i]))\n",
    "    plt.xlabel(\"vHv / vv\")\n",
    "\n",
    "plt.tight_layout()"
   ]
  },
  {
   "cell_type": "markdown",
   "id": "5d91e92d",
   "metadata": {},
   "source": [
    "### Let's try a different network width"
   ]
  },
  {
   "cell_type": "code",
   "execution_count": 255,
   "id": "e8d6e496",
   "metadata": {},
   "outputs": [
    {
     "data": {
      "application/vnd.jupyter.widget-view+json": {
       "model_id": "e93ecf50f597476d9bfe4eb952d25b09",
       "version_major": 2,
       "version_minor": 0
      },
      "text/plain": [
       "  0%|          | 0/12 [00:00<?, ?it/s]"
      ]
     },
     "metadata": {},
     "output_type": "display_data"
    },
    {
     "name": "stdout",
     "output_type": "stream",
     "text": [
      "Warning: Desired error not necessarily achieved due to precision loss.\n",
      "         Current function value: 0.000000\n",
      "         Iterations: 849\n",
      "         Function evaluations: 995\n",
      "         Gradient evaluations: 983\n",
      "1.4312182217831716e-07\n"
     ]
    },
    {
     "data": {
      "application/vnd.jupyter.widget-view+json": {
       "model_id": "",
       "version_major": 2,
       "version_minor": 0
      },
      "text/plain": [
       "  0%|          | 0/1000 [00:00<?, ?it/s]"
      ]
     },
     "metadata": {},
     "output_type": "display_data"
    },
    {
     "name": "stdout",
     "output_type": "stream",
     "text": [
      "Warning: Desired error not necessarily achieved due to precision loss.\n",
      "         Current function value: 0.000000\n",
      "         Iterations: 577\n",
      "         Function evaluations: 679\n",
      "         Gradient evaluations: 667\n",
      "3.339647975011971e-07\n"
     ]
    },
    {
     "data": {
      "application/vnd.jupyter.widget-view+json": {
       "model_id": "",
       "version_major": 2,
       "version_minor": 0
      },
      "text/plain": [
       "  0%|          | 0/1000 [00:00<?, ?it/s]"
      ]
     },
     "metadata": {},
     "output_type": "display_data"
    },
    {
     "name": "stdout",
     "output_type": "stream",
     "text": [
      "Warning: Desired error not necessarily achieved due to precision loss.\n",
      "         Current function value: 0.000000\n",
      "         Iterations: 857\n",
      "         Function evaluations: 1013\n",
      "         Gradient evaluations: 1001\n",
      "4.6835708703147126e-07\n"
     ]
    },
    {
     "data": {
      "application/vnd.jupyter.widget-view+json": {
       "model_id": "",
       "version_major": 2,
       "version_minor": 0
      },
      "text/plain": [
       "  0%|          | 0/1000 [00:00<?, ?it/s]"
      ]
     },
     "metadata": {},
     "output_type": "display_data"
    },
    {
     "name": "stdout",
     "output_type": "stream",
     "text": [
      "Warning: Desired error not necessarily achieved due to precision loss.\n",
      "         Current function value: 0.000000\n",
      "         Iterations: 578\n",
      "         Function evaluations: 702\n",
      "         Gradient evaluations: 690\n",
      "2.549000434298225e-07\n"
     ]
    },
    {
     "data": {
      "application/vnd.jupyter.widget-view+json": {
       "model_id": "",
       "version_major": 2,
       "version_minor": 0
      },
      "text/plain": [
       "  0%|          | 0/1000 [00:00<?, ?it/s]"
      ]
     },
     "metadata": {},
     "output_type": "display_data"
    },
    {
     "name": "stdout",
     "output_type": "stream",
     "text": [
      "Warning: Desired error not necessarily achieved due to precision loss.\n",
      "         Current function value: 0.000001\n",
      "         Iterations: 564\n",
      "         Function evaluations: 682\n",
      "         Gradient evaluations: 670\n",
      "5.010896825099174e-07\n"
     ]
    },
    {
     "data": {
      "application/vnd.jupyter.widget-view+json": {
       "model_id": "",
       "version_major": 2,
       "version_minor": 0
      },
      "text/plain": [
       "  0%|          | 0/1000 [00:00<?, ?it/s]"
      ]
     },
     "metadata": {},
     "output_type": "display_data"
    },
    {
     "name": "stdout",
     "output_type": "stream",
     "text": [
      "Warning: Desired error not necessarily achieved due to precision loss.\n",
      "         Current function value: 0.000000\n",
      "         Iterations: 771\n",
      "         Function evaluations: 905\n",
      "         Gradient evaluations: 893\n",
      "8.81608306108174e-08\n"
     ]
    },
    {
     "data": {
      "application/vnd.jupyter.widget-view+json": {
       "model_id": "",
       "version_major": 2,
       "version_minor": 0
      },
      "text/plain": [
       "  0%|          | 0/1000 [00:00<?, ?it/s]"
      ]
     },
     "metadata": {},
     "output_type": "display_data"
    },
    {
     "name": "stdout",
     "output_type": "stream",
     "text": [
      "Warning: Desired error not necessarily achieved due to precision loss.\n",
      "         Current function value: 0.000000\n",
      "         Iterations: 1134\n",
      "         Function evaluations: 1329\n",
      "         Gradient evaluations: 1317\n",
      "1.3908726140155053e-07\n"
     ]
    },
    {
     "data": {
      "application/vnd.jupyter.widget-view+json": {
       "model_id": "",
       "version_major": 2,
       "version_minor": 0
      },
      "text/plain": [
       "  0%|          | 0/1000 [00:00<?, ?it/s]"
      ]
     },
     "metadata": {},
     "output_type": "display_data"
    },
    {
     "name": "stdout",
     "output_type": "stream",
     "text": [
      "Warning: Desired error not necessarily achieved due to precision loss.\n",
      "         Current function value: 0.000000\n",
      "         Iterations: 940\n",
      "         Function evaluations: 1103\n",
      "         Gradient evaluations: 1091\n",
      "4.5958402511330583e-07\n"
     ]
    },
    {
     "data": {
      "application/vnd.jupyter.widget-view+json": {
       "model_id": "",
       "version_major": 2,
       "version_minor": 0
      },
      "text/plain": [
       "  0%|          | 0/1000 [00:00<?, ?it/s]"
      ]
     },
     "metadata": {},
     "output_type": "display_data"
    },
    {
     "name": "stdout",
     "output_type": "stream",
     "text": [
      "Warning: Desired error not necessarily achieved due to precision loss.\n",
      "         Current function value: 0.000000\n",
      "         Iterations: 813\n",
      "         Function evaluations: 955\n",
      "         Gradient evaluations: 943\n",
      "4.1995286947877593e-07\n"
     ]
    },
    {
     "data": {
      "application/vnd.jupyter.widget-view+json": {
       "model_id": "",
       "version_major": 2,
       "version_minor": 0
      },
      "text/plain": [
       "  0%|          | 0/1000 [00:00<?, ?it/s]"
      ]
     },
     "metadata": {},
     "output_type": "display_data"
    },
    {
     "name": "stdout",
     "output_type": "stream",
     "text": [
      "Warning: Desired error not necessarily achieved due to precision loss.\n",
      "         Current function value: 0.000000\n",
      "         Iterations: 1256\n",
      "         Function evaluations: 1453\n",
      "         Gradient evaluations: 1441\n",
      "3.6428431018038725e-07\n"
     ]
    },
    {
     "data": {
      "application/vnd.jupyter.widget-view+json": {
       "model_id": "",
       "version_major": 2,
       "version_minor": 0
      },
      "text/plain": [
       "  0%|          | 0/1000 [00:00<?, ?it/s]"
      ]
     },
     "metadata": {},
     "output_type": "display_data"
    },
    {
     "name": "stdout",
     "output_type": "stream",
     "text": [
      "Warning: Desired error not necessarily achieved due to precision loss.\n",
      "         Current function value: 0.000001\n",
      "         Iterations: 790\n",
      "         Function evaluations: 914\n",
      "         Gradient evaluations: 902\n",
      "1.3318809165741076e-06\n"
     ]
    },
    {
     "data": {
      "application/vnd.jupyter.widget-view+json": {
       "model_id": "",
       "version_major": 2,
       "version_minor": 0
      },
      "text/plain": [
       "  0%|          | 0/1000 [00:00<?, ?it/s]"
      ]
     },
     "metadata": {},
     "output_type": "display_data"
    },
    {
     "name": "stdout",
     "output_type": "stream",
     "text": [
      "Warning: Desired error not necessarily achieved due to precision loss.\n",
      "         Current function value: 0.000001\n",
      "         Iterations: 756\n",
      "         Function evaluations: 906\n",
      "         Gradient evaluations: 894\n",
      "7.416190122375621e-07\n"
     ]
    },
    {
     "data": {
      "application/vnd.jupyter.widget-view+json": {
       "model_id": "",
       "version_major": 2,
       "version_minor": 0
      },
      "text/plain": [
       "  0%|          | 0/1000 [00:00<?, ?it/s]"
      ]
     },
     "metadata": {},
     "output_type": "display_data"
    }
   ],
   "source": [
    "n = 12\n",
    "\n",
    "losses = []\n",
    "curvatures = defaultdict(list)\n",
    "\n",
    "for i in tqdm(range(n)):\n",
    "    \n",
    "    coeffs = (a, b, c, d, e, f) = np.random.uniform(low=-1.5, high=1.5, size=(6,))\n",
    "    x_i = np.random.uniform(low=-1, high=1, size=(50000, 1))\n",
    "    y_i = a + b*np.power(x_i, 1) + c*np.power(x_i, 2) + d*np.power(x_i, 3) + e*np.power(x_i, 4) + f*np.power(x_i, 5)\n",
    "    \n",
    "    x_i = torch.from_numpy(x_i).to(device)\n",
    "    y_i = torch.from_numpy(y_i).to(device)\n",
    "    \n",
    "    width = 10\n",
    "    mlp = nn.Sequential(\n",
    "        nn.Linear(1, width),\n",
    "        nn.Tanh(),\n",
    "        nn.Linear(width, width),\n",
    "        nn.Tanh(),\n",
    "        nn.Linear(width, 1)\n",
    "    ).to(device)\n",
    "\n",
    "    params = []\n",
    "    shapes = []\n",
    "    lenghts = []\n",
    "    for param in mlp.parameters():\n",
    "        param_np = param.data.detach().clone().cpu().numpy()\n",
    "        shapes.append(param_np.shape)\n",
    "        param_np_flat = param_np.flatten()\n",
    "        lenghts.append(len(param_np_flat))\n",
    "        params.append(param_np_flat)\n",
    "\n",
    "    param_vector = np.concatenate(params)\n",
    "    \n",
    "    result = optimize.minimize(loss,\n",
    "                           param_vector, \n",
    "                           args=(lenghts, shapes, mlp, rmse_loss_fn_torch, x_i, y_i, device),\n",
    "                           jac=gradient,\n",
    "                           method='BFGS',\n",
    "                           options={\n",
    "                               'disp': True,\n",
    "                               'gtol': 1e-18,\n",
    "                               'maxiter': 25000,\n",
    "#                                'finite_diff_rel_step': 1e-15\n",
    "                           },\n",
    "                        )\n",
    "\n",
    "    l = 0\n",
    "    for j, param in enumerate(mlp.parameters()):\n",
    "        param_data = result.x[l:l+lenghts[j]]\n",
    "        l += lenghts[j]\n",
    "        param_data_shaped = param_data.reshape(shapes[j])\n",
    "        param.data = torch.tensor(param_data_shaped).to(device)\n",
    "\n",
    "    l = rmse_loss_fn_torch(mlp(x_i), y_i).item()\n",
    "    print(l)\n",
    "    losses.append(l)\n",
    "    mlp.zero_grad()\n",
    "    \n",
    "    for _ in tqdm(range(1000), leave=False):\n",
    "        v = tuple(torch.randn(p.shape).to(device) for p in mlp.parameters())\n",
    "        Hv = hvp_autograd(mlp, v, rmse_loss_fn_torch, x_i, y_i)\n",
    "        vHv = dot_prod(v, Hv)\n",
    "        vv = dot_prod(v, v)\n",
    "        curvatures[i].append(vHv / vv)\n",
    "    "
   ]
  },
  {
   "cell_type": "code",
   "execution_count": 256,
   "id": "ca4a0227",
   "metadata": {},
   "outputs": [
    {
     "data": {
      "image/png": "[encoded data removed]",
      "text/plain": [
       "<Figure size 864x576 with 12 Axes>"
      ]
     },
     "metadata": {
      "needs_background": "light"
     },
     "output_type": "display_data"
    }
   ],
   "source": [
    "plt.figure(figsize=(12, 8))\n",
    "\n",
    "for i in range(n):\n",
    "    plt.subplot(3, 4, i+1)\n",
    "    \n",
    "    _ = plt.hist(curvatures[i], bins=300)\n",
    "    plt.xscale('log')\n",
    "    plt.xlim(1, 1.1*np.max(curvatures[i]))\n",
    "    plt.title(\"loss: {:.4E}\".format(losses[i]))\n",
    "    plt.xlabel(\"vHv / vv\")\n",
    "\n",
    "plt.tight_layout()"
   ]
  },
  {
   "cell_type": "code",
   "execution_count": 269,
   "id": "bbbb4c2f",
   "metadata": {},
   "outputs": [
    {
     "data": {
      "text/plain": [
       "(1e-09, 1e-05)"
      ]
     },
     "execution_count": 269,
     "metadata": {},
     "output_type": "execute_result"
    },
    {
     "data": {
      "image/png": "[encoded data removed]",
      "text/plain": [
       "<Figure size 432x288 with 1 Axes>"
      ]
     },
     "metadata": {
      "needs_background": "light"
     },
     "output_type": "display_data"
    }
   ],
   "source": [
    "plt.plot(losses, [\"blah\"+str(i) for i in range(len(losses))], 'o')\n",
    "plt.plot([l * 0.5 for l in losses], [\"blah\"+str(i) for i in range(len(losses))], 'o')\n",
    "plt.xscale('log')\n",
    "plt.xlim(1e-9, 1e-5)"
   ]
  },
  {
   "cell_type": "code",
   "execution_count": 270,
   "id": "699d942a",
   "metadata": {},
   "outputs": [],
   "source": [
    "import json"
   ]
  },
  {
   "cell_type": "code",
   "execution_count": 349,
   "id": "cf325849",
   "metadata": {},
   "outputs": [],
   "source": [
    "with open(\"../data/1/info.json\", \"r\") as f:\n",
    "    data = json.load(f)\n",
    "with open(\"../data/1/config.json\", \"r\") as f:\n",
    "    config = json.load(f)"
   ]
  },
  {
   "cell_type": "code",
   "execution_count": 350,
   "id": "1242b90c",
   "metadata": {},
   "outputs": [],
   "source": [
    "def key_to_tuple(key):\n",
    "    width, depth, activation, trial = key.split('::')\n",
    "    width = int(width)\n",
    "    depth = int(depth)\n",
    "    activation = activation.split('.')[-1][:-2]\n",
    "    trial = int(trial)\n",
    "    return (width, depth, activation, trial)\n",
    "\n",
    "def tuple_to_desc(desc_tup):\n",
    "    width, depth, activation, trial = desc_tup\n",
    "    return f\"w{width}d{depth}{activation}\""
   ]
  },
  {
   "cell_type": "code",
   "execution_count": 367,
   "id": "91f4aeba",
   "metadata": {},
   "outputs": [],
   "source": [
    "d = [(key_to_tuple(key), value) for key, value in data.items()]\n",
    "# d.sort(key=lambda t: t[0][0] + 100*t[0][1], reverse=True)\n",
    "d.sort(key=lambda t: t[0][2]+str(t[0][1]), reverse=True)\n",
    "d = list(filter(lambda t: t[0][0] != 5, d))"
   ]
  },
  {
   "cell_type": "code",
   "execution_count": 368,
   "id": "7f8fe8ce",
   "metadata": {},
   "outputs": [
    {
     "data": {
      "text/plain": [
       "Text(0.5, 0, 'RMSE loss')"
      ]
     },
     "execution_count": 368,
     "metadata": {},
     "output_type": "execute_result"
    },
    {
     "data": {
      "image/png": "[encoded data removed]",
      "text/plain": [
       "<Figure size 576x720 with 1 Axes>"
      ]
     },
     "metadata": {
      "needs_background": "light"
     },
     "output_type": "display_data"
    }
   ],
   "source": [
    "plt.figure(figsize=(8, 10))\n",
    "\n",
    "descs = [tuple_to_desc(desc_tup) for desc_tup, v in d]\n",
    "values = [v for desc_tup, v in d]\n",
    "plt.plot(values, descs, 'o')\n",
    "plt.xscale('log')\n",
    "plt.xlim(1e-9, 1e-2)\n",
    "\n",
    "plt.title(\"Fitting random degree-5 polynomials\")\n",
    "plt.xlabel(\"RMSE loss\")"
   ]
  },
  {
   "cell_type": "markdown",
   "id": "34282bfb",
   "metadata": {},
   "source": [
    "### Let's see if we can jump to the bottom with curvature-based GD step sizes after BFGS finishes"
   ]
  },
  {
   "cell_type": "code",
   "execution_count": 585,
   "id": "5b4a829f",
   "metadata": {},
   "outputs": [],
   "source": [
    "coeffs = (a, b, c, d, e, f) = np.random.uniform(low=-1.5, high=1.5, size=(6,))\n",
    "x_i = np.random.uniform(low=-1, high=1, size=(100000, 1))\n",
    "y_i = a + b*np.power(x_i, 1) + c*np.power(x_i, 2) + d*np.power(x_i, 3) + e*np.power(x_i, 4) + f*np.power(x_i, 5)\n",
    "\n",
    "x_i = torch.from_numpy(x_i).to(device)\n",
    "y_i = torch.from_numpy(y_i).to(device)"
   ]
  },
  {
   "cell_type": "code",
   "execution_count": 586,
   "id": "7d27e449",
   "metadata": {},
   "outputs": [],
   "source": [
    "width = 20\n",
    "mlp = nn.Sequential(\n",
    "    nn.Linear(1, width),\n",
    "    nn.Tanh(),\n",
    "    nn.Linear(width, width),\n",
    "    nn.Tanh(),\n",
    "    nn.Linear(width, 1)\n",
    ").to(device)\n",
    "\n",
    "params = []\n",
    "shapes = []\n",
    "lenghts = []\n",
    "for param in mlp.parameters():\n",
    "    param_np = param.data.detach().clone().cpu().numpy()\n",
    "    shapes.append(param_np.shape)\n",
    "    param_np_flat = param_np.flatten()\n",
    "    lenghts.append(len(param_np_flat))\n",
    "    params.append(param_np_flat)\n",
    "\n",
    "param_vector = np.concatenate(params)"
   ]
  },
  {
   "cell_type": "code",
   "execution_count": 587,
   "id": "dc89ee8b",
   "metadata": {},
   "outputs": [
    {
     "name": "stdout",
     "output_type": "stream",
     "text": [
      "Warning: Desired error not necessarily achieved due to precision loss.\n",
      "         Current function value: 0.000000\n",
      "         Iterations: 732\n",
      "         Function evaluations: 883\n",
      "         Gradient evaluations: 871\n"
     ]
    }
   ],
   "source": [
    "\n",
    "result = optimize.minimize(loss,\n",
    "                       param_vector, \n",
    "                       args=(lenghts, shapes, mlp, rmse_loss_fn_torch, x_i, y_i, device),\n",
    "                       jac=gradient,\n",
    "                       method='BFGS',\n",
    "                       options={\n",
    "                           'disp': True,\n",
    "                           'gtol': 1e-18,\n",
    "                           'maxiter': 25000,\n",
    "#                                'finite_diff_rel_step': 1e-15\n",
    "                       },\n",
    "                    )\n"
   ]
  },
  {
   "cell_type": "code",
   "execution_count": 588,
   "id": "2fabe31a",
   "metadata": {},
   "outputs": [
    {
     "name": "stdout",
     "output_type": "stream",
     "text": [
      "1.905550421036539e-07\n"
     ]
    }
   ],
   "source": [
    "l = 0\n",
    "for j, param in enumerate(mlp.parameters()):\n",
    "    param_data = result.x[l:l+lenghts[j]]\n",
    "    l += lenghts[j]\n",
    "    param_data_shaped = param_data.reshape(shapes[j])\n",
    "    param.data = torch.tensor(param_data_shaped).to(device)\n",
    "\n",
    "l = rmse_loss_fn_torch(mlp(x_i), y_i).item()\n",
    "print(l)\n",
    "mlp.zero_grad()"
   ]
  },
  {
   "cell_type": "code",
   "execution_count": 589,
   "id": "bbcff3c2",
   "metadata": {},
   "outputs": [],
   "source": [
    "saved_params = [deepcopy(param.data.detach().clone()) for param in mlp.parameters()]"
   ]
  },
  {
   "cell_type": "markdown",
   "id": "447f945b",
   "metadata": {},
   "source": [
    "### reset point"
   ]
  },
  {
   "cell_type": "code",
   "execution_count": 608,
   "id": "e0fbf0ec",
   "metadata": {},
   "outputs": [
    {
     "name": "stdout",
     "output_type": "stream",
     "text": [
      "1.905550421036539e-07\n"
     ]
    }
   ],
   "source": [
    "# revert to saved params\n",
    "for i, param in enumerate(mlp.parameters()):\n",
    "    param.data = saved_params[i].clone()\n",
    "l = rmse_loss_fn_torch(mlp(x_i), y_i).item()\n",
    "print(l)"
   ]
  },
  {
   "cell_type": "code",
   "execution_count": 609,
   "id": "c2a72c76",
   "metadata": {},
   "outputs": [
    {
     "data": {
      "application/vnd.jupyter.widget-view+json": {
       "model_id": "cb16e69ebeb74c8d9ffbda177e5c3db7",
       "version_major": 2,
       "version_minor": 0
      },
      "text/plain": [
       "  0%|          | 0/2000 [00:00<?, ?it/s]"
      ]
     },
     "metadata": {},
     "output_type": "display_data"
    }
   ],
   "source": [
    "losses = []\n",
    "ggs = []\n",
    "lrs = []\n",
    "g_abs_means = []\n",
    "\n",
    "prev_g = None\n",
    "prev_d = None\n",
    "for i in tqdm(range(2000)):\n",
    "    mlp.zero_grad()\n",
    "    l = rmse_loss_fn_torch(mlp(x_i), y_i)\n",
    "    l.backward()\n",
    "    g = tuple(p.grad.detach().clone() for p in mlp.parameters())\n",
    "    if prev_g is None:\n",
    "        d = tuple(-g_i for g_i in g)\n",
    "    else:\n",
    "        beta = dot_prod(g, g) / dot_prod(prev_g, prev_g)\n",
    "        d = tuple(-g[i] + beta * prev_d[i] for i in range(len(g)))\n",
    "    Hd = hvp_autograd(mlp, d, rmse_loss_fn_torch, x_i, y_i)\n",
    "    dHd = dot_prod(d, Hd)\n",
    "    gd = dot_prod(g, d)\n",
    "    lr = - gd / dHd\n",
    "    ggs.append(dot_prod(g, g))\n",
    "    g_abs_mean = sum(torch.sum(torch.abs(g_i)) for g_i in g) / len(param_vector)\n",
    "    g_abs_means.append(g_abs_mean)\n",
    "    lrs.append(lr)\n",
    "    with torch.no_grad():\n",
    "        for j, p in enumerate(mlp.parameters()):\n",
    "            p.add_(lr * d[j])\n",
    "    prev_g = tuple(g_i.detach().clone() for g_i in g)\n",
    "    prev_d = tuple(d_i.detach().clone() for d_i in d)\n",
    "    losses.append(l.item())"
   ]
  },
  {
   "cell_type": "code",
   "execution_count": 600,
   "id": "96ff1121",
   "metadata": {},
   "outputs": [
    {
     "data": {
      "text/plain": [
       "Text(0, 0.5, 'RMSE loss')"
      ]
     },
     "execution_count": 600,
     "metadata": {},
     "output_type": "execute_result"
    },
    {
     "data": {
      "image/png": "[encoded data removed]",
      "text/plain": [
       "<Figure size 432x288 with 1 Axes>"
      ]
     },
     "metadata": {
      "needs_background": "light"
     },
     "output_type": "display_data"
    }
   ],
   "source": [
    "plt.plot(losses)\n",
    "plt.yscale('log')\n",
    "plt.xlabel(\"CG steps to finish off training\")\n",
    "plt.ylabel('RMSE loss')"
   ]
  },
  {
   "cell_type": "code",
   "execution_count": 601,
   "id": "54b0271f",
   "metadata": {},
   "outputs": [
    {
     "data": {
      "text/plain": [
       "Text(0.5, 0, 'CG steps to finish off training')"
      ]
     },
     "execution_count": 601,
     "metadata": {},
     "output_type": "execute_result"
    },
    {
     "data": {
      "image/png": "[encoded data removed]",
      "text/plain": [
       "<Figure size 432x288 with 1 Axes>"
      ]
     },
     "metadata": {
      "needs_background": "light"
     },
     "output_type": "display_data"
    }
   ],
   "source": [
    "plt.plot(ggs)\n",
    "plt.yscale('log')\n",
    "plt.ylabel(\"|g|^2\")\n",
    "plt.xlabel(\"CG steps to finish off training\")"
   ]
  },
  {
   "cell_type": "code",
   "execution_count": 603,
   "id": "63caf538",
   "metadata": {},
   "outputs": [
    {
     "data": {
      "image/png": "[encoded data removed]",
      "text/plain": [
       "<Figure size 432x288 with 1 Axes>"
      ]
     },
     "metadata": {
      "needs_background": "light"
     },
     "output_type": "display_data"
    }
   ],
   "source": [
    "plt.plot(lrs)\n",
    "plt.yscale('log')"
   ]
  },
  {
   "cell_type": "code",
   "execution_count": 606,
   "id": "2a1191bf",
   "metadata": {},
   "outputs": [
    {
     "data": {
      "image/png": "[encoded data removed]",
      "text/plain": [
       "<Figure size 432x288 with 1 Axes>"
      ]
     },
     "metadata": {
      "needs_background": "light"
     },
     "output_type": "display_data"
    }
   ],
   "source": [
    "step_magnitudes = np.array(lrs) * np.sqrt(np.array(ggs))\n",
    "plt.plot(step_magnitudes)\n",
    "plt.yscale('log')"
   ]
  },
  {
   "cell_type": "markdown",
   "id": "475f8f4f",
   "metadata": {},
   "source": [
    "### same but for a teacher network target function"
   ]
  },
  {
   "cell_type": "code",
   "execution_count": 617,
   "id": "bfe72958",
   "metadata": {},
   "outputs": [],
   "source": [
    "x_i = np.random.uniform(low=-1, high=1, size=(100000, 1))\n",
    "x_i = torch.from_numpy(x_i).to(device)\n",
    "\n",
    "teacher = nn.Sequential(\n",
    "    nn.Linear(1, 3),\n",
    "    nn.Tanh(),\n",
    "    nn.Linear(3, 3),\n",
    "    nn.Tanh(),\n",
    "    nn.Linear(3, 1)\n",
    ").to(device)\n",
    "\n",
    "with torch.no_grad():\n",
    "    y_i = teacher(x_i)"
   ]
  },
  {
   "cell_type": "code",
   "execution_count": 618,
   "id": "c027630b",
   "metadata": {},
   "outputs": [],
   "source": [
    "width = 20\n",
    "mlp = nn.Sequential(\n",
    "    nn.Linear(1, width),\n",
    "    nn.Tanh(),\n",
    "    nn.Linear(width, width),\n",
    "    nn.Tanh(),\n",
    "    nn.Linear(width, 1)\n",
    ").to(device)\n",
    "\n",
    "params = []\n",
    "shapes = []\n",
    "lenghts = []\n",
    "for param in mlp.parameters():\n",
    "    param_np = param.data.detach().clone().cpu().numpy()\n",
    "    shapes.append(param_np.shape)\n",
    "    param_np_flat = param_np.flatten()\n",
    "    lenghts.append(len(param_np_flat))\n",
    "    params.append(param_np_flat)\n",
    "\n",
    "param_vector = np.concatenate(params)"
   ]
  },
  {
   "cell_type": "code",
   "execution_count": 619,
   "id": "777d38a6",
   "metadata": {},
   "outputs": [
    {
     "name": "stdout",
     "output_type": "stream",
     "text": [
      "Warning: Desired error not necessarily achieved due to precision loss.\n",
      "         Current function value: 0.000000\n",
      "         Iterations: 359\n",
      "         Function evaluations: 455\n",
      "         Gradient evaluations: 443\n"
     ]
    }
   ],
   "source": [
    "\n",
    "result = optimize.minimize(loss,\n",
    "                       param_vector, \n",
    "                       args=(lenghts, shapes, mlp, rmse_loss_fn_torch, x_i, y_i, device),\n",
    "                       jac=gradient,\n",
    "                       method='BFGS',\n",
    "                       options={\n",
    "                           'disp': True,\n",
    "                           'gtol': 1e-18,\n",
    "                           'maxiter': 25000,\n",
    "#                                'finite_diff_rel_step': 1e-15\n",
    "                       },\n",
    "                    )\n"
   ]
  },
  {
   "cell_type": "code",
   "execution_count": 620,
   "id": "c1aaa10f",
   "metadata": {},
   "outputs": [
    {
     "name": "stdout",
     "output_type": "stream",
     "text": [
      "3.8369782809831305e-09\n"
     ]
    }
   ],
   "source": [
    "l = 0\n",
    "for j, param in enumerate(mlp.parameters()):\n",
    "    param_data = result.x[l:l+lenghts[j]]\n",
    "    l += lenghts[j]\n",
    "    param_data_shaped = param_data.reshape(shapes[j])\n",
    "    param.data = torch.tensor(param_data_shaped).to(device)\n",
    "\n",
    "l = rmse_loss_fn_torch(mlp(x_i), y_i).item()\n",
    "print(l)\n",
    "mlp.zero_grad()"
   ]
  },
  {
   "cell_type": "code",
   "execution_count": 621,
   "id": "85c48f35",
   "metadata": {},
   "outputs": [],
   "source": [
    "saved_params = [deepcopy(param.data.detach().clone()) for param in mlp.parameters()]"
   ]
  },
  {
   "cell_type": "code",
   "execution_count": 622,
   "id": "701a9cf9",
   "metadata": {},
   "outputs": [
    {
     "name": "stdout",
     "output_type": "stream",
     "text": [
      "3.8369782809831305e-09\n"
     ]
    }
   ],
   "source": [
    "# revert to saved params\n",
    "for i, param in enumerate(mlp.parameters()):\n",
    "    param.data = saved_params[i].clone()\n",
    "l = rmse_loss_fn_torch(mlp(x_i), y_i).item()\n",
    "print(l)"
   ]
  },
  {
   "cell_type": "code",
   "execution_count": 623,
   "id": "0467bd8f",
   "metadata": {},
   "outputs": [
    {
     "data": {
      "application/vnd.jupyter.widget-view+json": {
       "model_id": "437abfe67f0d4055b8a60f3bde195640",
       "version_major": 2,
       "version_minor": 0
      },
      "text/plain": [
       "  0%|          | 0/2000 [00:00<?, ?it/s]"
      ]
     },
     "metadata": {},
     "output_type": "display_data"
    }
   ],
   "source": [
    "losses = []\n",
    "ggs = []\n",
    "lrs = []\n",
    "g_abs_means = []\n",
    "\n",
    "prev_g = None\n",
    "prev_d = None\n",
    "for i in tqdm(range(2000)):\n",
    "    mlp.zero_grad()\n",
    "    l = rmse_loss_fn_torch(mlp(x_i), y_i)\n",
    "    l.backward()\n",
    "    g = tuple(p.grad.detach().clone() for p in mlp.parameters())\n",
    "    if prev_g is None:\n",
    "        d = tuple(-g_i for g_i in g)\n",
    "    else:\n",
    "        beta = dot_prod(g, g) / dot_prod(prev_g, prev_g)\n",
    "        d = tuple(-g[i] + beta * prev_d[i] for i in range(len(g)))\n",
    "    Hd = hvp_autograd(mlp, d, rmse_loss_fn_torch, x_i, y_i)\n",
    "    dHd = dot_prod(d, Hd)\n",
    "    gd = dot_prod(g, d)\n",
    "    lr = - gd / dHd\n",
    "    ggs.append(dot_prod(g, g))\n",
    "    g_abs_mean = sum(torch.sum(torch.abs(g_i)) for g_i in g) / len(param_vector)\n",
    "    g_abs_means.append(g_abs_mean)\n",
    "    lrs.append(lr)\n",
    "    with torch.no_grad():\n",
    "        for j, p in enumerate(mlp.parameters()):\n",
    "            p.add_(lr * d[j])\n",
    "    prev_g = tuple(g_i.detach().clone() for g_i in g)\n",
    "    prev_d = tuple(d_i.detach().clone() for d_i in d)\n",
    "    losses.append(l.item())"
   ]
  },
  {
   "cell_type": "code",
   "execution_count": 624,
   "id": "625c59b2",
   "metadata": {},
   "outputs": [
    {
     "data": {
      "text/plain": [
       "Text(0, 0.5, 'RMSE loss')"
      ]
     },
     "execution_count": 624,
     "metadata": {},
     "output_type": "execute_result"
    },
    {
     "data": {
      "image/png": "[encoded data removed]",
      "text/plain": [
       "<Figure size 432x288 with 1 Axes>"
      ]
     },
     "metadata": {
      "needs_background": "light"
     },
     "output_type": "display_data"
    }
   ],
   "source": [
    "plt.plot(losses)\n",
    "plt.yscale('log')\n",
    "plt.xlabel(\"CG steps to finish off training\")\n",
    "plt.ylabel('RMSE loss')"
   ]
  },
  {
   "cell_type": "code",
   "execution_count": 631,
   "id": "0f96ba2c",
   "metadata": {},
   "outputs": [
    {
     "data": {
      "text/plain": [
       "Text(0, 0.5, 'Step size magnitude (averaged across parameters)')"
      ]
     },
     "execution_count": 631,
     "metadata": {},
     "output_type": "execute_result"
    },
    {
     "data": {
      "image/png": "[encoded data removed]",
      "text/plain": [
       "<Figure size 432x288 with 1 Axes>"
      ]
     },
     "metadata": {
      "needs_background": "light"
     },
     "output_type": "display_data"
    }
   ],
   "source": [
    "step_magnitudes = np.array(lrs) * np.array([x.item() for x in g_abs_means])\n",
    "plt.plot(step_magnitudes)\n",
    "plt.yscale('log')\n",
    "plt.xlabel('CG steps to finish off training')\n",
    "plt.ylabel(\"Step size magnitude (averaged across parameters)\")"
   ]
  },
  {
   "cell_type": "code",
   "execution_count": null,
   "id": "f4900048",
   "metadata": {},
   "outputs": [],
   "source": []
  },
  {
   "cell_type": "code",
   "execution_count": null,
   "id": "a7b2fbf9",
   "metadata": {},
   "outputs": [],
   "source": []
  },
  {
   "cell_type": "code",
   "execution_count": null,
   "id": "ab9f0a75",
   "metadata": {},
   "outputs": [],
   "source": []
  },
  {
   "cell_type": "code",
   "execution_count": null,
   "id": "dd1ff11e",
   "metadata": {},
   "outputs": [],
   "source": []
  },
  {
   "cell_type": "code",
   "execution_count": null,
   "id": "cac6fd53",
   "metadata": {},
   "outputs": [],
   "source": []
  },
  {
   "cell_type": "markdown",
   "id": "b48acafa",
   "metadata": {},
   "source": [
    "### It certainly appears like we are at a minima!"
   ]
  },
  {
   "cell_type": "code",
   "execution_count": 414,
   "id": "b3ce0f2f",
   "metadata": {},
   "outputs": [],
   "source": [
    "with open(\"../data/2/info.json\", \"r\") as f:\n",
    "    data = json.load(f)\n",
    "with open(\"../data/2/config.json\", \"r\") as f:\n",
    "    config = json.load(f)"
   ]
  },
  {
   "cell_type": "code",
   "execution_count": 415,
   "id": "a1c2cec1",
   "metadata": {},
   "outputs": [],
   "source": [
    "d = [(key_to_tuple(key), value) for key, value in data.items()]\n",
    "# d.sort(key=lambda t: t[0][0] + 100*t[0][1], reverse=True)\n",
    "d.sort(key=lambda t: t[0][2]+str(t[0][1]), reverse=True)\n",
    "d = list(filter(lambda t: t[0][0] != 5, d))"
   ]
  },
  {
   "cell_type": "code",
   "execution_count": 416,
   "id": "00afa05f",
   "metadata": {},
   "outputs": [
    {
     "data": {
      "text/plain": [
       "Text(0.5, 0, 'RMSE loss')"
      ]
     },
     "execution_count": 416,
     "metadata": {},
     "output_type": "execute_result"
    },
    {
     "data": {
      "image/png": "[encoded data removed]",
      "text/plain": [
       "<Figure size 360x432 with 1 Axes>"
      ]
     },
     "metadata": {
      "needs_background": "light"
     },
     "output_type": "display_data"
    }
   ],
   "source": [
    "plt.figure(figsize=(5, 6))\n",
    "\n",
    "descs = [tuple_to_desc(desc_tup) for desc_tup, v in d]\n",
    "values = [v for desc_tup, v in d]\n",
    "plt.plot(values, descs, 'o')\n",
    "plt.xscale('log')\n",
    "plt.xlim(1e-12, 1e-2)\n",
    "\n",
    "plt.title(\"Fitting random width-2 neural networks\")\n",
    "plt.xlabel(\"RMSE loss\")"
   ]
  },
  {
   "cell_type": "code",
   "execution_count": 432,
   "id": "6ff50330",
   "metadata": {},
   "outputs": [],
   "source": [
    "with open(\"../data/3/info.json\", \"r\") as f:\n",
    "    data = json.load(f)\n",
    "with open(\"../data/3/config.json\", \"r\") as f:\n",
    "    config = json.load(f)"
   ]
  },
  {
   "cell_type": "code",
   "execution_count": 433,
   "id": "1fd82bf1",
   "metadata": {},
   "outputs": [],
   "source": [
    "d = [(key_to_tuple(key), value) for key, value in data.items()]\n",
    "# d.sort(key=lambda t: t[0][0] + 100*t[0][1], reverse=True)\n",
    "# d.sort(key=lambda t: t[0][2]+str(t[0][1]), reverse=True)\n",
    "# d = list(filter(lambda t: t[0][0] != 5, d))"
   ]
  },
  {
   "cell_type": "code",
   "execution_count": 434,
   "id": "4dfd9663",
   "metadata": {},
   "outputs": [
    {
     "data": {
      "text/plain": [
       "Text(0.5, 0, 'RMSE loss')"
      ]
     },
     "execution_count": 434,
     "metadata": {},
     "output_type": "execute_result"
    },
    {
     "data": {
      "image/png": "[encoded data removed]",
      "text/plain": [
       "<Figure size 360x432 with 1 Axes>"
      ]
     },
     "metadata": {
      "needs_background": "light"
     },
     "output_type": "display_data"
    }
   ],
   "source": [
    "plt.figure(figsize=(5, 6))\n",
    "\n",
    "descs = [tuple_to_desc(desc_tup) for desc_tup, v in d]\n",
    "values = [v for desc_tup, v in d]\n",
    "plt.plot(values, descs, 'o')\n",
    "plt.xscale('log')\n",
    "plt.xlim(1e-12, 1e-2)\n",
    "\n",
    "plt.title(\"Fitting random width-5 neural networks\")\n",
    "plt.xlabel(\"RMSE loss\")"
   ]
  },
  {
   "cell_type": "markdown",
   "id": "69b81baa",
   "metadata": {},
   "source": [
    "### Let's try ensembling"
   ]
  },
  {
   "cell_type": "code",
   "execution_count": 468,
   "id": "dd5dadd4",
   "metadata": {},
   "outputs": [],
   "source": [
    "coeffs = (a, b, c, d, e, f) = np.random.uniform(low=-1.5, high=1.5, size=(6,))\n",
    "x_i = np.random.uniform(low=-1, high=1, size=(100000, 1))\n",
    "y_i = a + b*np.power(x_i, 1) + c*np.power(x_i, 2) + d*np.power(x_i, 3) + e*np.power(x_i, 4) + f*np.power(x_i, 5)\n",
    "\n",
    "x_i = torch.from_numpy(x_i).to(device)\n",
    "y_i = torch.from_numpy(y_i).to(device)"
   ]
  },
  {
   "cell_type": "code",
   "execution_count": 469,
   "id": "daf824f3",
   "metadata": {},
   "outputs": [],
   "source": [
    "mlps = []\n",
    "param_vectors = []\n",
    "for _ in range(5):\n",
    "    width = 20\n",
    "    mlp = nn.Sequential(\n",
    "        nn.Linear(1, width),\n",
    "        nn.Tanh(),\n",
    "        nn.Linear(width, width),\n",
    "        nn.Tanh(),\n",
    "        nn.Linear(width, 1)\n",
    "    ).to(device)\n",
    "    mlps.append(mlp)\n",
    "\n",
    "    params = []\n",
    "    shapes = []\n",
    "    lenghts = []\n",
    "    for param in mlp.parameters():\n",
    "        param_np = param.data.detach().clone().cpu().numpy()\n",
    "        shapes.append(param_np.shape)\n",
    "        param_np_flat = param_np.flatten()\n",
    "        lenghts.append(len(param_np_flat))\n",
    "        params.append(param_np_flat)\n",
    "\n",
    "    param_vector = np.concatenate(params)\n",
    "    param_vectors.append(param_vector)"
   ]
  },
  {
   "cell_type": "code",
   "execution_count": 470,
   "id": "608d9f19",
   "metadata": {},
   "outputs": [
    {
     "data": {
      "application/vnd.jupyter.widget-view+json": {
       "model_id": "6cfa759da38e40b694a70767747637df",
       "version_major": 2,
       "version_minor": 0
      },
      "text/plain": [
       "  0%|          | 0/5 [00:00<?, ?it/s]"
      ]
     },
     "metadata": {},
     "output_type": "display_data"
    },
    {
     "name": "stdout",
     "output_type": "stream",
     "text": [
      "Warning: Desired error not necessarily achieved due to precision loss.\n",
      "         Current function value: 0.000001\n",
      "         Iterations: 577\n",
      "         Function evaluations: 696\n",
      "         Gradient evaluations: 684\n",
      "6.136283941339158e-07\n",
      "Warning: Desired error not necessarily achieved due to precision loss.\n",
      "         Current function value: 0.000001\n",
      "         Iterations: 891\n",
      "         Function evaluations: 1057\n",
      "         Gradient evaluations: 1045\n",
      "5.007149347962201e-07\n",
      "Warning: Desired error not necessarily achieved due to precision loss.\n",
      "         Current function value: 0.000000\n",
      "         Iterations: 932\n",
      "         Function evaluations: 1089\n",
      "         Gradient evaluations: 1077\n",
      "2.9135113859430497e-07\n",
      "Warning: Desired error not necessarily achieved due to precision loss.\n",
      "         Current function value: 0.000000\n",
      "         Iterations: 653\n",
      "         Function evaluations: 789\n",
      "         Gradient evaluations: 777\n",
      "3.466226847024812e-07\n",
      "Warning: Desired error not necessarily achieved due to precision loss.\n",
      "         Current function value: 0.000000\n",
      "         Iterations: 808\n",
      "         Function evaluations: 948\n",
      "         Gradient evaluations: 936\n",
      "3.65339417420333e-07\n"
     ]
    }
   ],
   "source": [
    "for i in tqdm(range(5)):\n",
    "    \n",
    "    result = optimize.minimize(loss,\n",
    "                           param_vectors[i], \n",
    "                           args=(lenghts, shapes, mlps[i], rmse_loss_fn_torch, x_i, y_i, device),\n",
    "                           jac=gradient,\n",
    "                           method='BFGS',\n",
    "                           options={\n",
    "                               'disp': True,\n",
    "                               'gtol': 1e-18,\n",
    "                               'maxiter': 25000,\n",
    "    #                                'finite_diff_rel_step': 1e-15\n",
    "                           },\n",
    "                        )\n",
    "    l = 0\n",
    "    for j, param in enumerate(mlps[i].parameters()):\n",
    "        param_data = result.x[l:l+lenghts[j]]\n",
    "        l += lenghts[j]\n",
    "        param_data_shaped = param_data.reshape(shapes[j])\n",
    "        param.data = torch.tensor(param_data_shaped).to(device)\n",
    "\n",
    "    l = rmse_loss_fn_torch(mlps[i](x_i), y_i).item()\n",
    "    print(l)\n"
   ]
  },
  {
   "cell_type": "code",
   "execution_count": 473,
   "id": "d61b2d05",
   "metadata": {},
   "outputs": [
    {
     "data": {
      "text/plain": [
       "tensor(2.6756e-07, device='cuda:0', grad_fn=<SqrtBackward0>)"
      ]
     },
     "execution_count": 473,
     "metadata": {},
     "output_type": "execute_result"
    }
   ],
   "source": [
    "rmse_loss_fn_torch(sum([mlps[i](x_i) for i in range(5)]) / 5, y_i)"
   ]
  },
  {
   "cell_type": "markdown",
   "id": "085127f4",
   "metadata": {},
   "source": [
    "### Okay ensembling only gives a small improvement"
   ]
  },
  {
   "cell_type": "markdown",
   "id": "6d6f8e15",
   "metadata": {},
   "source": [
    "### What about using a bigger network?"
   ]
  },
  {
   "cell_type": "code",
   "execution_count": 492,
   "id": "5d7ce841",
   "metadata": {},
   "outputs": [],
   "source": [
    "coeffs = (a, b, c, d, e, f) = np.random.uniform(low=-1.5, high=1.5, size=(6,))\n",
    "x_i = np.random.uniform(low=-1, high=1, size=(100000, 1))\n",
    "y_i = a + b*np.power(x_i, 1) + c*np.power(x_i, 2) + d*np.power(x_i, 3) + e*np.power(x_i, 4) + f*np.power(x_i, 5)\n",
    "\n",
    "x_i = torch.from_numpy(x_i).to(device)\n",
    "y_i = torch.from_numpy(y_i).to(device)"
   ]
  },
  {
   "cell_type": "code",
   "execution_count": 493,
   "id": "e13a9c7a",
   "metadata": {},
   "outputs": [],
   "source": [
    "width = 40\n",
    "mlp = nn.Sequential(\n",
    "    nn.Linear(1, width),\n",
    "    nn.Tanh(),\n",
    "    nn.Linear(width, width),\n",
    "    nn.Tanh(),\n",
    "    nn.Linear(width, width),\n",
    "    nn.Tanh(),\n",
    "    nn.Linear(width, 1)\n",
    ").to(device)\n",
    "\n",
    "params = []\n",
    "shapes = []\n",
    "lenghts = []\n",
    "for param in mlp.parameters():\n",
    "    param_np = param.data.detach().clone().cpu().numpy()\n",
    "    shapes.append(param_np.shape)\n",
    "    param_np_flat = param_np.flatten()\n",
    "    lenghts.append(len(param_np_flat))\n",
    "    params.append(param_np_flat)\n",
    "\n",
    "param_vector = np.concatenate(params)"
   ]
  },
  {
   "cell_type": "code",
   "execution_count": 494,
   "id": "58d7dbe8",
   "metadata": {},
   "outputs": [],
   "source": [
    "import time"
   ]
  },
  {
   "cell_type": "code",
   "execution_count": 495,
   "id": "82c4f477",
   "metadata": {},
   "outputs": [
    {
     "name": "stdout",
     "output_type": "stream",
     "text": [
      "Warning: Desired error not necessarily achieved due to precision loss.\n",
      "         Current function value: 0.000000\n",
      "         Iterations: 510\n",
      "         Function evaluations: 631\n",
      "         Gradient evaluations: 619\n",
      "4.215665663790319e-07\n"
     ]
    }
   ],
   "source": [
    "start_t = time.time()\n",
    "result = optimize.minimize(loss,\n",
    "                           param_vector, \n",
    "                           args=(lenghts, shapes, mlp, rmse_loss_fn_torch, x_i, y_i, device),\n",
    "                           jac=gradient,\n",
    "                           method='BFGS',\n",
    "                           options={\n",
    "                               'disp': True,\n",
    "                               'gtol': 1e-18,\n",
    "                               'maxiter': 25000,\n",
    "    #                                'finite_diff_rel_step': 1e-15\n",
    "                           },\n",
    "                        )\n",
    "l = 0\n",
    "for j, param in enumerate(mlp.parameters()):\n",
    "    param_data = result.x[l:l+lenghts[j]]\n",
    "    l += lenghts[j]\n",
    "    param_data_shaped = param_data.reshape(shapes[j])\n",
    "    param.data = torch.tensor(param_data_shaped).to(device)\n",
    "\n",
    "l = rmse_loss_fn_torch(mlp(x_i), y_i).item()\n",
    "print(l)\n",
    "end_t = time.time()"
   ]
  },
  {
   "cell_type": "code",
   "execution_count": 633,
   "id": "3f53c2c6",
   "metadata": {},
   "outputs": [
    {
     "data": {
      "text/plain": [
       "418.765100479126"
      ]
     },
     "execution_count": 633,
     "metadata": {},
     "output_type": "execute_result"
    }
   ],
   "source": [
    "end_t - start_t"
   ]
  },
  {
   "cell_type": "code",
   "execution_count": 497,
   "id": "ad0855da",
   "metadata": {},
   "outputs": [
    {
     "data": {
      "application/vnd.jupyter.widget-view+json": {
       "model_id": "eb95cf4513694271a9fbda439bdcea10",
       "version_major": 2,
       "version_minor": 0
      },
      "text/plain": [
       "  0%|          | 0/12 [00:00<?, ?it/s]"
      ]
     },
     "metadata": {},
     "output_type": "display_data"
    },
    {
     "name": "stdout",
     "output_type": "stream",
     "text": [
      "Warning: Desired error not necessarily achieved due to precision loss.\n",
      "         Current function value: 0.000000\n",
      "         Iterations: 242\n",
      "         Function evaluations: 331\n",
      "         Gradient evaluations: 319\n",
      "1.4669640389162774e-08\n"
     ]
    },
    {
     "data": {
      "application/vnd.jupyter.widget-view+json": {
       "model_id": "",
       "version_major": 2,
       "version_minor": 0
      },
      "text/plain": [
       "  0%|          | 0/2000 [00:00<?, ?it/s]"
      ]
     },
     "metadata": {},
     "output_type": "display_data"
    },
    {
     "name": "stdout",
     "output_type": "stream",
     "text": [
      "Warning: Desired error not necessarily achieved due to precision loss.\n",
      "         Current function value: 0.000000\n",
      "         Iterations: 241\n",
      "         Function evaluations: 332\n",
      "         Gradient evaluations: 320\n",
      "2.0996417659687244e-09\n"
     ]
    },
    {
     "data": {
      "application/vnd.jupyter.widget-view+json": {
       "model_id": "",
       "version_major": 2,
       "version_minor": 0
      },
      "text/plain": [
       "  0%|          | 0/2000 [00:00<?, ?it/s]"
      ]
     },
     "metadata": {},
     "output_type": "display_data"
    },
    {
     "name": "stdout",
     "output_type": "stream",
     "text": [
      "Warning: Desired error not necessarily achieved due to precision loss.\n",
      "         Current function value: 0.000000\n",
      "         Iterations: 341\n",
      "         Function evaluations: 428\n",
      "         Gradient evaluations: 416\n",
      "4.4020536349598076e-09\n"
     ]
    },
    {
     "data": {
      "application/vnd.jupyter.widget-view+json": {
       "model_id": "",
       "version_major": 2,
       "version_minor": 0
      },
      "text/plain": [
       "  0%|          | 0/2000 [00:00<?, ?it/s]"
      ]
     },
     "metadata": {},
     "output_type": "display_data"
    },
    {
     "name": "stdout",
     "output_type": "stream",
     "text": [
      "Warning: Desired error not necessarily achieved due to precision loss.\n",
      "         Current function value: 0.000000\n",
      "         Iterations: 266\n",
      "         Function evaluations: 356\n",
      "         Gradient evaluations: 344\n",
      "1.994567499509233e-09\n"
     ]
    },
    {
     "data": {
      "application/vnd.jupyter.widget-view+json": {
       "model_id": "",
       "version_major": 2,
       "version_minor": 0
      },
      "text/plain": [
       "  0%|          | 0/2000 [00:00<?, ?it/s]"
      ]
     },
     "metadata": {},
     "output_type": "display_data"
    },
    {
     "name": "stdout",
     "output_type": "stream",
     "text": [
      "Warning: Desired error not necessarily achieved due to precision loss.\n",
      "         Current function value: 0.000000\n",
      "         Iterations: 324\n",
      "         Function evaluations: 422\n",
      "         Gradient evaluations: 410\n",
      "6.4744872289339006e-09\n"
     ]
    },
    {
     "data": {
      "application/vnd.jupyter.widget-view+json": {
       "model_id": "",
       "version_major": 2,
       "version_minor": 0
      },
      "text/plain": [
       "  0%|          | 0/2000 [00:00<?, ?it/s]"
      ]
     },
     "metadata": {},
     "output_type": "display_data"
    },
    {
     "name": "stdout",
     "output_type": "stream",
     "text": [
      "Warning: Desired error not necessarily achieved due to precision loss.\n",
      "         Current function value: 0.000000\n",
      "         Iterations: 235\n",
      "         Function evaluations: 317\n",
      "         Gradient evaluations: 305\n",
      "2.3611081082668945e-09\n"
     ]
    },
    {
     "data": {
      "application/vnd.jupyter.widget-view+json": {
       "model_id": "",
       "version_major": 2,
       "version_minor": 0
      },
      "text/plain": [
       "  0%|          | 0/2000 [00:00<?, ?it/s]"
      ]
     },
     "metadata": {},
     "output_type": "display_data"
    },
    {
     "name": "stdout",
     "output_type": "stream",
     "text": [
      "Warning: Desired error not necessarily achieved due to precision loss.\n",
      "         Current function value: 0.000000\n",
      "         Iterations: 511\n",
      "         Function evaluations: 638\n",
      "         Gradient evaluations: 626\n",
      "8.380940547006727e-09\n"
     ]
    },
    {
     "data": {
      "application/vnd.jupyter.widget-view+json": {
       "model_id": "",
       "version_major": 2,
       "version_minor": 0
      },
      "text/plain": [
       "  0%|          | 0/2000 [00:00<?, ?it/s]"
      ]
     },
     "metadata": {},
     "output_type": "display_data"
    },
    {
     "name": "stdout",
     "output_type": "stream",
     "text": [
      "Warning: Desired error not necessarily achieved due to precision loss.\n",
      "         Current function value: 0.000000\n",
      "         Iterations: 428\n",
      "         Function evaluations: 540\n",
      "         Gradient evaluations: 528\n",
      "9.165287504966161e-09\n"
     ]
    },
    {
     "data": {
      "application/vnd.jupyter.widget-view+json": {
       "model_id": "",
       "version_major": 2,
       "version_minor": 0
      },
      "text/plain": [
       "  0%|          | 0/2000 [00:00<?, ?it/s]"
      ]
     },
     "metadata": {},
     "output_type": "display_data"
    },
    {
     "name": "stdout",
     "output_type": "stream",
     "text": [
      "Warning: Desired error not necessarily achieved due to precision loss.\n",
      "         Current function value: 0.000000\n",
      "         Iterations: 254\n",
      "         Function evaluations: 356\n",
      "         Gradient evaluations: 344\n",
      "1.0229779801785465e-08\n"
     ]
    },
    {
     "data": {
      "application/vnd.jupyter.widget-view+json": {
       "model_id": "",
       "version_major": 2,
       "version_minor": 0
      },
      "text/plain": [
       "  0%|          | 0/2000 [00:00<?, ?it/s]"
      ]
     },
     "metadata": {},
     "output_type": "display_data"
    },
    {
     "name": "stdout",
     "output_type": "stream",
     "text": [
      "Warning: Desired error not necessarily achieved due to precision loss.\n",
      "         Current function value: 0.000000\n",
      "         Iterations: 277\n",
      "         Function evaluations: 363\n",
      "         Gradient evaluations: 351\n",
      "5.894833530201114e-09\n"
     ]
    },
    {
     "data": {
      "application/vnd.jupyter.widget-view+json": {
       "model_id": "",
       "version_major": 2,
       "version_minor": 0
      },
      "text/plain": [
       "  0%|          | 0/2000 [00:00<?, ?it/s]"
      ]
     },
     "metadata": {},
     "output_type": "display_data"
    },
    {
     "name": "stdout",
     "output_type": "stream",
     "text": [
      "Warning: Desired error not necessarily achieved due to precision loss.\n",
      "         Current function value: 0.000000\n",
      "         Iterations: 264\n",
      "         Function evaluations: 348\n",
      "         Gradient evaluations: 336\n",
      "6.202413485191374e-10\n"
     ]
    },
    {
     "data": {
      "application/vnd.jupyter.widget-view+json": {
       "model_id": "",
       "version_major": 2,
       "version_minor": 0
      },
      "text/plain": [
       "  0%|          | 0/2000 [00:00<?, ?it/s]"
      ]
     },
     "metadata": {},
     "output_type": "display_data"
    },
    {
     "name": "stdout",
     "output_type": "stream",
     "text": [
      "Warning: Desired error not necessarily achieved due to precision loss.\n",
      "         Current function value: 0.000000\n",
      "         Iterations: 196\n",
      "         Function evaluations: 282\n",
      "         Gradient evaluations: 270\n",
      "4.26808823863977e-09\n"
     ]
    },
    {
     "data": {
      "application/vnd.jupyter.widget-view+json": {
       "model_id": "",
       "version_major": 2,
       "version_minor": 0
      },
      "text/plain": [
       "  0%|          | 0/2000 [00:00<?, ?it/s]"
      ]
     },
     "metadata": {},
     "output_type": "display_data"
    }
   ],
   "source": [
    "n = 12\n",
    "\n",
    "losses = []\n",
    "curvatures = defaultdict(list)\n",
    "\n",
    "for i in tqdm(range(n)):\n",
    "    \n",
    "    teacher = nn.Sequential(\n",
    "        nn.Linear(1, 3),\n",
    "        nn.Tanh(),\n",
    "        nn.Linear(3, 3),\n",
    "        nn.Tanh(),\n",
    "        nn.Linear(3, 1)\n",
    "    ).to(device)\n",
    "    \n",
    "    x_i = np.random.uniform(low=-1, high=1, size=(50000, 1))\n",
    "    x_i = torch.from_numpy(x_i).to(device)\n",
    "    with torch.no_grad():\n",
    "        y_i = teacher(x_i)\n",
    "    \n",
    "    width = 20\n",
    "    mlp = nn.Sequential(\n",
    "        nn.Linear(1, width),\n",
    "        nn.Tanh(),\n",
    "        nn.Linear(width, width),\n",
    "        nn.Tanh(),\n",
    "        nn.Linear(width, 1)\n",
    "    ).to(device)\n",
    "\n",
    "    params = []\n",
    "    shapes = []\n",
    "    lenghts = []\n",
    "    for param in mlp.parameters():\n",
    "        param_np = param.data.detach().clone().cpu().numpy()\n",
    "        shapes.append(param_np.shape)\n",
    "        param_np_flat = param_np.flatten()\n",
    "        lenghts.append(len(param_np_flat))\n",
    "        params.append(param_np_flat)\n",
    "\n",
    "    param_vector = np.concatenate(params)\n",
    "    \n",
    "    result = optimize.minimize(loss,\n",
    "                           param_vector, \n",
    "                           args=(lenghts, shapes, mlp, rmse_loss_fn_torch, x_i, y_i, device),\n",
    "                           jac=gradient,\n",
    "                           method='BFGS',\n",
    "                           options={\n",
    "                               'disp': True,\n",
    "                               'gtol': 1e-18,\n",
    "                               'maxiter': 25000,\n",
    "#                                'finite_diff_rel_step': 1e-15\n",
    "                           },\n",
    "                        )\n",
    "\n",
    "    l = 0\n",
    "    for j, param in enumerate(mlp.parameters()):\n",
    "        param_data = result.x[l:l+lenghts[j]]\n",
    "        l += lenghts[j]\n",
    "        param_data_shaped = param_data.reshape(shapes[j])\n",
    "        param.data = torch.tensor(param_data_shaped).to(device)\n",
    "\n",
    "    l = rmse_loss_fn_torch(mlp(x_i), y_i).item()\n",
    "    print(l)\n",
    "    losses.append(l)\n",
    "    mlp.zero_grad()\n",
    "    \n",
    "    for _ in tqdm(range(2000), leave=False):\n",
    "        v = tuple(torch.randn(p.shape).to(device) for p in mlp.parameters())\n",
    "        Hv = hvp_autograd(mlp, v, rmse_loss_fn_torch, x_i, y_i)\n",
    "        vHv = dot_prod(v, Hv)\n",
    "        vv = dot_prod(v, v)\n",
    "        curvatures[i].append(vHv / vv)\n",
    "    "
   ]
  },
  {
   "cell_type": "code",
   "execution_count": 500,
   "id": "321db60e",
   "metadata": {},
   "outputs": [
    {
     "data": {
      "image/png": "[encoded data removed]",
      "text/plain": [
       "<Figure size 864x576 with 12 Axes>"
      ]
     },
     "metadata": {
      "needs_background": "light"
     },
     "output_type": "display_data"
    }
   ],
   "source": [
    "plt.figure(figsize=(12, 8))\n",
    "\n",
    "for i in range(n):\n",
    "    plt.subplot(3, 4, i+1)\n",
    "    \n",
    "    _ = plt.hist(curvatures[i], bins=300)\n",
    "    plt.xscale('log')\n",
    "    plt.xlim(1, 1.1*np.max(curvatures[i]))\n",
    "    plt.title(\"loss: {:.4E}\".format(losses[i]))\n",
    "    plt.xlabel(\"vHv / vv\")\n",
    "\n",
    "plt.tight_layout()"
   ]
  },
  {
   "cell_type": "markdown",
   "id": "a60524b7",
   "metadata": {},
   "source": [
    "### is my method of sampling vectors v good? "
   ]
  },
  {
   "cell_type": "code",
   "execution_count": 531,
   "id": "ab867b75",
   "metadata": {},
   "outputs": [
    {
     "data": {
      "text/plain": [
       "<matplotlib.collections.PathCollection at 0x7fc8c944abb0>"
      ]
     },
     "execution_count": 531,
     "metadata": {},
     "output_type": "execute_result"
    },
    {
     "data": {
      "image/png": "[encoded data removed]",
      "text/plain": [
       "<Figure size 432x432 with 1 Axes>"
      ]
     },
     "metadata": {
      "needs_background": "light"
     },
     "output_type": "display_data"
    }
   ],
   "source": [
    "points = [np.random.randn(2,) for _ in range(100000)]\n",
    "points = [p / np.sqrt(np.sum(np.power(p, 2))) for p in points]\n",
    "plt.figure(figsize=(6, 6))\n",
    "plt.scatter(*zip(*points), s=0.1)"
   ]
  },
  {
   "cell_type": "code",
   "execution_count": 532,
   "id": "9e80d2ea",
   "metadata": {},
   "outputs": [],
   "source": [
    "angles = [np.arctan2(p[0], p[1]) for p in points]"
   ]
  },
  {
   "cell_type": "code",
   "execution_count": 533,
   "id": "1f27699e",
   "metadata": {},
   "outputs": [
    {
     "data": {
      "image/png": "[encoded data removed]",
      "text/plain": [
       "<Figure size 432x288 with 1 Axes>"
      ]
     },
     "metadata": {
      "needs_background": "light"
     },
     "output_type": "display_data"
    }
   ],
   "source": [
    "_ = plt.hist(angles, bins=20)"
   ]
  },
  {
   "cell_type": "markdown",
   "id": "4852c3b3",
   "metadata": {},
   "source": [
    "### yes, it appears that the angle of idd std normal vectors is uniformly distributed"
   ]
  },
  {
   "cell_type": "markdown",
   "id": "542f7cfa",
   "metadata": {},
   "source": [
    "### Let's try using a lower gtol value in BFGS"
   ]
  },
  {
   "cell_type": "code",
   "execution_count": null,
   "id": "29a351d9",
   "metadata": {},
   "outputs": [],
   "source": [
    "coeffs = (a, b, c, d, e, f) = np.random.uniform(low=-1.5, high=1.5, size=(6,))\n",
    "x_i = np.random.uniform(low=-1, high=1, size=(100000, 1))\n",
    "y_i = a + b*np.power(x_i, 1) + c*np.power(x_i, 2) + d*np.power(x_i, 3) + e*np.power(x_i, 4) + f*np.power(x_i, 5)\n",
    "\n",
    "x_i = torch.from_numpy(x_i).to(device)\n",
    "y_i = torch.from_numpy(y_i).to(device)"
   ]
  },
  {
   "cell_type": "code",
   "execution_count": null,
   "id": "88bd2ec5",
   "metadata": {},
   "outputs": [],
   "source": [
    "width = 20\n",
    "mlp = nn.Sequential(\n",
    "    nn.Linear(1, width),\n",
    "    nn.Tanh(),\n",
    "    nn.Linear(width, width),\n",
    "    nn.Tanh(),\n",
    "    nn.Linear(width, width),\n",
    "    nn.Tanh(),\n",
    "    nn.Linear(width, 1)\n",
    ").to(device)\n",
    "\n",
    "initial_params = [p.detach().clone() for p in mlp.parameters()]\n",
    "\n",
    "params = []\n",
    "shapes = []\n",
    "lenghts = []\n",
    "for param in mlp.parameters():\n",
    "    param_np = param.data.detach().clone().cpu().numpy()\n",
    "    shapes.append(param_np.shape)\n",
    "    param_np_flat = param_np.flatten()\n",
    "    lenghts.append(len(param_np_flat))\n",
    "    params.append(param_np_flat)\n",
    "\n",
    "param_vector = np.concatenate(params)"
   ]
  },
  {
   "cell_type": "code",
   "execution_count": 21,
   "id": "9c0c915c",
   "metadata": {},
   "outputs": [],
   "source": [
    "coeffs = (a, b, c, d, e, f) = np.random.uniform(low=-1.5, high=1.5, size=(6,))\n",
    "x_i = np.random.uniform(low=-1, high=1, size=(100000, 1))\n",
    "y_i = a + b*np.power(x_i, 1) + c*np.power(x_i, 2) + d*np.power(x_i, 3) + e*np.power(x_i, 4) + f*np.power(x_i, 5)\n",
    "\n",
    "x_i = torch.from_numpy(x_i).to(device)\n",
    "y_i = torch.from_numpy(y_i).to(device)"
   ]
  },
  {
   "cell_type": "code",
   "execution_count": 22,
   "id": "7562fa8b",
   "metadata": {},
   "outputs": [],
   "source": [
    "width = 20\n",
    "mlp = nn.Sequential(\n",
    "    nn.Linear(1, width),\n",
    "    nn.Tanh(),\n",
    "    nn.Linear(width, width),\n",
    "    nn.Tanh(),\n",
    "    nn.Linear(width, width),\n",
    "    nn.Tanh(),\n",
    "    nn.Linear(width, 1)\n",
    ").to(device)\n",
    "\n",
    "initial_params = [p.detach().clone() for p in mlp.parameters()]\n",
    "\n",
    "params = []\n",
    "shapes = []\n",
    "lenghts = []\n",
    "for param in mlp.parameters():\n",
    "    param_np = param.data.detach().clone().cpu().numpy()\n",
    "    shapes.append(param_np.shape)\n",
    "    param_np_flat = param_np.flatten()\n",
    "    lenghts.append(len(param_np_flat))\n",
    "    params.append(param_np_flat)\n",
    "\n",
    "param_vector = np.concatenate(params)"
   ]
  },
  {
   "cell_type": "code",
   "execution_count": 23,
   "id": "fb738c4a",
   "metadata": {},
   "outputs": [
    {
     "name": "stdout",
     "output_type": "stream",
     "text": [
      "Warning: Desired error not necessarily achieved due to precision loss.\n",
      "         Current function value: 0.000001\n",
      "         Iterations: 682\n",
      "         Function evaluations: 839\n",
      "         Gradient evaluations: 827\n"
     ]
    }
   ],
   "source": [
    "result = optimize.minimize(loss,\n",
    "                               param_vector, \n",
    "                               args=(lenghts, shapes, mlp, rmse_loss_fn_torch, x_i, y_i, device),\n",
    "                               jac=gradient,\n",
    "                               method='BFGS',\n",
    "                               options={\n",
    "                                   'disp': True,\n",
    "                                   'gtol': 1e-40,\n",
    "                                   'maxiter': 25000,\n",
    "    #                                'finite_diff_rel_step': 1e-15\n",
    "                               },\n",
    "                            )"
   ]
  },
  {
   "cell_type": "code",
   "execution_count": 24,
   "id": "e759fc0c",
   "metadata": {},
   "outputs": [
    {
     "data": {
      "text/plain": [
       "1.2943121102771864e-06"
      ]
     },
     "execution_count": 24,
     "metadata": {},
     "output_type": "execute_result"
    }
   ],
   "source": [
    "l = 0\n",
    "for i, param in enumerate(mlp.parameters()):\n",
    "    param_data = result.x[l:l+lenghts[i]]\n",
    "    l += lenghts[i]\n",
    "    param_data_shaped = param_data.reshape(shapes[i])\n",
    "    param.data = torch.tensor(param_data_shaped).to(device)\n",
    "\n",
    "\n",
    "rmse_loss_fn_torch(mlp(x_i), y_i).item()"
   ]
  },
  {
   "cell_type": "code",
   "execution_count": 25,
   "id": "7ea29ecb",
   "metadata": {},
   "outputs": [],
   "source": [
    "for i, p in enumerate(mlp.parameters()):\n",
    "    p.data = initial_params[i].clone()"
   ]
  },
  {
   "cell_type": "code",
   "execution_count": 26,
   "id": "859c3dc6",
   "metadata": {},
   "outputs": [],
   "source": [
    "params = []\n",
    "shapes = []\n",
    "lenghts = []\n",
    "for param in mlp.parameters():\n",
    "    param_np = param.data.detach().clone().cpu().numpy()\n",
    "    shapes.append(param_np.shape)\n",
    "    param_np_flat = param_np.flatten()\n",
    "    lenghts.append(len(param_np_flat))\n",
    "    params.append(param_np_flat)\n",
    "\n",
    "param_vector = np.concatenate(params)"
   ]
  },
  {
   "cell_type": "code",
   "execution_count": 27,
   "id": "92e87b76",
   "metadata": {},
   "outputs": [
    {
     "name": "stdout",
     "output_type": "stream",
     "text": [
      "Warning: Desired error not necessarily achieved due to precision loss.\n",
      "         Current function value: 0.000001\n",
      "         Iterations: 682\n",
      "         Function evaluations: 839\n",
      "         Gradient evaluations: 827\n"
     ]
    }
   ],
   "source": [
    "result = optimize.minimize(loss,\n",
    "                               param_vector, \n",
    "                               args=(lenghts, shapes, mlp, rmse_loss_fn_torch, x_i, y_i, device),\n",
    "                               jac=gradient,\n",
    "                               method='BFGS',\n",
    "                               options={\n",
    "                                   'disp': True,\n",
    "                                   'gtol': 1e-18,\n",
    "                                   'maxiter': 25000,\n",
    "    #                                'finite_diff_rel_step': 1e-15\n",
    "                               },\n",
    "                            )"
   ]
  },
  {
   "cell_type": "code",
   "execution_count": 28,
   "id": "363e43c8",
   "metadata": {},
   "outputs": [
    {
     "data": {
      "text/plain": [
       "1.2943121102771864e-06"
      ]
     },
     "execution_count": 28,
     "metadata": {},
     "output_type": "execute_result"
    }
   ],
   "source": [
    "l = 0\n",
    "for i, param in enumerate(mlp.parameters()):\n",
    "    param_data = result.x[l:l+lenghts[i]]\n",
    "    l += lenghts[i]\n",
    "    param_data_shaped = param_data.reshape(shapes[i])\n",
    "    param.data = torch.tensor(param_data_shaped).to(device)\n",
    "\n",
    "\n",
    "rmse_loss_fn_torch(mlp(x_i), y_i).item()"
   ]
  },
  {
   "cell_type": "code",
   "execution_count": null,
   "id": "2da8dae3",
   "metadata": {},
   "outputs": [],
   "source": []
  },
  {
   "cell_type": "code",
   "execution_count": null,
   "id": "c6ef29c3",
   "metadata": {},
   "outputs": [],
   "source": []
  },
  {
   "cell_type": "code",
   "execution_count": null,
   "id": "5adc8670",
   "metadata": {},
   "outputs": [],
   "source": []
  },
  {
   "cell_type": "code",
   "execution_count": null,
   "id": "67c36519",
   "metadata": {},
   "outputs": [],
   "source": []
  },
  {
   "cell_type": "code",
   "execution_count": null,
   "id": "f57816a0",
   "metadata": {},
   "outputs": [],
   "source": []
  },
  {
   "cell_type": "code",
   "execution_count": null,
   "id": "b417106e",
   "metadata": {},
   "outputs": [],
   "source": []
  },
  {
   "cell_type": "code",
   "execution_count": null,
   "id": "55fa87df",
   "metadata": {},
   "outputs": [],
   "source": []
  },
  {
   "cell_type": "code",
   "execution_count": null,
   "id": "fa9866e6",
   "metadata": {},
   "outputs": [],
   "source": []
  },
  {
   "cell_type": "code",
   "execution_count": null,
   "id": "85fdee30",
   "metadata": {},
   "outputs": [],
   "source": []
  },
  {
   "cell_type": "code",
   "execution_count": null,
   "id": "98b302e2",
   "metadata": {},
   "outputs": [],
   "source": []
  },
  {
   "cell_type": "markdown",
   "id": "1610e91c",
   "metadata": {},
   "source": [
    "### reset point for tinkering with final stage of optimization"
   ]
  },
  {
   "cell_type": "code",
   "execution_count": 49,
   "id": "87bffe05",
   "metadata": {},
   "outputs": [],
   "source": [
    "for i, param in enumerate(mlp.parameters()):\n",
    "    param.data = saved_params[i].clone()"
   ]
  },
  {
   "cell_type": "code",
   "execution_count": 50,
   "id": "bb158e05",
   "metadata": {},
   "outputs": [
    {
     "name": "stdout",
     "output_type": "stream",
     "text": [
      "tensor(1.4007e-07, device='cuda:0', grad_fn=<SqrtBackward0>)\n"
     ]
    }
   ],
   "source": [
    "print(rmse_loss_fn_torch(mlp(x), y))\n",
    "mlp.zero_grad()"
   ]
  },
  {
   "cell_type": "code",
   "execution_count": 51,
   "id": "1a88f208",
   "metadata": {},
   "outputs": [],
   "source": [
    "optimizer = torch.optim.SGD(mlp.parameters(), lr=4e-9)"
   ]
  },
  {
   "cell_type": "code",
   "execution_count": 52,
   "id": "f63dc5d3",
   "metadata": {},
   "outputs": [
    {
     "data": {
      "application/vnd.jupyter.widget-view+json": {
       "model_id": "fa5c742bbcf6495fae7432f5352715b7",
       "version_major": 2,
       "version_minor": 0
      },
      "text/plain": [
       "  0%|          | 0/1000 [00:00<?, ?it/s]"
      ]
     },
     "metadata": {},
     "output_type": "display_data"
    }
   ],
   "source": [
    "def get_loss():\n",
    "    return rmse_loss_fn_torch(mlp(x), y)\n",
    "\n",
    "losses = []\n",
    "for i in tqdm(range(1000)):\n",
    "    optimizer.zero_grad()\n",
    "    loss = rmse_loss_fn_torch(mlp(x), y)\n",
    "    loss.backward()\n",
    "    optimizer.step(get_loss)\n",
    "    losses.append(loss.item())"
   ]
  },
  {
   "cell_type": "code",
   "execution_count": 53,
   "id": "29777249",
   "metadata": {},
   "outputs": [
    {
     "data": {
      "image/png": "[encoded data removed]",
      "text/plain": [
       "<Figure size 432x288 with 1 Axes>"
      ]
     },
     "metadata": {
      "needs_background": "light"
     },
     "output_type": "display_data"
    }
   ],
   "source": [
    "plt.plot(losses)\n",
    "plt.yscale('log')"
   ]
  },
  {
   "cell_type": "code",
   "execution_count": null,
   "id": "ca7bcfa9",
   "metadata": {},
   "outputs": [],
   "source": []
  },
  {
   "cell_type": "code",
   "execution_count": null,
   "id": "b341896e",
   "metadata": {},
   "outputs": [],
   "source": []
  },
  {
   "cell_type": "code",
   "execution_count": null,
   "id": "8122029b",
   "metadata": {},
   "outputs": [],
   "source": []
  },
  {
   "cell_type": "code",
   "execution_count": 13,
   "id": "8c2f7812",
   "metadata": {},
   "outputs": [],
   "source": [
    "opt = torch.optim.SGD(mlp.parameters(), lr=1e-3, momentum=0.1)\n",
    "optimizer = L4(mlp.parameters(), opt, alpha=0.1, gamma=0.5)"
   ]
  },
  {
   "cell_type": "code",
   "execution_count": 14,
   "id": "4681deec",
   "metadata": {},
   "outputs": [
    {
     "data": {
      "application/vnd.jupyter.widget-view+json": {
       "model_id": "775604b2e4d94de58a790ab2f6f1a7ba",
       "version_major": 2,
       "version_minor": 0
      },
      "text/plain": [
       "  0%|          | 0/1000 [00:00<?, ?it/s]"
      ]
     },
     "metadata": {},
     "output_type": "display_data"
    }
   ],
   "source": [
    "def get_loss():\n",
    "    return rmse_loss_fn_torch(mlp(x), y)\n",
    "\n",
    "losses = []\n",
    "for i in tqdm(range(1000)):\n",
    "    optimizer.zero_grad()\n",
    "    loss = rmse_loss_fn_torch(mlp(x), y)\n",
    "    loss.backward()\n",
    "    optimizer.step(get_loss)\n",
    "    if i % 100 == 0:\n",
    "        losses.append(loss.item())"
   ]
  },
  {
   "cell_type": "code",
   "execution_count": 15,
   "id": "8f93059e",
   "metadata": {},
   "outputs": [
    {
     "data": {
      "image/png": "[encoded data removed]",
      "text/plain": [
       "<Figure size 432x288 with 1 Axes>"
      ]
     },
     "metadata": {
      "needs_background": "light"
     },
     "output_type": "display_data"
    }
   ],
   "source": [
    "plt.plot(losses)\n",
    "plt.yscale('log')"
   ]
  },
  {
   "cell_type": "code",
   "execution_count": null,
   "id": "17ba054a",
   "metadata": {},
   "outputs": [],
   "source": []
  },
  {
   "cell_type": "code",
   "execution_count": null,
   "id": "fd111121",
   "metadata": {},
   "outputs": [],
   "source": []
  },
  {
   "cell_type": "code",
   "execution_count": null,
   "id": "88dba527",
   "metadata": {},
   "outputs": [],
   "source": []
  },
  {
   "cell_type": "code",
   "execution_count": null,
   "id": "3672f33d",
   "metadata": {},
   "outputs": [],
   "source": []
  },
  {
   "cell_type": "code",
   "execution_count": null,
   "id": "de932ebc",
   "metadata": {},
   "outputs": [],
   "source": []
  },
  {
   "cell_type": "code",
   "execution_count": 564,
   "id": "b91856f6",
   "metadata": {},
   "outputs": [],
   "source": [
    "def loss(param_vector, lenghts, shapes, \n",
    "             mlp, loss_fn, x, y, device=device):\n",
    "    l = 0\n",
    "    for i, param in enumerate(mlp.parameters()):\n",
    "        param_data = param_vector[l:l+lenghts[i]]\n",
    "        l += lenghts[i]\n",
    "        param_data_shaped = param_data.reshape(shapes[i])\n",
    "        param.data = torch.tensor(param_data_shaped).to(device)\n",
    "    return loss_fn(mlp(x.to(device)), y).detach().cpu().numpy()\n",
    "\n",
    "def gradient(param_vector, lenghts, shapes, \n",
    "             mlp, loss_fn, x, y, device=device):\n",
    "    l = 0\n",
    "    for i, param in enumerate(mlp.parameters()):\n",
    "        param_data = param_vector[l:l+lenghts[i]]\n",
    "        l += lenghts[i]\n",
    "        param_data_shaped = param_data.reshape(shapes[i])\n",
    "        param.data = torch.tensor(param_data_shaped).to(device)\n",
    "    loss_fn(mlp(x.to(device)), y).backward()\n",
    "    grads = []\n",
    "    for param in mlp.parameters():\n",
    "        grads.append(param.grad.detach().clone().cpu().numpy().flatten())\n",
    "        param.grad = None\n",
    "    return np.concatenate(grads)"
   ]
  },
  {
   "cell_type": "code",
   "execution_count": null,
   "id": "3f47011a",
   "metadata": {},
   "outputs": [],
   "source": [
    "sizes = []\n",
    "losses = []\n",
    "\n",
    "for n in tqdm([5, 10, 50, 100, 150, 200, 300, 400, 500, 1000]):\n",
    "    x_line = y_line = np.linspace(-1, 1, n)\n",
    "    X, Y = np.meshgrid(x_line, y_line)\n",
    "    Z = np.exp(X + Y)\n",
    "    x_2d = np.stack([X, Y], axis=2)\n",
    "    x = torch.from_numpy(x_2d.reshape((n*n, 2))).to(device)\n",
    "    y = torch.from_numpy(Z.reshape((n*n, 1))).to(device)\n",
    "    sizes.append(len(y))\n",
    "    \n",
    "    x_line = y_line = np.linspace(-1, 1, 257)\n",
    "    X, Y = np.meshgrid(x_line, y_line)\n",
    "    Z = np.exp(X + Y)\n",
    "    x_2d = np.stack([X, Y], axis=2)\n",
    "    x_test = torch.from_numpy(x_2d.reshape((257*257, 2))).to(device)\n",
    "    y_test = torch.from_numpy(Z.reshape((257*257, 1))).to(device)\n",
    "    \n",
    "    width = 20\n",
    "    mlp = nn.Sequential(\n",
    "        nn.Linear(2, width),\n",
    "        nn.Tanh(),\n",
    "        nn.Linear(width, width),\n",
    "        nn.Tanh(),\n",
    "        nn.Linear(width, 1)\n",
    "    ).to(device)\n",
    "\n",
    "    params = []\n",
    "    shapes = []\n",
    "    lenghts = []\n",
    "    for param in mlp.parameters():\n",
    "        param_np = param.data.detach().clone().cpu().numpy()\n",
    "        shapes.append(param_np.shape)\n",
    "        param_np_flat = param_np.flatten()\n",
    "        lenghts.append(len(param_np_flat))\n",
    "        params.append(param_np_flat)\n",
    "\n",
    "    param_vector = np.concatenate(params)\n",
    "    N = len(param_vector)\n",
    "\n",
    "    result = optimize.minimize(loss,\n",
    "                               param_vector, \n",
    "                               args=(lenghts, shapes, mlp, rmse_loss_fn_torch, x, y, device),\n",
    "                               jac=gradient,\n",
    "                               method='BFGS',\n",
    "                               options={\n",
    "                                   'disp': True,\n",
    "                                   'gtol': 1e-18,\n",
    "                                   'maxiter': 25000,\n",
    "    #                                'finite_diff_rel_step': 1e-15\n",
    "                               },\n",
    "                            )\n",
    "\n",
    "    l = 0\n",
    "    for i, param in enumerate(mlp.parameters()):\n",
    "        param_data = result.x[l:l+lenghts[i]]\n",
    "        l += lenghts[i]\n",
    "        param_data_shaped = param_data.reshape(shapes[i])\n",
    "        param.data = torch.tensor(param_data_shaped).to(device)\n",
    "\n",
    "    losses.append(rmse_loss_fn_torch(mlp(x_test), y_test).item())\n",
    "    "
   ]
  },
  {
   "cell_type": "code",
   "execution_count": null,
   "id": "ab9ee265",
   "metadata": {},
   "outputs": [],
   "source": [
    "plt.plot(sizes, losses)\n",
    "plt.yscale('log')\n",
    "plt.xscale('log')\n",
    "plt.ylabel(\"RMSE loss\")\n",
    "plt.xlabel(\"Training dataset size\")"
   ]
  },
  {
   "cell_type": "markdown",
   "id": "b2817b48",
   "metadata": {},
   "source": [
    "### let's do some digging into why this 1e-7 floor seems to exist across varying dataset sizes and model sizes"
   ]
  },
  {
   "cell_type": "code",
   "execution_count": null,
   "id": "f0cad650",
   "metadata": {},
   "outputs": [],
   "source": [
    "result.x"
   ]
  },
  {
   "cell_type": "code",
   "execution_count": null,
   "id": "98446965",
   "metadata": {},
   "outputs": [],
   "source": [
    "rmse_loss_fn_torch(mlp(x), y).backward()"
   ]
  },
  {
   "cell_type": "code",
   "execution_count": null,
   "id": "2308de51",
   "metadata": {},
   "outputs": [],
   "source": [
    "mlp[0].weight.grad"
   ]
  },
  {
   "cell_type": "code",
   "execution_count": null,
   "id": "2cf2e2dc",
   "metadata": {},
   "outputs": [],
   "source": [
    "mlp[0].bias.grad"
   ]
  },
  {
   "cell_type": "code",
   "execution_count": null,
   "id": "98bcd483",
   "metadata": {},
   "outputs": [],
   "source": [
    "mlp[2].weight.grad"
   ]
  },
  {
   "cell_type": "code",
   "execution_count": null,
   "id": "0c5a5f18",
   "metadata": {},
   "outputs": [],
   "source": [
    "mlp[2].bias.grad"
   ]
  },
  {
   "cell_type": "code",
   "execution_count": null,
   "id": "227ab7e0",
   "metadata": {},
   "outputs": [],
   "source": [
    "mlp[4].weight.grad"
   ]
  },
  {
   "cell_type": "code",
   "execution_count": null,
   "id": "402433c2",
   "metadata": {},
   "outputs": [],
   "source": [
    "mlp[4].bias.grad"
   ]
  },
  {
   "cell_type": "code",
   "execution_count": null,
   "id": "253d2dce",
   "metadata": {},
   "outputs": [],
   "source": [
    "optimizer = torch.optim.SGD(mlp.parameters(), lr=1e-7)"
   ]
  },
  {
   "cell_type": "code",
   "execution_count": null,
   "id": "37f59cd5",
   "metadata": {},
   "outputs": [],
   "source": [
    "sgd_losses = []\n",
    "for i in tqdm(range(10000)):\n",
    "    optimizer.zero_grad()\n",
    "    rmse_loss_fn_torch(mlp(x), y).backward()\n",
    "    optimizer.step()\n",
    "    if i % 1000 == 0:\n",
    "        sgd_losses.append(rmse_loss_fn_torch(mlp(x_test), y_test).item())"
   ]
  },
  {
   "cell_type": "code",
   "execution_count": null,
   "id": "a87cf235",
   "metadata": {},
   "outputs": [],
   "source": [
    "plt.plot(sgd_losses)\n",
    "plt.yscale('log')"
   ]
  },
  {
   "cell_type": "code",
   "execution_count": null,
   "id": "bf728065",
   "metadata": {},
   "outputs": [],
   "source": [
    "l = 0\n",
    "for i, param in enumerate(mlp.parameters()):\n",
    "    param_data = result.x[l:l+lenghts[i]]\n",
    "    l += lenghts[i]\n",
    "    param_data_shaped = param_data.reshape(shapes[i])\n",
    "    param.data = torch.tensor(param_data_shaped).to(device)"
   ]
  },
  {
   "cell_type": "code",
   "execution_count": null,
   "id": "c22b29c4",
   "metadata": {},
   "outputs": [],
   "source": [
    "rmse_loss_fn_torch(mlp(x_test), y_test)"
   ]
  },
  {
   "cell_type": "code",
   "execution_count": null,
   "id": "899b06e8",
   "metadata": {},
   "outputs": [],
   "source": [
    "optimizer = torch.optim.SGD(mlp.parameters(), lr=1e-8)"
   ]
  },
  {
   "cell_type": "code",
   "execution_count": null,
   "id": "e26d4735",
   "metadata": {},
   "outputs": [],
   "source": [
    "sgd_losses = []\n",
    "for i in tqdm(range(1000)):\n",
    "    optimizer.zero_grad()\n",
    "    rmse_loss_fn_torch(mlp(x), y).backward()\n",
    "    optimizer.step()\n",
    "    if i % 1000 == 0:\n",
    "        sgd_losses.append(rmse_loss_fn_torch(mlp(x_test), y_test).item())"
   ]
  },
  {
   "cell_type": "code",
   "execution_count": null,
   "id": "bcd00616",
   "metadata": {},
   "outputs": [],
   "source": [
    "rmse_loss_fn_torch(mlp(x_test), y_test)"
   ]
  },
  {
   "cell_type": "code",
   "execution_count": null,
   "id": "0d829e06",
   "metadata": {},
   "outputs": [],
   "source": [
    "optimizer.zero_grad()\n",
    "rmse_loss_fn_torch(mlp(x), y).backward()\n",
    "optimizer.step(lambda: rmse_loss_fn_torch(mlp(x), y))\n",
    "rmse_loss_fn_torch(mlp(x_test), y_test)"
   ]
  },
  {
   "cell_type": "code",
   "execution_count": null,
   "id": "48182777",
   "metadata": {},
   "outputs": [],
   "source": []
  },
  {
   "cell_type": "code",
   "execution_count": null,
   "id": "071ecaec",
   "metadata": {},
   "outputs": [],
   "source": []
  },
  {
   "cell_type": "code",
   "execution_count": null,
   "id": "c837f799",
   "metadata": {},
   "outputs": [],
   "source": []
  },
  {
   "cell_type": "code",
   "execution_count": null,
   "id": "1f307941",
   "metadata": {},
   "outputs": [],
   "source": []
  }
 ],
 "metadata": {
  "kernelspec": {
   "display_name": "Python 3 (ipykernel)",
   "language": "python",
   "name": "python3"
  },
  "language_info": {
   "codemirror_mode": {
    "name": "ipython",
    "version": 3
   },
   "file_extension": ".py",
   "mimetype": "text/x-python",
   "name": "python",
   "nbconvert_exporter": "python",
   "pygments_lexer": "ipython3",
   "version": "3.8.12"
  }
 },
 "nbformat": 4,
 "nbformat_minor": 5
}
