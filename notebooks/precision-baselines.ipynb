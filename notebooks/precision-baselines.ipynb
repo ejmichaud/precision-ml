{
 "cells": [
  {
   "cell_type": "code",
   "execution_count": 1,
   "id": "dda8eb5c",
   "metadata": {},
   "outputs": [],
   "source": [
    "import numpy as np\n",
    "import matplotlib.pyplot as plt\n",
    "\n",
    "from scipy import optimize\n",
    "\n",
    "import torch\n",
    "import torch.nn as nn"
   ]
  },
  {
   "cell_type": "markdown",
   "id": "00203832",
   "metadata": {},
   "source": [
    "### Minimizing (x^2 - 2)^2"
   ]
  },
  {
   "cell_type": "code",
   "execution_count": 4,
   "id": "e1f4fbeb",
   "metadata": {},
   "outputs": [],
   "source": [
    "def loss(x):\n",
    "    return np.power(np.sum(np.power(x, 2)) - 2, 2)\n",
    "\n",
    "def gradient(x):\n",
    "    return 2 * (np.power(x, 2) - 2) * 2 * x"
   ]
  },
  {
   "cell_type": "code",
   "execution_count": 26,
   "id": "f9c4a5bd",
   "metadata": {},
   "outputs": [
    {
     "name": "stdout",
     "output_type": "stream",
     "text": [
      "(1,)\n",
      "float64\n"
     ]
    }
   ],
   "source": [
    "x0 = np.array([np.float64(1.0),])\n",
    "print(x0.shape)\n",
    "print(x0.dtype)"
   ]
  },
  {
   "cell_type": "code",
   "execution_count": 27,
   "id": "baaae4d2",
   "metadata": {},
   "outputs": [
    {
     "name": "stdout",
     "output_type": "stream",
     "text": [
      "Warning: Desired error not necessarily achieved due to precision loss.\n",
      "         Current function value: 0.000000\n",
      "         Iterations: 6\n",
      "         Function evaluations: 12\n",
      "         Gradient evaluations: 10\n"
     ]
    }
   ],
   "source": [
    "result = optimize.minimize(loss, x0, method='BFGS', jac=gradient,\n",
    "                          options={\n",
    "                               'disp': True,\n",
    "                               'gtol': 1e-30,\n",
    "                          })"
   ]
  },
  {
   "cell_type": "code",
   "execution_count": 28,
   "id": "caba54b1",
   "metadata": {},
   "outputs": [
    {
     "data": {
      "text/plain": [
       "1.9721522630525295e-31"
      ]
     },
     "execution_count": 28,
     "metadata": {},
     "output_type": "execute_result"
    }
   ],
   "source": [
    "loss(result.x)"
   ]
  },
  {
   "cell_type": "markdown",
   "id": "84c475f2",
   "metadata": {},
   "source": [
    "### Minimizing |x^2 - 2|"
   ]
  },
  {
   "cell_type": "code",
   "execution_count": 56,
   "id": "1d60e60a",
   "metadata": {},
   "outputs": [],
   "source": [
    "def loss(x):\n",
    "    return np.abs(np.sum(np.power(x, 2)) - 2)\n",
    "\n",
    "def gradient(x):\n",
    "    return (np.power(x, 2) - 2) / np.abs(np.power(x, 2) - 2) * 2 * x"
   ]
  },
  {
   "cell_type": "code",
   "execution_count": 57,
   "id": "ac7d1345",
   "metadata": {},
   "outputs": [
    {
     "name": "stdout",
     "output_type": "stream",
     "text": [
      "(1,)\n",
      "float64\n"
     ]
    }
   ],
   "source": [
    "x0 = np.array([np.float64(1.2),])\n",
    "print(x0.shape)\n",
    "print(x0.dtype)"
   ]
  },
  {
   "cell_type": "code",
   "execution_count": 58,
   "id": "9161dbb2",
   "metadata": {},
   "outputs": [
    {
     "name": "stdout",
     "output_type": "stream",
     "text": [
      "Warning: Desired error not necessarily achieved due to precision loss.\n",
      "         Current function value: 0.560000\n",
      "         Iterations: 0\n",
      "         Function evaluations: 45\n",
      "         Gradient evaluations: 39\n"
     ]
    }
   ],
   "source": [
    "result = optimize.minimize(loss, x0, method='BFGS', jac=gradient,\n",
    "                          options={\n",
    "                               'disp': True,\n",
    "                               'gtol': 1e-30,\n",
    "                          })"
   ]
  },
  {
   "cell_type": "code",
   "execution_count": 59,
   "id": "3d73163c",
   "metadata": {},
   "outputs": [
    {
     "data": {
      "text/plain": [
       "0.56"
      ]
     },
     "execution_count": 59,
     "metadata": {},
     "output_type": "execute_result"
    }
   ],
   "source": [
    "loss(result.x)"
   ]
  },
  {
   "cell_type": "code",
   "execution_count": null,
   "id": "0cb10c49",
   "metadata": {},
   "outputs": [],
   "source": []
  },
  {
   "cell_type": "code",
   "execution_count": null,
   "id": "a7c212d8",
   "metadata": {},
   "outputs": [],
   "source": []
  },
  {
   "cell_type": "code",
   "execution_count": null,
   "id": "7a6d0c80",
   "metadata": {},
   "outputs": [],
   "source": []
  }
 ],
 "metadata": {
  "kernelspec": {
   "display_name": "Python 3 (ipykernel)",
   "language": "python",
   "name": "python3"
  },
  "language_info": {
   "codemirror_mode": {
    "name": "ipython",
    "version": 3
   },
   "file_extension": ".py",
   "mimetype": "text/x-python",
   "name": "python",
   "nbconvert_exporter": "python",
   "pygments_lexer": "ipython3",
   "version": "3.8.12"
  }
 },
 "nbformat": 4,
 "nbformat_minor": 5
}
