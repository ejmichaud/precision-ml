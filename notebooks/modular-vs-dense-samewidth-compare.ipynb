{
 "cells": [
  {
   "cell_type": "code",
   "execution_count": 1,
   "metadata": {},
   "outputs": [],
   "source": [
    "from collections import defaultdict\n",
    "from itertools import islice, product\n",
    "import random\n",
    "import time\n",
    "from pathlib import Path\n",
    "\n",
    "import numpy as np\n",
    "from tqdm.auto import tqdm\n",
    "\n",
    "import pandas as pd\n",
    "from sympy import parse_expr, lambdify\n",
    "\n",
    "import torch\n",
    "import torch.nn as nn"
   ]
  },
  {
   "cell_type": "code",
   "execution_count": 25,
   "metadata": {},
   "outputs": [],
   "source": [
    "def parameters(width, depth, dimension):\n",
    "    \"\"\"Computes number of parameters in MLP with widths `width`,\n",
    "    depth `depth`, and input dimension `dimension`. Assumes the neurons\n",
    "    have biases.\n",
    "    \"\"\"\n",
    "    return (dimension * width + width) + (depth - 2)*(width * width + width) + (width + 1)\n",
    "\n",
    "def width_given_ddp(depth, dimension, parameters):\n",
    "    \"\"\"Given the network depth and input dimension, computes the\n",
    "    width such that the architecture (with bias) has `parameters` parameters.\n",
    "    \"\"\"\n",
    "    if depth == 2:\n",
    "        return int((parameters - 1) / (dimension + 2))\n",
    "    root = (-(dimension + depth) + np.sqrt(np.power(dimension + depth, 2) - 4 * (depth - 2) * (1 - parameters))) / (2 * (depth - 2))\n",
    "    return int(root)\n",
    "\n",
    "def create_normalizer(mean, std):\n",
    "    \"\"\"Create a function to normalize data of the form (N, d) given the means\n",
    "    and stds along each of the d columns.\n",
    "\n",
    "    Args:\n",
    "        mean: (mean[1], ..., mean[d])\n",
    "        std: (std[1], ..., std[d])\n",
    "    \"\"\"\n",
    "    assert len(mean) == len(std)\n",
    "    def normalize(x):\n",
    "        return torch.stack([(x[:, i] - mean[i]) / std[i] for i in range(len(mean))], dim=1)\n",
    "    return normalize\n",
    "\n",
    "def make_mlp(input_dim, depth, width, activation_fn):\n",
    "    layers = []\n",
    "    for i in range(depth):\n",
    "        if i == 0:\n",
    "            layers.append(nn.Linear(input_dim, width))\n",
    "            layers.append(activation_fn())\n",
    "        elif i == depth - 1:\n",
    "            layers.append(nn.Linear(width, 1))\n",
    "        else:\n",
    "            layers.append(nn.Linear(width, width))\n",
    "            layers.append(activation_fn())\n",
    "    return nn.Sequential(*layers)\n",
    "\n",
    "class I_8_14(nn.Module):\n",
    "    def __init__(self, width, depth, activation_fn, device):\n",
    "        super().__init__()\n",
    "        assert depth % 2 == 0, \"For this problem, modular architecture has two steps\"\n",
    "        self.device = device\n",
    "        self.mlpxs = make_mlp(2, depth // 2, width // 2, activation_fn).to(device)\n",
    "        self.mlpys = make_mlp(2, depth // 2, width // 2, activation_fn).to(device)\n",
    "        self.mlpaddsqrt = make_mlp(2, depth // 2, width, activation_fn).to(device)\n",
    "    \n",
    "    def forward(self, x):\n",
    "        x = x.to(self.device)\n",
    "        xs = self.mlpxs(x[:, :2])\n",
    "        ys = self.mlpys(x[:, 2:])\n",
    "        return self.mlpaddsqrt(torch.cat([xs, ys], dim=1))\n"
   ]
  },
  {
   "cell_type": "code",
   "execution_count": 26,
   "metadata": {},
   "outputs": [],
   "source": [
    "eqn = 'I.8.14'\n",
    "width = 100\n",
    "depth = 6\n",
    "lr = 1e-3\n",
    "activation = 'ReLU'\n",
    "N_TEST_POINTS = 30000\n",
    "TEST_COMPACTIFICATION = 0.8\n",
    "MAX_TRAIN_ITERS = 25000\n",
    "MAX_BATCH_SIZE = 30000\n",
    "spreadsheet = \"../equations.csv\"\n",
    "device = torch.device('cuda:0' if torch.cuda.is_available() else 'cpu')\n",
    "dtype = torch.float64\n",
    "seed = 0"
   ]
  },
  {
   "cell_type": "code",
   "execution_count": 27,
   "metadata": {},
   "outputs": [
    {
     "data": {
      "application/vnd.jupyter.widget-view+json": {
       "model_id": "627fa9f5797f498bacb848148e71ccfe",
       "version_major": 2,
       "version_minor": 0
      },
      "text/plain": [
       "  0%|          | 0/25000 [00:00<?, ?it/s]"
      ]
     },
     "metadata": {},
     "output_type": "display_data"
    }
   ],
   "source": [
    "torch.set_default_dtype(dtype)\n",
    "torch.manual_seed(seed)\n",
    "random.seed(seed)\n",
    "np.random.seed(seed)\n",
    "\n",
    "equations = pd.read_csv(spreadsheet)\n",
    "row = equations[equations['Equation'] == eqn].iloc[0]\n",
    "dimension = int(row['# variables'])\n",
    "formula = row['Formula']\n",
    "variables = [row[f'v{i}_name'] for i in range(1, dimension+1)]\n",
    "ranges = [(row[f'v{i}_low'], row[f'v{i}_high']) for i in range(1, dimension+1)]\n",
    "target = lambdify(variables, parse_expr(formula))\n",
    "\n",
    "if activation == 'ReLU':\n",
    "    activation_fn = nn.ReLU\n",
    "elif activation == 'Tanh':\n",
    "    activation_fn = nn.Tanh\n",
    "elif activation == 'Sigmoid':\n",
    "    activation_fn = nn.Sigmoid\n",
    "else:\n",
    "    assert False, f\"Unrecognized activation function identifier: {activation}\"\n",
    "\n",
    "# create model\n",
    "modular_mlp = I_8_14(width, depth, activation_fn, device)\n",
    "# _log.debug(\"Created model.\")\n",
    "# _log.debug(f\"Model has {sum(t.numel() for t in modular_mlp.parameters())} parameters\")\n",
    "parameters = sum(t.numel() for t in modular_mlp.parameters())\n",
    "TRAIN_POINTS = parameters // (dimension + 1)\n",
    "# ex.info['TRAIN_POINTS'] = TRAIN_POINTS\n",
    "# _log.debug(f\"TRAIN_POINTS: {TRAIN_POINTS}\")\n",
    "\n",
    "# create datasets\n",
    "ls = np.array([ranges[i][0] for i in range(dimension)])\n",
    "hs = np.array([ranges[i][1] for i in range(dimension)])\n",
    "xs_train = np.random.uniform(low=ls, high=hs, size=(TRAIN_POINTS, dimension))\n",
    "ys_train = target(*[xs_train[:, i] for i in range(dimension)])\n",
    "\n",
    "cs = (hs + ls) / 2\n",
    "ws = (hs - ls) * TEST_COMPACTIFICATION\n",
    "ls, hs = cs - ws / 2, cs + ws / 2\n",
    "xs_test = np.random.uniform(low=ls, high=hs, size=(N_TEST_POINTS, dimension))\n",
    "ys_test = target(*[xs_test[:, i] for i in range(dimension)])\n",
    "\n",
    "xs_train = torch.from_numpy(xs_train).to(device)\n",
    "ys_train = torch.from_numpy(ys_train).to(device).unsqueeze(dim=1)\n",
    "xs_test = torch.from_numpy(xs_test).to(device)\n",
    "ys_test = torch.from_numpy(ys_test).to(device).unsqueeze(dim=1)\n",
    "\n",
    "normalize = create_normalizer(xs_train.mean(dim=0), xs_train.std(dim=0))\n",
    "xs_train = normalize(xs_train)\n",
    "xs_test = normalize(xs_test)\n",
    "\n",
    "assert xs_train.dtype == dtype\n",
    "assert ys_train.dtype == dtype\n",
    "assert xs_test.dtype == dtype\n",
    "assert ys_test.dtype == dtype\n",
    "\n",
    "\n",
    "loss_fn = nn.MSELoss()\n",
    "optim = torch.optim.Adam(modular_mlp.parameters(), lr=lr)\n",
    "\n",
    "train = list()\n",
    "test = list()\n",
    "min_train = float('inf')\n",
    "min_test = float('inf')\n",
    "test_at_min_train = float('inf')\n",
    "\n",
    "k = 0\n",
    "for step in tqdm(range(MAX_TRAIN_ITERS)):\n",
    "    optim.zero_grad()\n",
    "    if TRAIN_POINTS <= MAX_BATCH_SIZE:\n",
    "        ys_pred = modular_mlp(xs_train)\n",
    "        l = loss_fn(ys_train, ys_pred)\n",
    "    else:\n",
    "        sample_idx = torch.arange(k, k+MAX_BATCH_SIZE, 1) % TRAIN_POINTS\n",
    "        xs_batch, ys_batch = xs_train[sample_idx], ys_train[sample_idx]\n",
    "        ys_pred = modular_mlp(xs_batch)\n",
    "        l = loss_fn(ys_batch, ys_pred)\n",
    "        k += MAX_BATCH_SIZE\n",
    "    l.backward()\n",
    "    optim.step()\n",
    "    with torch.no_grad():\n",
    "        train_l = torch.sqrt(l).item()\n",
    "        test_l = torch.sqrt(torch.mean(torch.pow(modular_mlp(xs_test) - ys_test, 2))).item()\n",
    "        if train_l < min_train:\n",
    "            min_train = train_l\n",
    "            test_at_min_train = test_l\n",
    "        min_test = test_l if test_l < min_test else min_test\n",
    "        if step % 100 == 0:\n",
    "            train.append(train_l)\n",
    "            test.append(test_l)\n",
    "    # if step % (MAX_TRAIN_ITERS // 10) == 0:\n",
    "        # _log.debug(\"{:.0f}% done with training\".format(step / MAX_TRAIN_ITERS * 100))\n"
   ]
  },
  {
   "cell_type": "code",
   "execution_count": 28,
   "metadata": {},
   "outputs": [],
   "source": [
    "import matplotlib.pyplot as plt"
   ]
  },
  {
   "cell_type": "code",
   "execution_count": 29,
   "metadata": {},
   "outputs": [
    {
     "data": {
      "image/png": "[encoded data removed]",
      "text/plain": [
       "<Figure size 432x288 with 1 Axes>"
      ]
     },
     "metadata": {
      "needs_background": "light"
     },
     "output_type": "display_data"
    }
   ],
   "source": [
    "plt.plot(train)\n",
    "plt.plot(test)\n",
    "plt.yscale('log')"
   ]
  },
  {
   "cell_type": "code",
   "execution_count": 30,
   "metadata": {},
   "outputs": [
    {
     "data": {
      "text/plain": [
       "0.004272291154020468"
      ]
     },
     "execution_count": 30,
     "metadata": {},
     "output_type": "execute_result"
    }
   ],
   "source": [
    "min(test)"
   ]
  },
  {
   "cell_type": "code",
   "execution_count": 31,
   "metadata": {},
   "outputs": [
    {
     "data": {
      "text/plain": [
       "16003"
      ]
     },
     "execution_count": 31,
     "metadata": {},
     "output_type": "execute_result"
    }
   ],
   "source": [
    "parameters"
   ]
  },
  {
   "cell_type": "code",
   "execution_count": 32,
   "metadata": {},
   "outputs": [
    {
     "data": {
      "application/vnd.jupyter.widget-view+json": {
       "model_id": "290fe12291264dea9ce6e5647009c29c",
       "version_major": 2,
       "version_minor": 0
      },
      "text/plain": [
       "  0%|          | 0/25000 [00:00<?, ?it/s]"
      ]
     },
     "metadata": {},
     "output_type": "display_data"
    }
   ],
   "source": [
    "torch.set_default_dtype(dtype)\n",
    "torch.manual_seed(seed)\n",
    "random.seed(seed)\n",
    "np.random.seed(seed)\n",
    "\n",
    "equations = pd.read_csv(spreadsheet)\n",
    "row = equations[equations['Equation'] == eqn].iloc[0]\n",
    "dimension = int(row['# variables'])\n",
    "formula = row['Formula']\n",
    "variables = [row[f'v{i}_name'] for i in range(1, dimension+1)]\n",
    "ranges = [(row[f'v{i}_low'], row[f'v{i}_high']) for i in range(1, dimension+1)]\n",
    "target = lambdify(variables, parse_expr(formula))\n",
    "\n",
    "if activation == 'ReLU':\n",
    "    activation_fn = nn.ReLU\n",
    "elif activation == 'Tanh':\n",
    "    activation_fn = nn.Tanh\n",
    "elif activation == 'Sigmoid':\n",
    "    activation_fn = nn.Sigmoid\n",
    "else:\n",
    "    assert False, f\"Unrecognized activation function identifier: {activation}\"\n",
    "\n",
    "# create model\n",
    "layers = []\n",
    "for i in range(depth):\n",
    "    if i == 0:\n",
    "        layers.append(nn.Linear(dimension, width))\n",
    "        layers.append(activation_fn())\n",
    "    elif i == depth - 1:\n",
    "        layers.append(nn.Linear(width, 1))\n",
    "    else:\n",
    "        layers.append(nn.Linear(width, width))\n",
    "        layers.append(activation_fn())\n",
    "mlp = nn.Sequential(*layers).to(device)\n",
    "\n",
    "parameters = sum(t.numel() for t in mlp.parameters())\n",
    "TRAIN_POINTS = parameters // (dimension + 1)\n",
    "# ex.info['TRAIN_POINTS'] = TRAIN_POINTS\n",
    "# _log.debug(f\"TRAIN_POINTS: {TRAIN_POINTS}\")\n",
    "\n",
    "# create datasets\n",
    "ls = np.array([ranges[i][0] for i in range(dimension)])\n",
    "hs = np.array([ranges[i][1] for i in range(dimension)])\n",
    "xs_train = np.random.uniform(low=ls, high=hs, size=(TRAIN_POINTS, dimension))\n",
    "ys_train = target(*[xs_train[:, i] for i in range(dimension)])\n",
    "\n",
    "cs = (hs + ls) / 2\n",
    "ws = (hs - ls) * TEST_COMPACTIFICATION\n",
    "ls, hs = cs - ws / 2, cs + ws / 2\n",
    "xs_test = np.random.uniform(low=ls, high=hs, size=(N_TEST_POINTS, dimension))\n",
    "ys_test = target(*[xs_test[:, i] for i in range(dimension)])\n",
    "\n",
    "xs_train = torch.from_numpy(xs_train).to(device)\n",
    "ys_train = torch.from_numpy(ys_train).to(device).unsqueeze(dim=1)\n",
    "xs_test = torch.from_numpy(xs_test).to(device)\n",
    "ys_test = torch.from_numpy(ys_test).to(device).unsqueeze(dim=1)\n",
    "\n",
    "normalize = create_normalizer(xs_train.mean(dim=0), xs_train.std(dim=0))\n",
    "xs_train = normalize(xs_train)\n",
    "xs_test = normalize(xs_test)\n",
    "\n",
    "assert xs_train.dtype == dtype\n",
    "assert ys_train.dtype == dtype\n",
    "assert xs_test.dtype == dtype\n",
    "assert ys_test.dtype == dtype\n",
    "\n",
    "\n",
    "loss_fn = nn.MSELoss()\n",
    "optim = torch.optim.Adam(mlp.parameters(), lr=lr)\n",
    "\n",
    "train = list()\n",
    "test = list()\n",
    "min_train = float('inf')\n",
    "min_test = float('inf')\n",
    "test_at_min_train = float('inf')\n",
    "\n",
    "k = 0\n",
    "for step in tqdm(range(MAX_TRAIN_ITERS)):\n",
    "    optim.zero_grad()\n",
    "    if TRAIN_POINTS <= MAX_BATCH_SIZE:\n",
    "        ys_pred = mlp(xs_train)\n",
    "        l = loss_fn(ys_train, ys_pred)\n",
    "    else:\n",
    "        sample_idx = torch.arange(k, k+MAX_BATCH_SIZE, 1) % TRAIN_POINTS\n",
    "        xs_batch, ys_batch = xs_train[sample_idx], ys_train[sample_idx]\n",
    "        ys_pred = mlp(xs_batch)\n",
    "        l = loss_fn(ys_batch, ys_pred)\n",
    "        k += MAX_BATCH_SIZE\n",
    "    l.backward()\n",
    "    optim.step()\n",
    "    with torch.no_grad():\n",
    "        train_l = torch.sqrt(l).item()\n",
    "        test_l = torch.sqrt(torch.mean(torch.pow(mlp(xs_test) - ys_test, 2))).item()\n",
    "        if train_l < min_train:\n",
    "            min_train = train_l\n",
    "            test_at_min_train = test_l\n",
    "        min_test = test_l if test_l < min_test else min_test\n",
    "        if step % 100 == 0:\n",
    "            train.append(train_l)\n",
    "            test.append(test_l)\n",
    "    # if step % (MAX_TRAIN_ITERS // 10) == 0:\n",
    "        # _log.debug(\"{:.0f}% done with training\".format(step / MAX_TRAIN_ITERS * 100))\n"
   ]
  },
  {
   "cell_type": "code",
   "execution_count": 22,
   "metadata": {},
   "outputs": [
    {
     "data": {
      "image/png": "[encoded data removed]",
      "text/plain": [
       "<Figure size 432x288 with 1 Axes>"
      ]
     },
     "metadata": {
      "needs_background": "light"
     },
     "output_type": "display_data"
    }
   ],
   "source": [
    "plt.plot(train)\n",
    "plt.plot(test)\n",
    "plt.yscale('log')"
   ]
  },
  {
   "cell_type": "code",
   "execution_count": 23,
   "metadata": {},
   "outputs": [
    {
     "data": {
      "text/plain": [
       "0.004773926341924796"
      ]
     },
     "execution_count": 23,
     "metadata": {},
     "output_type": "execute_result"
    }
   ],
   "source": [
    "min(test)"
   ]
  },
  {
   "cell_type": "code",
   "execution_count": 24,
   "metadata": {},
   "outputs": [
    {
     "data": {
      "text/plain": [
       "41001"
      ]
     },
     "execution_count": 24,
     "metadata": {},
     "output_type": "execute_result"
    }
   ],
   "source": [
    "parameters"
   ]
  },
  {
   "cell_type": "code",
   "execution_count": null,
   "metadata": {},
   "outputs": [],
   "source": []
  }
 ],
 "metadata": {
  "kernelspec": {
   "display_name": "Python 3.8.12 ('noisy')",
   "language": "python",
   "name": "python3"
  },
  "language_info": {
   "codemirror_mode": {
    "name": "ipython",
    "version": 3
   },
   "file_extension": ".py",
   "mimetype": "text/x-python",
   "name": "python",
   "nbconvert_exporter": "python",
   "pygments_lexer": "ipython3",
   "version": "3.8.12"
  },
  "orig_nbformat": 4,
  "vscode": {
   "interpreter": {
    "hash": "31b746a6b76a9f92050ad0ab66b917738b1035adb8df6ecfc33929ad98220359"
   }
  }
 },
 "nbformat": 4,
 "nbformat_minor": 2
}
