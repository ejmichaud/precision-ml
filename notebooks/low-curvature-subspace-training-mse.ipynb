{
 "cells": [
  {
   "cell_type": "code",
   "execution_count": 1,
   "id": "30e0300d",
   "metadata": {},
   "outputs": [],
   "source": [
    "import random\n",
    "import time\n",
    "from itertools import product, islice\n",
    "from collections import defaultdict\n",
    "from copy import deepcopy\n",
    "from tqdm.auto import tqdm\n",
    "\n",
    "import numpy as np\n",
    "import matplotlib.pyplot as plt\n",
    "\n",
    "from scipy import optimize\n",
    "\n",
    "import torch\n",
    "import torch.nn as nn"
   ]
  },
  {
   "cell_type": "code",
   "execution_count": 2,
   "id": "2e43873b",
   "metadata": {},
   "outputs": [
    {
     "data": {
      "text/plain": [
       "'cuda:0'"
      ]
     },
     "execution_count": 2,
     "metadata": {},
     "output_type": "execute_result"
    }
   ],
   "source": [
    "device = 'cuda:0' if torch.cuda.is_available() else 'cpu'\n",
    "# device = 'cpu'\n",
    "torch.set_default_dtype(torch.float64)\n",
    "device"
   ]
  },
  {
   "cell_type": "code",
   "execution_count": 3,
   "id": "26468785",
   "metadata": {},
   "outputs": [],
   "source": [
    "def get_func(model: nn.Module, loss_fn, x, y):\n",
    "    def func(*p_tensors):\n",
    "        assert len(list(model.parameters())) == len(p_tensors)\n",
    "        assert type(model) is nn.Sequential\n",
    "        i = 0\n",
    "        z = x\n",
    "        for module in model:\n",
    "            if type(module) is nn.Linear:\n",
    "                if module.bias is None:\n",
    "                    z = nn.functional.linear(z, p_tensors[i], None)\n",
    "                    i += 1\n",
    "                else:\n",
    "                    z = nn.functional.linear(z, p_tensors[i], p_tensors[i+1])\n",
    "                    i += 2\n",
    "            if type(module) in [nn.Tanh, nn.Sigmoid, nn.ReLU]:\n",
    "                z = module(z)\n",
    "        return loss_fn(z, y)\n",
    "    return func\n",
    "\n",
    "def hessian_autograd(model, loss_fn, x, y):\n",
    "    H = torch.autograd.functional.hessian(get_func(model, loss_fn, x, y), tuple(model.parameters()))\n",
    "    return H\n",
    "\n",
    "def hvp_autograd(model, v, loss_fn, x, y):\n",
    "    _, Hv = torch.autograd.functional.hvp(get_func(model, loss_fn, x, y), tuple(model.parameters()), v)\n",
    "    return Hv\n",
    "\n",
    "def decompose_hessian(hessian, lengths, shapes):\n",
    "    H_matrix = torch.zeros(sum(lenghts), sum(lenghts))\n",
    "    for i, j in product(range(len(shapes)), range(len(shapes))):\n",
    "        i0, i1 = sum(lenghts[:i+1]) - lenghts[i], sum(lenghts[:i+1])\n",
    "        j0, j1 = sum(lenghts[:j+1]) - lenghts[j], sum(lenghts[:j+1])\n",
    "        H_matrix[i0:i1, j0:j1] = hessian[i][j].reshape(lenghts[i], lenghts[j])\n",
    "    vals, vecs = torch.linalg.eigh(H_matrix)\n",
    "    vs = []\n",
    "    for i in range(sum(lenghts)):\n",
    "        vec = vecs[:, i]\n",
    "        v = tuple(vec[sum(lenghts[:i]):sum(lenghts[:i+1])].reshape(shapes[i]) for i in range(len(lenghts)))\n",
    "        vs.append(v)\n",
    "    return vals, vs"
   ]
  },
  {
   "cell_type": "code",
   "execution_count": 4,
   "id": "7ac29255",
   "metadata": {},
   "outputs": [],
   "source": [
    "def dot_prod(u, v):\n",
    "    assert len(u) == len(v)\n",
    "    result = 0\n",
    "    for i in range(len(u)):\n",
    "        result += torch.sum(u[i] * v[i])\n",
    "    return result.item()\n",
    "\n",
    "def dot_prod_dict(u, v):\n",
    "    assert set(u.keys()) == set(v.keys())\n",
    "    result = 0\n",
    "    for k in u.keys():\n",
    "        result += torch.sum(u[k] * v[k])\n",
    "    return result.item()"
   ]
  },
  {
   "cell_type": "code",
   "execution_count": 5,
   "id": "37b3f209",
   "metadata": {},
   "outputs": [],
   "source": [
    "rmse_loss_fn_torch = lambda x, y: torch.sqrt(torch.mean(torch.pow(x-y, 2)))\n",
    "qmqe_loss_fn_torch = lambda x, y: torch.pow(torch.mean(torch.pow(x-y, 4)), 1/4)\n",
    "smse_loss_fn_torch = lambda x, y: torch.pow(torch.mean(torch.pow(x-y, 6)), 1/6)\n",
    "mse_loss_fn_torch = nn.MSELoss()\n",
    "\n",
    "def lp_norm(p):\n",
    "    def loss(x, y):\n",
    "        return torch.pow(torch.mean(torch.pow(torch.abs(x-y), p)), 1/p)\n",
    "    return loss\n",
    "\n",
    "def dl_loss(epsilon):\n",
    "    def loss(x, y):\n",
    "        return torch.mean(0.5 * torch.log2(1 + torch.pow((x-y) / epsilon, 2)))\n",
    "    return loss"
   ]
  },
  {
   "cell_type": "code",
   "execution_count": 6,
   "id": "31a1acb6",
   "metadata": {},
   "outputs": [],
   "source": [
    "def loss(param_vector, lenghts, shapes, \n",
    "             mlp, loss_fn, x, y, device=device):\n",
    "    l = 0\n",
    "    for i, param in enumerate(mlp.parameters()):\n",
    "        param_data = param_vector[l:l+lenghts[i]]\n",
    "        l += lenghts[i]\n",
    "        param_data_shaped = param_data.reshape(shapes[i])\n",
    "        param.data = torch.tensor(param_data_shaped).to(device)\n",
    "    return loss_fn(mlp(x.to(device)), y).detach().cpu().numpy()\n",
    "\n",
    "def gradient(param_vector, lenghts, shapes, \n",
    "             mlp, loss_fn, x, y, device=device):\n",
    "    l = 0\n",
    "    for i, param in enumerate(mlp.parameters()):\n",
    "        param_data = param_vector[l:l+lenghts[i]]\n",
    "        l += lenghts[i]\n",
    "        param_data_shaped = param_data.reshape(shapes[i])\n",
    "        param.data = torch.tensor(param_data_shaped).to(device)\n",
    "    loss_fn(mlp(x.to(device)), y).backward()\n",
    "    grads = []\n",
    "    for param in mlp.parameters():\n",
    "        grads.append(param.grad.detach().clone().cpu().numpy().flatten())\n",
    "        param.grad = None\n",
    "    mlp.zero_grad()\n",
    "    return np.concatenate(grads)"
   ]
  },
  {
   "cell_type": "markdown",
   "id": "7974e221",
   "metadata": {},
   "source": [
    "## Find eigenvalues before and after training. Fit a random 5th order polynomial."
   ]
  },
  {
   "cell_type": "code",
   "execution_count": 7,
   "id": "e72bf5cd",
   "metadata": {},
   "outputs": [],
   "source": [
    "coeffs = (a, b, c, d, e, f) = np.random.uniform(low=-1.5, high=1.5, size=(6,))\n",
    "x_i = np.random.uniform(low=-1, high=1, size=(50000, 1))\n",
    "y_i = a + b*np.power(x_i, 1) + c*np.power(x_i, 2) + d*np.power(x_i, 3) + e*np.power(x_i, 4) + f*np.power(x_i, 5)\n",
    "\n",
    "x_i = torch.from_numpy(x_i).to(device)\n",
    "y_i = torch.from_numpy(y_i).to(device)"
   ]
  },
  {
   "cell_type": "code",
   "execution_count": 8,
   "id": "39810dd4",
   "metadata": {},
   "outputs": [],
   "source": [
    "width = 20\n",
    "mlp = nn.Sequential(\n",
    "    nn.Linear(1, width),\n",
    "    nn.Tanh(),\n",
    "    nn.Linear(width, width),\n",
    "    nn.Tanh(),\n",
    "    nn.Linear(width, 1)\n",
    ").to(device)\n",
    "\n",
    "params = []\n",
    "shapes = []\n",
    "lenghts = []\n",
    "for param in mlp.parameters():\n",
    "    param_np = param.data.detach().clone().cpu().numpy()\n",
    "    shapes.append(param_np.shape)\n",
    "    param_np_flat = param_np.flatten()\n",
    "    lenghts.append(len(param_np_flat))\n",
    "    params.append(param_np_flat)\n",
    "\n",
    "param_vector = np.concatenate(params)"
   ]
  },
  {
   "cell_type": "code",
   "execution_count": 9,
   "id": "f21d2979",
   "metadata": {},
   "outputs": [
    {
     "data": {
      "image/png": "[encoded data removed]",
      "text/plain": [
       "<Figure size 576x360 with 4 Axes>"
      ]
     },
     "metadata": {
      "needs_background": "light"
     },
     "output_type": "display_data"
    }
   ],
   "source": [
    "hessian = hessian_autograd(mlp, mse_loss_fn_torch, x_i, y_i)\n",
    "vals, vs = decompose_hessian(hessian, lenghts, shapes)\n",
    "mlp.zero_grad()\n",
    "\n",
    "mse_loss_fn_torch(mlp(x_i), y_i).backward()\n",
    "g = [p.grad.detach().clone().cpu() for p in mlp.parameters()]\n",
    "mlp.zero_grad()\n",
    "\n",
    "positives = [x for x in vals.numpy() if x >= 0]\n",
    "negatives = [x for x in vals.numpy() if x < 0]\n",
    "positives.reverse()\n",
    "negatives.reverse()\n",
    "\n",
    "pos_dot_prods = [np.abs(dot_prod(g, vs[i])) for i in range(len(vs)) if vals.numpy()[i] >= 0]\n",
    "neg_dot_prods = [np.abs(dot_prod(g, vs[i])) for i in range(len(vs)) if vals.numpy()[i] < 0]\n",
    "pos_dot_prods.reverse()\n",
    "neg_dot_prods.reverse()\n",
    "\n",
    "plt.figure(figsize=(8, 5))\n",
    "\n",
    "ax1 = plt.subplot(1, 2, 1)\n",
    "ax1.scatter(list(range(len(positives))), positives, color='teal')\n",
    "ax1.set_yscale('log')\n",
    "ax1.set_title(\"Positive eigenvalues\")\n",
    "ax1.set_ylabel(\"eigenvalue (+)\", fontsize=15, color='teal')\n",
    "ax1.set_xlabel(\"Eigenvalue (ordered by value)\")\n",
    "ax2 = ax1.twinx()\n",
    "ax2.plot(list(range(len(positives))), pos_dot_prods, color='red')\n",
    "ax2.set_yscale('log')\n",
    "ax2.set_ylabel('Projection coefficient magnitude', fontsize=12, color='red')\n",
    "\n",
    "ax1 = plt.subplot(1, 2, 2)\n",
    "ax1.scatter(list(range(len(positives), len(positives) + len(negatives))), np.abs(negatives), color='teal')\n",
    "ax1.set_yscale('log')\n",
    "ax1.set_title(\"Negative eigenvalues\")\n",
    "ax1.set_ylabel(\"eigenvalue (-)\", fontsize=15, color='teal')\n",
    "ax2 = ax1.twinx()\n",
    "ax2.plot(list(range(len(positives), len(positives) + len(negatives))), neg_dot_prods, color='red')\n",
    "ax2.set_yscale('log')\n",
    "ax2.set_ylabel('Projection coefficient magnitude', fontsize=12, color='red')\n",
    "\n",
    "plt.suptitle(\"At initialization:\\nThere are {0:d} Hessian eigenvalues. \\nThe largest eigenvalue is {1:.4e}\".format(len(vals), max(positives)))\n",
    "\n",
    "plt.tight_layout()"
   ]
  },
  {
   "cell_type": "code",
   "execution_count": 10,
   "id": "2d5b279c",
   "metadata": {},
   "outputs": [
    {
     "name": "stdout",
     "output_type": "stream",
     "text": [
      "Warning: Desired error not necessarily achieved due to precision loss.\n",
      "         Current function value: 0.000000\n",
      "         Iterations: 3733\n",
      "         Function evaluations: 4159\n",
      "         Gradient evaluations: 4147\n",
      "1.385593278728062e-13\n"
     ]
    }
   ],
   "source": [
    "result = optimize.minimize(loss,\n",
    "                       param_vector, \n",
    "                       args=(lenghts, shapes, mlp, mse_loss_fn_torch, x_i, y_i, device),\n",
    "                       jac=gradient,\n",
    "                       method='BFGS',\n",
    "                       options={\n",
    "                           'disp': True,\n",
    "                           'gtol': 1e-40,\n",
    "                           'maxiter': 25000,\n",
    "#                                'finite_diff_rel_step': 1e-15\n",
    "                       },\n",
    "                    )\n",
    "\n",
    "l = 0\n",
    "for j, param in enumerate(mlp.parameters()):\n",
    "    param_data = result.x[l:l+lenghts[j]]\n",
    "    l += lenghts[j]\n",
    "    param_data_shaped = param_data.reshape(shapes[j])\n",
    "    param.data = torch.tensor(param_data_shaped).to(device)\n",
    "\n",
    "l = mse_loss_fn_torch(mlp(x_i), y_i).item()\n",
    "print(l)\n",
    "mlp.zero_grad()"
   ]
  },
  {
   "cell_type": "code",
   "execution_count": 11,
   "id": "08790350",
   "metadata": {},
   "outputs": [],
   "source": [
    "solution_params = [p.detach().clone() for p in mlp.parameters()]"
   ]
  },
  {
   "cell_type": "code",
   "execution_count": 12,
   "id": "3f30b7ce",
   "metadata": {},
   "outputs": [
    {
     "data": {
      "image/png": "[encoded data removed]",
      "text/plain": [
       "<Figure size 576x360 with 4 Axes>"
      ]
     },
     "metadata": {
      "needs_background": "light"
     },
     "output_type": "display_data"
    }
   ],
   "source": [
    "for j, p in enumerate(mlp.parameters()):\n",
    "    p.data = solution_params[j].clone()\n",
    "\n",
    "hessian = hessian_autograd(mlp, mse_loss_fn_torch, x_i, y_i)\n",
    "vals, vs = decompose_hessian(hessian, lenghts, shapes)\n",
    "mlp.zero_grad()\n",
    "\n",
    "mse_loss_fn_torch(mlp(x_i), y_i).backward()\n",
    "g = [p.grad.detach().clone().cpu() for p in mlp.parameters()]\n",
    "mlp.zero_grad()\n",
    "\n",
    "positives = [x for x in vals.numpy() if x >= 0]\n",
    "negatives = [x for x in vals.numpy() if x < 0]\n",
    "positives.reverse()\n",
    "negatives.reverse()\n",
    "\n",
    "pos_dot_prods = [np.abs(dot_prod(g, vs[i])) for i in range(len(vs)) if vals.numpy()[i] >= 0]\n",
    "neg_dot_prods = [np.abs(dot_prod(g, vs[i])) for i in range(len(vs)) if vals.numpy()[i] < 0]\n",
    "pos_dot_prods.reverse()\n",
    "neg_dot_prods.reverse()\n",
    "\n",
    "plt.figure(figsize=(8, 5))\n",
    "\n",
    "ax1 = plt.subplot(1, 2, 1)\n",
    "ax1.scatter(list(range(len(positives))), positives, color='teal')\n",
    "ax1.set_yscale('log')\n",
    "ax1.set_title(\"Positive eigenvalues\")\n",
    "ax1.set_ylabel(\"eigenvalue (+)\", fontsize=15, color='teal')\n",
    "ax1.set_xlabel(\"Eigenvalue (ordered by value)\")\n",
    "ax2 = ax1.twinx()\n",
    "ax2.plot(list(range(len(positives))), pos_dot_prods, color='red', alpha=0.3)\n",
    "ax2.set_yscale('log')\n",
    "ax2.set_ylabel('Projection coefficient magnitude', fontsize=12, color='red', alpha=0.3)\n",
    "\n",
    "ax1 = plt.subplot(1, 2, 2)\n",
    "ax1.scatter(list(range(len(positives), len(positives) + len(negatives))), np.abs(negatives), color='teal')\n",
    "ax1.set_yscale('log')\n",
    "ax1.set_title(\"Negative eigenvalues\")\n",
    "ax1.set_ylabel(\"eigenvalue (-)\", fontsize=15, color='teal')\n",
    "ax2 = ax1.twinx()\n",
    "ax2.plot(list(range(len(positives), len(positives) + len(negatives))), neg_dot_prods, color='red', alpha=0.3)\n",
    "ax2.set_yscale('log')\n",
    "ax2.set_ylabel('Projection coefficient magnitude', fontsize=12, color='red', alpha=0.3)\n",
    "\n",
    "plt.suptitle(\"After training:\\nThere are {0:d} Hessian eigenvalues. \\nThe largest eigenvalue is {1:.4e}\".format(len(vals), max(positives)))\n",
    "\n",
    "plt.tight_layout()"
   ]
  },
  {
   "cell_type": "markdown",
   "id": "9de42be9",
   "metadata": {},
   "source": [
    "## Train in low-curvature subspace"
   ]
  },
  {
   "cell_type": "code",
   "execution_count": null,
   "id": "40c39a3a",
   "metadata": {},
   "outputs": [],
   "source": [
    "for j, p in enumerate(mlp.parameters()):\n",
    "    p.data = solution_params[j].clone()\n",
    "\n",
    "curvature_threshold = 1e-5\n",
    "lr = 5e5\n",
    "\n",
    "losses = []\n",
    "for _ in tqdm(range(10)):\n",
    "    \n",
    "    mse_loss_fn_torch(mlp(x_i), y_i).backward()\n",
    "    g = [p.grad.detach().clone().cpu() for p in mlp.parameters()]\n",
    "    mlp.zero_grad()\n",
    "    with torch.no_grad():\n",
    "        g_mag = np.sqrt(dot_prod(g, g))\n",
    "    \n",
    "    hessian = hessian_autograd(mlp, mse_loss_fn_torch, x_i, y_i)\n",
    "    vals, vs = decompose_hessian(hessian, lenghts, shapes)\n",
    "    mlp.zero_grad()\n",
    "    \n",
    "    with torch.no_grad():\n",
    "        for i, p in enumerate(mlp.parameters()):\n",
    "            g_i_proj = torch.zeros(p.shape).to(device)\n",
    "            for j, (val, v) in enumerate(zip(vals.numpy(), vs)):\n",
    "                if np.abs(val) < curvature_threshold:\n",
    "                    g_i_proj += (v[i] * dot_prod(v, g)).to(device)\n",
    "            p.add_(-lr * g_i_proj)\n",
    "        losses.append(mse_loss_fn_torch(mlp(x_i), y_i).item())"
   ]
  },
  {
   "cell_type": "code",
   "execution_count": null,
   "id": "b25f7e04",
   "metadata": {},
   "outputs": [],
   "source": [
    "plt.plot(losses)\n",
    "plt.ylabel(\"RMSE loss\")\n",
    "plt.xlabel(\"Curvature-restricted subspace training steps\")"
   ]
  },
  {
   "cell_type": "code",
   "execution_count": null,
   "id": "ab9be585",
   "metadata": {},
   "outputs": [],
   "source": [
    "for j, p in enumerate(mlp.parameters()):\n",
    "    p.data = solution_params[j].clone()\n",
    "\n",
    "curvature_threshold = 1e-5\n",
    "\n",
    "mse_loss_fn_torch(mlp(x_i), y_i).backward()\n",
    "g = [p.grad.detach().clone().cpu() for p in mlp.parameters()]\n",
    "mlp.zero_grad()\n",
    "with torch.no_grad():\n",
    "    g_mag = np.sqrt(dot_prod(g, g))\n",
    "\n",
    "hessian = hessian_autograd(mlp, mse_loss_fn_torch, x_i, y_i)\n",
    "vals, vs = decompose_hessian(hessian, lenghts, shapes)\n",
    "mlp.zero_grad()\n",
    "\n",
    "v_g = []\n",
    "\n",
    "with torch.no_grad():\n",
    "    for i, p in enumerate(mlp.parameters()):\n",
    "        g_i_proj = torch.zeros(p.shape).to(device)\n",
    "        for j, (val, v) in enumerate(zip(vals.numpy(), vs)):\n",
    "            if np.abs(val) < curvature_threshold:\n",
    "                g_i_proj += (v[i] * dot_prod(v, g)).to(device)\n",
    "        v_g.append(g_i_proj)\n",
    "#             p.add_(-lr * g_i_proj)\n",
    "#         losses.append(mse_loss_fn_torch(mlp(x_i), y_i).item())"
   ]
  },
  {
   "cell_type": "code",
   "execution_count": null,
   "id": "c5ca35d1",
   "metadata": {},
   "outputs": [],
   "source": [
    "mlp.zero_grad()\n",
    "losses = []\n",
    "alphas = np.linspace(-1e7, 1e6, 200)\n",
    "for alpha in tqdm(alphas):\n",
    "    with torch.no_grad():\n",
    "        for j, p in enumerate(mlp.parameters()):\n",
    "            p.data = solution_params[j].clone() + alpha * v_g[j]\n",
    "        losses.append(mse_loss_fn_torch(mlp(x_i), y_i).item())"
   ]
  },
  {
   "cell_type": "code",
   "execution_count": null,
   "id": "ee98c4b5",
   "metadata": {},
   "outputs": [],
   "source": [
    "plt.plot(alphas, losses)\n",
    "plt.yscale('log')"
   ]
  },
  {
   "cell_type": "code",
   "execution_count": 13,
   "id": "64f37da8",
   "metadata": {},
   "outputs": [],
   "source": [
    "def logarithmic_line_search(f, low=1e-12, high=1e12, points=15, depth=4):\n",
    "    \"\"\"Performs line search of positive parameter between \n",
    "    `low` and `high`, minimizing objective function `f`.\n",
    "    Only searches through positive values of parameter,\n",
    "    so define your objective function `f` accordingly.\"\"\"\n",
    "    assert low > 0 and high > 0\n",
    "    best_loss = float('inf')\n",
    "    best_alpha = None\n",
    "    for d in range(depth):\n",
    "        alphas = np.exp(np.linspace(np.log(low), np.log(high), points))\n",
    "        losses = [f(alpha) for alpha in alphas]\n",
    "        i_min = np.argmin(losses)\n",
    "        if losses[i_min] < best_loss:\n",
    "            best_alpha = alphas[i_min]\n",
    "        else:\n",
    "            return alphas[i_min]\n",
    "        if i_min == 0:\n",
    "            high = alphas[i_min + 1]\n",
    "            low = alphas[i_min] * (alphas[i_min] / alphas[i_min + 1])\n",
    "        elif i_min == points - 1:\n",
    "            low = alphas[i_min - 1]\n",
    "            high = alphas[i_min] * (alphas[i_min] / alphas[i_min - 1])\n",
    "        else:\n",
    "            low = alphas[i_min - 1]\n",
    "            high = alphas[i_min + 1]\n",
    "    return best_alpha"
   ]
  },
  {
   "cell_type": "markdown",
   "id": "de1d7b38",
   "metadata": {},
   "source": [
    "### perform low-curvature subspace training with line search"
   ]
  },
  {
   "cell_type": "code",
   "execution_count": 16,
   "id": "f707c019",
   "metadata": {},
   "outputs": [
    {
     "data": {
      "application/vnd.jupyter.widget-view+json": {
       "model_id": "d363445b018f460d9e0f0454cd4dc065",
       "version_major": 2,
       "version_minor": 0
      },
      "text/plain": [
       "  0%|          | 0/500 [00:00<?, ?it/s]"
      ]
     },
     "metadata": {},
     "output_type": "display_data"
    }
   ],
   "source": [
    "# start training at the end of BFGS\n",
    "for j, p in enumerate(mlp.parameters()):\n",
    "    p.data = solution_params[j].clone()\n",
    "\n",
    "curvature_threshold = 1e-4\n",
    "\n",
    "lrs = []\n",
    "losses = []\n",
    "for _ in tqdm(range(500)):\n",
    "    \n",
    "    # parameters we start the step at\n",
    "    step_params = [p.detach().clone() for p in mlp.parameters()]\n",
    "    \n",
    "    # compute gradient and hessian\n",
    "    l = mse_loss_fn_torch(mlp(x_i), y_i)\n",
    "    l.backward()\n",
    "    g = [p.grad.detach().clone().cpu() for p in mlp.parameters()]\n",
    "    mlp.zero_grad()\n",
    "    hessian = hessian_autograd(mlp, mse_loss_fn_torch, x_i, y_i)\n",
    "    vals, vs = decompose_hessian(hessian, lenghts, shapes)\n",
    "    mlp.zero_grad()\n",
    "    \n",
    "    # compute projected gradient\n",
    "    v_g = []\n",
    "    with torch.no_grad():\n",
    "        for i, p in enumerate(mlp.parameters()):\n",
    "            g_i_proj = torch.zeros(p.shape).to(device)\n",
    "            for j, (val, v) in enumerate(zip(vals.numpy(), vs)):\n",
    "                if np.abs(val) < curvature_threshold:\n",
    "                    g_i_proj += (v[i] * dot_prod(v, g)).to(device)\n",
    "            v_g.append(g_i_proj)\n",
    "    \n",
    "    # helper function for computing loss along direction v_g\n",
    "    @torch.no_grad()\n",
    "    def f(alpha):\n",
    "        for j, p in enumerate(mlp.parameters()):\n",
    "            p.data = step_params[j].clone() - alpha * v_g[j]\n",
    "        l = mse_loss_fn_torch(mlp(x_i), y_i).item()\n",
    "        for j, p in enumerate(mlp.parameters()):\n",
    "            p.data = step_params[j].clone()\n",
    "        return l\n",
    "    \n",
    "    # perform search and step\n",
    "    lr = logarithmic_line_search(f)\n",
    "    with torch.no_grad():\n",
    "        for i, p in enumerate(mlp.parameters()):\n",
    "            p.add_(-lr * v_g[i])\n",
    "    lrs.append(lr)\n",
    "    losses.append(mse_loss_fn_torch(mlp(x_i), y_i).item())\n",
    "    if losses[-1] > l.item():\n",
    "        for j, p in enumerate(mlp.parameters()):\n",
    "            p.data = step_params[j].clone()\n",
    "        break"
   ]
  },
  {
   "cell_type": "code",
   "execution_count": 17,
   "id": "2630091d",
   "metadata": {},
   "outputs": [
    {
     "data": {
      "text/plain": [
       "[<matplotlib.lines.Line2D at 0x7f2530378b50>]"
      ]
     },
     "execution_count": 17,
     "metadata": {},
     "output_type": "execute_result"
    },
    {
     "data": {
      "image/png": "[encoded data removed]",
      "text/plain": [
       "<Figure size 432x288 with 1 Axes>"
      ]
     },
     "metadata": {
      "needs_background": "light"
     },
     "output_type": "display_data"
    }
   ],
   "source": [
    "plt.plot(losses)"
   ]
  },
  {
   "cell_type": "code",
   "execution_count": 35,
   "id": "8cf7eb0f",
   "metadata": {},
   "outputs": [
    {
     "data": {
      "application/vnd.jupyter.widget-view+json": {
       "model_id": "1946aeee29bf4e2bbbff492e0355d1eb",
       "version_major": 2,
       "version_minor": 0
      },
      "text/plain": [
       "  0%|          | 0/5 [00:00<?, ?it/s]"
      ]
     },
     "metadata": {},
     "output_type": "display_data"
    },
    {
     "data": {
      "application/vnd.jupyter.widget-view+json": {
       "model_id": "",
       "version_major": 2,
       "version_minor": 0
      },
      "text/plain": [
       "  0%|          | 0/200 [00:00<?, ?it/s]"
      ]
     },
     "metadata": {},
     "output_type": "display_data"
    },
    {
     "data": {
      "application/vnd.jupyter.widget-view+json": {
       "model_id": "",
       "version_major": 2,
       "version_minor": 0
      },
      "text/plain": [
       "  0%|          | 0/200 [00:00<?, ?it/s]"
      ]
     },
     "metadata": {},
     "output_type": "display_data"
    },
    {
     "data": {
      "application/vnd.jupyter.widget-view+json": {
       "model_id": "",
       "version_major": 2,
       "version_minor": 0
      },
      "text/plain": [
       "  0%|          | 0/200 [00:00<?, ?it/s]"
      ]
     },
     "metadata": {},
     "output_type": "display_data"
    },
    {
     "data": {
      "application/vnd.jupyter.widget-view+json": {
       "model_id": "",
       "version_major": 2,
       "version_minor": 0
      },
      "text/plain": [
       "  0%|          | 0/200 [00:00<?, ?it/s]"
      ]
     },
     "metadata": {},
     "output_type": "display_data"
    },
    {
     "data": {
      "application/vnd.jupyter.widget-view+json": {
       "model_id": "",
       "version_major": 2,
       "version_minor": 0
      },
      "text/plain": [
       "  0%|          | 0/200 [00:00<?, ?it/s]"
      ]
     },
     "metadata": {},
     "output_type": "display_data"
    }
   ],
   "source": [
    "thresholds = [1e-6, 1e-8, 1e-10, 1e-12, 1e-15]\n",
    "lrs = defaultdict(list)\n",
    "losses = defaultdict(list)\n",
    "\n",
    "for curvature_threshold in tqdm(thresholds):\n",
    "    # start training at the end of BFGS\n",
    "    for j, p in enumerate(mlp.parameters()):\n",
    "        p.data = solution_params[j].clone()\n",
    "\n",
    "    for _ in tqdm(range(200), leave=False):\n",
    "\n",
    "        # parameters we start the step at\n",
    "        step_params = [p.detach().clone() for p in mlp.parameters()]\n",
    "\n",
    "        # compute gradient and hessian\n",
    "        l = mse_loss_fn_torch(mlp(x_i), y_i)\n",
    "        l.backward()\n",
    "        g = [p.grad.detach().clone().cpu() for p in mlp.parameters()]\n",
    "        mlp.zero_grad()\n",
    "        hessian = hessian_autograd(mlp, mse_loss_fn_torch, x_i, y_i)\n",
    "        vals, vs = decompose_hessian(hessian, lenghts, shapes)\n",
    "        mlp.zero_grad()\n",
    "\n",
    "        # compute projected gradient\n",
    "        v_g = []\n",
    "        with torch.no_grad():\n",
    "            for i, p in enumerate(mlp.parameters()):\n",
    "                g_i_proj = torch.zeros(p.shape).to(device)\n",
    "                for j, (val, v) in enumerate(zip(vals.numpy(), vs)):\n",
    "                    if np.abs(val) < curvature_threshold:\n",
    "                        g_i_proj += (v[i] * dot_prod(v, g)).to(device)\n",
    "                v_g.append(g_i_proj)\n",
    "\n",
    "        # helper function for computing loss along direction v_g\n",
    "        @torch.no_grad()\n",
    "        def f(alpha):\n",
    "            for j, p in enumerate(mlp.parameters()):\n",
    "                p.data = step_params[j].clone() - alpha * v_g[j]\n",
    "            l = mse_loss_fn_torch(mlp(x_i), y_i).item()\n",
    "            for j, p in enumerate(mlp.parameters()):\n",
    "                p.data = step_params[j].clone()\n",
    "            return l\n",
    "\n",
    "        # perform search and step\n",
    "        lr = logarithmic_line_search(f)\n",
    "        with torch.no_grad():\n",
    "            for i, p in enumerate(mlp.parameters()):\n",
    "                p.add_(-lr * v_g[i])\n",
    "        lrs[curvature_threshold].append(lr)\n",
    "        losses[curvature_threshold].append(mse_loss_fn_torch(mlp(x_i), y_i).item())\n",
    "    "
   ]
  },
  {
   "cell_type": "code",
   "execution_count": 44,
   "id": "d2f16448",
   "metadata": {},
   "outputs": [
    {
     "data": {
      "text/plain": [
       "<matplotlib.legend.Legend at 0x7f24fa1d96a0>"
      ]
     },
     "execution_count": 44,
     "metadata": {},
     "output_type": "execute_result"
    },
    {
     "data": {
      "image/png": "[encoded data removed]",
      "text/plain": [
       "<Figure size 432x288 with 1 Axes>"
      ]
     },
     "metadata": {
      "needs_background": "light"
     },
     "output_type": "display_data"
    }
   ],
   "source": [
    "colors = plt.cm.plasma(np.linspace(0.8, 0, len(thresholds)))\n",
    "for i, curvature_threshold in enumerate(thresholds):\n",
    "    plt.plot(losses[curvature_threshold], label=\"{:.1e}\".format(curvature_threshold), color=colors[i])\n",
    "plt.legend(title='curv threshold')"
   ]
  },
  {
   "cell_type": "markdown",
   "id": "b4af6c17",
   "metadata": {},
   "source": [
    "### Redo with a higher upper limit on step size and with even lower thresholds"
   ]
  },
  {
   "cell_type": "code",
   "execution_count": 47,
   "id": "9d5fd639",
   "metadata": {},
   "outputs": [
    {
     "data": {
      "application/vnd.jupyter.widget-view+json": {
       "model_id": "9c96d54bcf3a4d59acbed7d0b0eeeb63",
       "version_major": 2,
       "version_minor": 0
      },
      "text/plain": [
       "  0%|          | 0/7 [00:00<?, ?it/s]"
      ]
     },
     "metadata": {},
     "output_type": "display_data"
    },
    {
     "data": {
      "application/vnd.jupyter.widget-view+json": {
       "model_id": "",
       "version_major": 2,
       "version_minor": 0
      },
      "text/plain": [
       "  0%|          | 0/200 [00:00<?, ?it/s]"
      ]
     },
     "metadata": {},
     "output_type": "display_data"
    },
    {
     "data": {
      "application/vnd.jupyter.widget-view+json": {
       "model_id": "",
       "version_major": 2,
       "version_minor": 0
      },
      "text/plain": [
       "  0%|          | 0/200 [00:00<?, ?it/s]"
      ]
     },
     "metadata": {},
     "output_type": "display_data"
    },
    {
     "data": {
      "application/vnd.jupyter.widget-view+json": {
       "model_id": "",
       "version_major": 2,
       "version_minor": 0
      },
      "text/plain": [
       "  0%|          | 0/200 [00:00<?, ?it/s]"
      ]
     },
     "metadata": {},
     "output_type": "display_data"
    },
    {
     "data": {
      "application/vnd.jupyter.widget-view+json": {
       "model_id": "",
       "version_major": 2,
       "version_minor": 0
      },
      "text/plain": [
       "  0%|          | 0/200 [00:00<?, ?it/s]"
      ]
     },
     "metadata": {},
     "output_type": "display_data"
    },
    {
     "data": {
      "application/vnd.jupyter.widget-view+json": {
       "model_id": "",
       "version_major": 2,
       "version_minor": 0
      },
      "text/plain": [
       "  0%|          | 0/200 [00:00<?, ?it/s]"
      ]
     },
     "metadata": {},
     "output_type": "display_data"
    },
    {
     "data": {
      "application/vnd.jupyter.widget-view+json": {
       "model_id": "",
       "version_major": 2,
       "version_minor": 0
      },
      "text/plain": [
       "  0%|          | 0/200 [00:00<?, ?it/s]"
      ]
     },
     "metadata": {},
     "output_type": "display_data"
    },
    {
     "data": {
      "application/vnd.jupyter.widget-view+json": {
       "model_id": "",
       "version_major": 2,
       "version_minor": 0
      },
      "text/plain": [
       "  0%|          | 0/200 [00:00<?, ?it/s]"
      ]
     },
     "metadata": {},
     "output_type": "display_data"
    }
   ],
   "source": [
    "thresholds = [1e-6, 1e-8, 1e-10, 1e-12, 1e-14, 1e-16, 1e-18]\n",
    "lrs = defaultdict(list)\n",
    "losses = defaultdict(list)\n",
    "\n",
    "for curvature_threshold in tqdm(thresholds):\n",
    "    # start training at the end of BFGS\n",
    "    for j, p in enumerate(mlp.parameters()):\n",
    "        p.data = solution_params[j].clone()\n",
    "\n",
    "    for _ in tqdm(range(200), leave=False):\n",
    "\n",
    "        # parameters we start the step at\n",
    "        step_params = [p.detach().clone() for p in mlp.parameters()]\n",
    "\n",
    "        # compute gradient and hessian\n",
    "        l = mse_loss_fn_torch(mlp(x_i), y_i)\n",
    "        l.backward()\n",
    "        g = [p.grad.detach().clone().cpu() for p in mlp.parameters()]\n",
    "        mlp.zero_grad()\n",
    "        hessian = hessian_autograd(mlp, mse_loss_fn_torch, x_i, y_i)\n",
    "        vals, vs = decompose_hessian(hessian, lenghts, shapes)\n",
    "        mlp.zero_grad()\n",
    "\n",
    "        # compute projected gradient\n",
    "        v_g = []\n",
    "        with torch.no_grad():\n",
    "            for i, p in enumerate(mlp.parameters()):\n",
    "                g_i_proj = torch.zeros(p.shape).to(device)\n",
    "                for j, (val, v) in enumerate(zip(vals.numpy(), vs)):\n",
    "                    if np.abs(val) < curvature_threshold:\n",
    "                        g_i_proj += (v[i] * dot_prod(v, g)).to(device)\n",
    "                v_g.append(g_i_proj)\n",
    "\n",
    "        # helper function for computing loss along direction v_g\n",
    "        @torch.no_grad()\n",
    "        def f(alpha):\n",
    "            for j, p in enumerate(mlp.parameters()):\n",
    "                p.data = step_params[j].clone() - alpha * v_g[j]\n",
    "            l = mse_loss_fn_torch(mlp(x_i), y_i).item()\n",
    "            for j, p in enumerate(mlp.parameters()):\n",
    "                p.data = step_params[j].clone()\n",
    "            return l\n",
    "\n",
    "        # perform search and step\n",
    "        lr = logarithmic_line_search(f, high=1e18)\n",
    "        with torch.no_grad():\n",
    "            for i, p in enumerate(mlp.parameters()):\n",
    "                p.add_(-lr * v_g[i])\n",
    "        lrs[curvature_threshold].append(lr)\n",
    "        losses[curvature_threshold].append(mse_loss_fn_torch(mlp(x_i), y_i).item())\n",
    "    "
   ]
  },
  {
   "cell_type": "code",
   "execution_count": 55,
   "id": "ebaeae97",
   "metadata": {},
   "outputs": [
    {
     "data": {
      "text/plain": [
       "Text(0.5, 1.0, 'Further reducing loss (after BFGS) with line searches\\nin low-curvature subspaces')"
      ]
     },
     "execution_count": 55,
     "metadata": {},
     "output_type": "execute_result"
    },
    {
     "data": {
      "image/png": "[encoded data removed]",
      "text/plain": [
       "<Figure size 432x288 with 1 Axes>"
      ]
     },
     "metadata": {
      "needs_background": "light"
     },
     "output_type": "display_data"
    }
   ],
   "source": [
    "colors = plt.cm.plasma(np.linspace(0.9, 0, len(thresholds)))\n",
    "for i, curvature_threshold in enumerate(thresholds):\n",
    "    plt.plot(losses[curvature_threshold], label=\"{:.1e}\".format(curvature_threshold), color=colors[i])\n",
    "plt.legend(title='curv threshold', loc='upper right')\n",
    "plt.xlabel('low-curvature subspace steps (line search each step)')\n",
    "plt.yscale('log')\n",
    "plt.ylabel('MSE loss')\n",
    "plt.title(\"Further reducing loss (after BFGS) with line searches\\nin low-curvature subspaces\")"
   ]
  },
  {
   "cell_type": "code",
   "execution_count": 53,
   "id": "3787be2c",
   "metadata": {},
   "outputs": [
    {
     "data": {
      "text/plain": [
       "[1.3832004542974203e-13,\n",
       " 1.3198238076315942e-13,\n",
       " 1.2457245781276357e-13,\n",
       " 1.0948402154582672e-13,\n",
       " 9.174110989189353e-14,\n",
       " 7.471798806498432e-14,\n",
       " 6.774264216552252e-14,\n",
       " 6.228717498160969e-14,\n",
       " 6.032595265086807e-14,\n",
       " 5.804384066491343e-14,\n",
       " 5.550951853143313e-14,\n",
       " 5.5042227682368445e-14,\n",
       " 5.323723057024406e-14,\n",
       " 5.139542900805545e-14,\n",
       " 4.963575170101742e-14,\n",
       " 4.751792728604941e-14,\n",
       " 4.6928880579113584e-14,\n",
       " 4.5860203960331304e-14,\n",
       " 4.516521313345596e-14,\n",
       " 4.441231333145881e-14,\n",
       " 4.3723438290945705e-14,\n",
       " 4.344417956442921e-14,\n",
       " 4.3139567561688006e-14,\n",
       " 4.3040895203386096e-14,\n",
       " 4.021980274477118e-14,\n",
       " 3.9461106052978737e-14,\n",
       " 3.8459171732810595e-14,\n",
       " 3.794118731727139e-14,\n",
       " 3.7596877842968357e-14,\n",
       " 3.746869515100934e-14,\n",
       " 3.7295820463262704e-14,\n",
       " 3.674682323264484e-14,\n",
       " 3.6573618757565866e-14,\n",
       " 3.633553880238109e-14,\n",
       " 3.563160825528646e-14,\n",
       " 3.5399611080033435e-14,\n",
       " 3.493880036088241e-14,\n",
       " 3.484936308434888e-14,\n",
       " 3.460323803131363e-14,\n",
       " 3.445106520955767e-14,\n",
       " 3.423759904030992e-14,\n",
       " 3.419055317490291e-14,\n",
       " 3.399157618124991e-14,\n",
       " 3.389166163566136e-14,\n",
       " 3.3711668977027933e-14,\n",
       " 3.369524350018039e-14,\n",
       " 3.356728134594372e-14,\n",
       " 3.350208981006955e-14,\n",
       " 3.3202919964126283e-14,\n",
       " 3.3085174120619425e-14,\n",
       " 3.2801580919317985e-14,\n",
       " 3.265188999432693e-14,\n",
       " 3.258690447096454e-14,\n",
       " 3.248175638627417e-14,\n",
       " 3.232440011645721e-14,\n",
       " 3.2229276611517176e-14,\n",
       " 3.212253744789377e-14,\n",
       " 3.20218253089e-14,\n",
       " 3.201379866015958e-14,\n",
       " 3.1988885083211576e-14,\n",
       " 3.190153241677968e-14,\n",
       " 3.1821478995597205e-14,\n",
       " 3.177149323609555e-14,\n",
       " 3.1670220092501915e-14,\n",
       " 3.1544731959114725e-14,\n",
       " 3.139538115009678e-14,\n",
       " 3.1300597709545683e-14,\n",
       " 3.11528067772195e-14,\n",
       " 3.109629129816744e-14,\n",
       " 3.100207174019595e-14,\n",
       " 3.0962120802530096e-14,\n",
       " 3.090159992987128e-14,\n",
       " 3.078718459715552e-14,\n",
       " 3.070239865629041e-14,\n",
       " 3.060388935092207e-14,\n",
       " 3.0557008428282424e-14,\n",
       " 3.049747080189617e-14,\n",
       " 3.044547370509124e-14,\n",
       " 3.0385070452240535e-14,\n",
       " 3.026003291358819e-14,\n",
       " 3.017089404181688e-14,\n",
       " 3.011893718780947e-14,\n",
       " 3.0070311352391884e-14,\n",
       " 2.979788847187406e-14,\n",
       " 2.959948587809852e-14,\n",
       " 2.941722424043858e-14,\n",
       " 2.9375462774520184e-14,\n",
       " 2.9343817042906465e-14,\n",
       " 2.930371916953013e-14,\n",
       " 2.919701694544723e-14,\n",
       " 2.914468440114483e-14,\n",
       " 2.9077136130878454e-14,\n",
       " 2.898567964137107e-14,\n",
       " 2.8934141579350084e-14,\n",
       " 2.8922876986028956e-14,\n",
       " 2.889157928343939e-14,\n",
       " 2.885907624200601e-14,\n",
       " 2.883956198185555e-14,\n",
       " 2.8830870379758034e-14,\n",
       " 2.8824331244372366e-14,\n",
       " 2.876308502578868e-14,\n",
       " 2.8749075681543365e-14,\n",
       " 2.874109541428577e-14,\n",
       " 2.8734448870809886e-14,\n",
       " 2.8729830323785624e-14,\n",
       " 2.857524337735466e-14,\n",
       " 2.8537178442439184e-14,\n",
       " 2.8528798117711497e-14,\n",
       " 2.852004105865065e-14,\n",
       " 2.846320945893928e-14,\n",
       " 2.8450749786218845e-14,\n",
       " 2.8443979688334915e-14,\n",
       " 2.8438081645620004e-14,\n",
       " 2.8429868870205165e-14,\n",
       " 2.842448240302108e-14,\n",
       " 2.841002185747408e-14,\n",
       " 2.83863759563899e-14,\n",
       " 2.8373673857202842e-14,\n",
       " 2.8368433160850002e-14,\n",
       " 2.8365106042377826e-14,\n",
       " 2.8360329104721628e-14,\n",
       " 2.8357147338834437e-14,\n",
       " 2.8346496349982905e-14,\n",
       " 2.834099538594965e-14,\n",
       " 2.826862673662176e-14,\n",
       " 2.8229703300281794e-14,\n",
       " 2.8147645265364623e-14,\n",
       " 2.8129452045210534e-14,\n",
       " 2.8106822581728833e-14,\n",
       " 2.8098117308408093e-14,\n",
       " 2.8093496927424688e-14,\n",
       " 2.8084493294078934e-14,\n",
       " 2.8078890018196127e-14,\n",
       " 2.8073599617726288e-14,\n",
       " 2.8025205792491865e-14,\n",
       " 2.7989276679914557e-14,\n",
       " 2.7948110450255567e-14,\n",
       " 2.7904255366806144e-14,\n",
       " 2.7868039617913392e-14,\n",
       " 2.7854241661249236e-14,\n",
       " 2.7832140289339232e-14,\n",
       " 2.7769857593624327e-14,\n",
       " 2.7733163408708037e-14,\n",
       " 2.7699493921664605e-14,\n",
       " 2.7677198459964042e-14,\n",
       " 2.7630861971780032e-14,\n",
       " 2.7579552065036763e-14,\n",
       " 2.7563372561732234e-14,\n",
       " 2.7537675613560895e-14,\n",
       " 2.752057708006119e-14,\n",
       " 2.7505849865076803e-14,\n",
       " 2.748732283789613e-14,\n",
       " 2.7366123694608727e-14,\n",
       " 2.7284533383712622e-14,\n",
       " 2.7233360938485237e-14,\n",
       " 2.7221203828976506e-14,\n",
       " 2.721771058708003e-14,\n",
       " 2.7202103835781103e-14,\n",
       " 2.7200746242893398e-14,\n",
       " 2.7114415019209856e-14,\n",
       " 2.707345591771871e-14,\n",
       " 2.7055820308384744e-14,\n",
       " 2.7040775013929034e-14,\n",
       " 2.70334193499344e-14,\n",
       " 2.7027611527913667e-14,\n",
       " 2.7006901102981294e-14,\n",
       " 2.6996228793218402e-14,\n",
       " 2.695941453607715e-14,\n",
       " 2.6946770372138467e-14,\n",
       " 2.692150107613746e-14,\n",
       " 2.6918605917173536e-14,\n",
       " 2.690985724106127e-14,\n",
       " 2.6901414950615772e-14,\n",
       " 2.6893954071113874e-14,\n",
       " 2.6891646113799853e-14,\n",
       " 2.6872888844708538e-14,\n",
       " 2.6850870319290184e-14,\n",
       " 2.664182949278353e-14,\n",
       " 2.6441165219458078e-14,\n",
       " 2.642246850429016e-14,\n",
       " 2.6415228557259854e-14,\n",
       " 2.6388041748146965e-14,\n",
       " 2.633392255973379e-14,\n",
       " 2.632359283676315e-14,\n",
       " 2.631768022365399e-14,\n",
       " 2.6311891495730398e-14,\n",
       " 2.6304499677957387e-14,\n",
       " 2.6296070428030837e-14,\n",
       " 2.6270351102500895e-14,\n",
       " 2.6264724930811886e-14,\n",
       " 2.626019552427731e-14,\n",
       " 2.6238960601700808e-14,\n",
       " 2.6235117814628386e-14,\n",
       " 2.6227313635380494e-14,\n",
       " 2.5935335329064367e-14,\n",
       " 2.5734008910140235e-14,\n",
       " 2.5700177382235676e-14,\n",
       " 2.5693799917403006e-14,\n",
       " 2.5691231980112597e-14,\n",
       " 2.5689470532965705e-14]"
      ]
     },
     "execution_count": 53,
     "metadata": {},
     "output_type": "execute_result"
    }
   ],
   "source": [
    "losses[1e-16]"
   ]
  },
  {
   "cell_type": "code",
   "execution_count": null,
   "id": "2ef64408",
   "metadata": {},
   "outputs": [],
   "source": []
  },
  {
   "cell_type": "code",
   "execution_count": null,
   "id": "a3c7762c",
   "metadata": {},
   "outputs": [],
   "source": []
  },
  {
   "cell_type": "code",
   "execution_count": null,
   "id": "c942d716",
   "metadata": {},
   "outputs": [],
   "source": []
  },
  {
   "cell_type": "code",
   "execution_count": null,
   "id": "d4c3a9e6",
   "metadata": {},
   "outputs": [],
   "source": []
  },
  {
   "cell_type": "code",
   "execution_count": null,
   "id": "68c15be5",
   "metadata": {},
   "outputs": [],
   "source": []
  },
  {
   "cell_type": "code",
   "execution_count": null,
   "id": "a35e725b",
   "metadata": {},
   "outputs": [],
   "source": []
  },
  {
   "cell_type": "code",
   "execution_count": null,
   "id": "3b1d9b8b",
   "metadata": {},
   "outputs": [],
   "source": []
  },
  {
   "cell_type": "code",
   "execution_count": null,
   "id": "de1bb12e",
   "metadata": {},
   "outputs": [],
   "source": []
  },
  {
   "cell_type": "markdown",
   "id": "f9a8665a",
   "metadata": {},
   "source": [
    "## Deprecated (unmodified from clone of another notebook)"
   ]
  },
  {
   "cell_type": "code",
   "execution_count": null,
   "id": "43901175",
   "metadata": {},
   "outputs": [],
   "source": [
    "for j, p in enumerate(mlp.parameters()):\n",
    "    p.data = solution_params[j].clone()\n",
    "\n",
    "curvature_threshold = 1e-3\n",
    "lr = 2.5e3\n",
    "\n",
    "losses = []\n",
    "for _ in tqdm(range(500)):\n",
    "    \n",
    "    rmse_loss_fn_torch(mlp(x_i), y_i).backward()\n",
    "    g = [p.grad.detach().clone().cpu() for p in mlp.parameters()]\n",
    "    mlp.zero_grad()\n",
    "    with torch.no_grad():\n",
    "        g_mag = np.sqrt(dot_prod(g, g))\n",
    "    \n",
    "    hessian = hessian_autograd(mlp, rmse_loss_fn_torch, x_i, y_i)\n",
    "    vals, vs = decompose_hessian(hessian, lenghts, shapes)\n",
    "    mlp.zero_grad()\n",
    "    \n",
    "    with torch.no_grad():\n",
    "        for i, p in enumerate(mlp.parameters()):\n",
    "            g_i_proj = torch.zeros(p.shape).to(device)\n",
    "            for j, (val, v) in enumerate(zip(vals.numpy(), vs)):\n",
    "                if np.abs(val) < curvature_threshold:\n",
    "                    g_i_proj += (v[i] * dot_prod(v, g) / g_mag).to(device)\n",
    "            p.add_(-lr * g_i_proj)\n",
    "        losses.append(rmse_loss_fn_torch(mlp(x_i), y_i).item())"
   ]
  },
  {
   "cell_type": "code",
   "execution_count": null,
   "id": "80a405af",
   "metadata": {},
   "outputs": [],
   "source": [
    "plt.plot(losses)\n",
    "plt.ylabel(\"RMSE loss\")\n",
    "plt.xlabel(\"Curvature-restricted subspace training steps\")"
   ]
  },
  {
   "cell_type": "code",
   "execution_count": null,
   "id": "25158b09",
   "metadata": {},
   "outputs": [],
   "source": [
    "for j, p in enumerate(mlp.parameters()):\n",
    "    p.data = solution_params[j].clone()\n",
    "\n",
    "curvature_threshold = 1e-4\n",
    "lr = 2.5e3\n",
    "\n",
    "losses = []\n",
    "for _ in tqdm(range(200)):\n",
    "    \n",
    "    rmse_loss_fn_torch(mlp(x_i), y_i).backward()\n",
    "    g = [p.grad.detach().clone().cpu() for p in mlp.parameters()]\n",
    "    mlp.zero_grad()\n",
    "    with torch.no_grad():\n",
    "        g_mag = np.sqrt(dot_prod(g, g))\n",
    "    \n",
    "    hessian = hessian_autograd(mlp, rmse_loss_fn_torch, x_i, y_i)\n",
    "    vals, vs = decompose_hessian(hessian, lenghts, shapes)\n",
    "    mlp.zero_grad()\n",
    "    \n",
    "    with torch.no_grad():\n",
    "        for i, p in enumerate(mlp.parameters()):\n",
    "            g_i_proj = torch.zeros(p.shape).to(device)\n",
    "            for j, (val, v) in enumerate(zip(vals.numpy(), vs)):\n",
    "                if np.abs(val) < curvature_threshold:\n",
    "                    g_i_proj += (v[i] * dot_prod(v, g) / g_mag).to(device)\n",
    "            p.add_(-lr * g_i_proj)\n",
    "        losses.append(rmse_loss_fn_torch(mlp(x_i), y_i).item())"
   ]
  },
  {
   "cell_type": "code",
   "execution_count": null,
   "id": "dde0de28",
   "metadata": {},
   "outputs": [],
   "source": [
    "plt.plot(losses)\n",
    "plt.ylabel(\"RMSE loss\")\n",
    "plt.xlabel(\"Curvature-restricted subspace training steps\")"
   ]
  },
  {
   "cell_type": "code",
   "execution_count": null,
   "id": "72741512",
   "metadata": {},
   "outputs": [],
   "source": [
    "thresholds = [2**(-n) for n in range(15)]\n",
    "lrs = [2**n for n in range(-4, 20)]\n",
    "\n",
    "results = dict()\n",
    "\n",
    "for lr, curvature_threshold in tqdm(list(product(thresholds, lrs))):\n",
    "    \n",
    "    for j, p in enumerate(mlp.parameters()):\n",
    "        p.data = solution_params[j].clone()\n",
    "\n",
    "    for _ in range(10):\n",
    "\n",
    "        rmse_loss_fn_torch(mlp(x_i), y_i).backward()\n",
    "        g = [p.grad.detach().clone().cpu() for p in mlp.parameters()]\n",
    "        mlp.zero_grad()\n",
    "        with torch.no_grad():\n",
    "            g_mag = np.sqrt(dot_prod(g, g))\n",
    "\n",
    "        hessian = hessian_autograd(mlp, rmse_loss_fn_torch, x_i, y_i)\n",
    "        vals, vs = decompose_hessian(hessian, lenghts, shapes)\n",
    "        mlp.zero_grad()\n",
    "        \n",
    "        losses = []\n",
    "        with torch.no_grad():\n",
    "            for i, p in enumerate(mlp.parameters()):\n",
    "                g_i_proj = torch.zeros(p.shape).to(device)\n",
    "                for j, (val, v) in enumerate(zip(vals.numpy(), vs)):\n",
    "                    if np.abs(val) < curvature_threshold:\n",
    "                        g_i_proj += (v[i] * dot_prod(v, g) / g_mag).to(device)\n",
    "                p.add_(-lr * g_i_proj)\n",
    "            losses.append(rmse_loss_fn_torch(mlp(x_i), y_i).item())\n",
    "        results[(lr, curvature_threshold)] = min(losses)\n"
   ]
  },
  {
   "cell_type": "code",
   "execution_count": null,
   "id": "e406b6cb",
   "metadata": {},
   "outputs": [],
   "source": [
    "min(results.values())"
   ]
  },
  {
   "cell_type": "markdown",
   "id": "87eac31b",
   "metadata": {},
   "source": [
    "### Implement Adam within the restricted space"
   ]
  },
  {
   "cell_type": "code",
   "execution_count": null,
   "id": "baae9e7e",
   "metadata": {},
   "outputs": [],
   "source": [
    "for j, p in enumerate(mlp.parameters()):\n",
    "    p.data = solution_params[j].clone()\n",
    "\n",
    "curvature_threshold = 1e-4\n",
    "lr = 1.0e-10\n",
    "\n",
    "beta1 = 0.9\n",
    "beta2 = 0.999\n",
    "epsilon = 1e-8\n",
    "\n",
    "m = [torch.zeros(p.shape).to(device) for p in mlp.parameters()]\n",
    "v = [torch.zeros(p.shape).to(device) for p in mlp.parameters()]\n",
    "\n",
    "losses = []\n",
    "for t in tqdm(range(10)):\n",
    "    with torch.no_grad():\n",
    "        losses.append(rmse_loss_fn_torch(mlp(x_i), y_i).item())\n",
    "    \n",
    "    rmse_loss_fn_torch(mlp(x_i), y_i).backward()\n",
    "    g = [p.grad.detach().clone().cpu() for p in mlp.parameters()]\n",
    "    mlp.zero_grad()\n",
    "    with torch.no_grad():\n",
    "        g_mag = np.sqrt(dot_prod(g, g))\n",
    "    \n",
    "    hessian = hessian_autograd(mlp, rmse_loss_fn_torch, x_i, y_i)\n",
    "    vals, vs = decompose_hessian(hessian, lenghts, shapes)\n",
    "    mlp.zero_grad()\n",
    "    \n",
    "    g_proj = []\n",
    "    with torch.no_grad():\n",
    "        for i, p in enumerate(mlp.parameters()):\n",
    "            g_i_proj = torch.zeros(p.shape).to(device)\n",
    "            for j, (val, vec) in enumerate(zip(vals.numpy(), vs)):\n",
    "                if np.abs(val) < curvature_threshold:\n",
    "                    g_i_proj += (vec[i] * dot_prod(vec, g) / g_mag).to(device)\n",
    "            g_proj.append(g_i_proj)\n",
    "    \n",
    "    with torch.no_grad():\n",
    "        for i, p in enumerate(mlp.parameters()):\n",
    "            m[i] = beta1 * m[i] + (1 - beta1) * g_proj[i]\n",
    "            v[i] = beta2 * v[i] + (1 - beta2) * torch.pow(g_proj[i], 2)\n",
    "            mhat = m[i] / (1 + np.power(beta1, t))\n",
    "            vhat = v[i] / (1 + np.power(beta2, t))\n",
    "            p.add_(-lr * mhat / (torch.sqrt(vhat) + epsilon))\n",
    "            \n",
    "        losses.append(rmse_loss_fn_torch(mlp(x_i), y_i).item())"
   ]
  },
  {
   "cell_type": "code",
   "execution_count": null,
   "id": "536919be",
   "metadata": {},
   "outputs": [],
   "source": [
    "plt.plot(losses)\n",
    "plt.yscale('log')"
   ]
  },
  {
   "cell_type": "code",
   "execution_count": null,
   "id": "a7fd858a",
   "metadata": {},
   "outputs": [],
   "source": [
    "for j, p in enumerate(mlp.parameters()):\n",
    "    p.data = solution_params[j].clone()\n",
    "\n",
    "curvature_threshold = 1e-4\n",
    "\n",
    "lrs = []\n",
    "\n",
    "losses = []\n",
    "for _ in tqdm(range(10)):\n",
    "    \n",
    "    rmse_loss_fn_torch(mlp(x_i), y_i).backward()\n",
    "    g = [p.grad.detach().clone().cpu() for p in mlp.parameters()]\n",
    "    mlp.zero_grad()\n",
    "    with torch.no_grad():\n",
    "        g_mag = np.sqrt(dot_prod(g, g))\n",
    "    \n",
    "    hessian = hessian_autograd(mlp, rmse_loss_fn_torch, x_i, y_i)\n",
    "    vals, vs = decompose_hessian(hessian, lenghts, shapes)\n",
    "    mlp.zero_grad()\n",
    "    \n",
    "    with torch.no_grad():\n",
    "        for i, p in enumerate(mlp.parameters()):\n",
    "            g_i_proj = torch.zeros(p.shape).to(device)\n",
    "            optimal_lrs = []\n",
    "            for j, (val, v) in enumerate(zip(vals.numpy(), vs)):\n",
    "                if np.abs(val) < curvature_threshold:\n",
    "                    prod = dot_prod(v, g)\n",
    "                    optimal_lrs.append(np.power(dot_prod(v, g), 2) / g_mag / np.abs(val))\n",
    "                    g_i_proj += (v[i] * prod / g_mag).to(device)\n",
    "            lr = np.mean(optimal_lrs)\n",
    "            lrs.append(lr)\n",
    "            p.add_(-lr * g_i_proj)\n",
    "        losses.append(rmse_loss_fn_torch(mlp(x_i), y_i).item())\n",
    "    "
   ]
  },
  {
   "cell_type": "code",
   "execution_count": null,
   "id": "a606bffa",
   "metadata": {},
   "outputs": [],
   "source": [
    "plt.plot(losses)"
   ]
  },
  {
   "cell_type": "code",
   "execution_count": null,
   "id": "3bd222a5",
   "metadata": {},
   "outputs": [],
   "source": []
  },
  {
   "cell_type": "code",
   "execution_count": null,
   "id": "1da410f2",
   "metadata": {},
   "outputs": [],
   "source": []
  },
  {
   "cell_type": "code",
   "execution_count": null,
   "id": "62660152",
   "metadata": {},
   "outputs": [],
   "source": []
  },
  {
   "cell_type": "code",
   "execution_count": null,
   "id": "2c84c70d",
   "metadata": {},
   "outputs": [],
   "source": []
  },
  {
   "cell_type": "code",
   "execution_count": null,
   "id": "a0900b87",
   "metadata": {},
   "outputs": [],
   "source": []
  },
  {
   "cell_type": "code",
   "execution_count": null,
   "id": "d374d28a",
   "metadata": {},
   "outputs": [],
   "source": []
  }
 ],
 "metadata": {
  "kernelspec": {
   "display_name": "Python 3 (ipykernel)",
   "language": "python",
   "name": "python3"
  },
  "language_info": {
   "codemirror_mode": {
    "name": "ipython",
    "version": 3
   },
   "file_extension": ".py",
   "mimetype": "text/x-python",
   "name": "python",
   "nbconvert_exporter": "python",
   "pygments_lexer": "ipython3",
   "version": "3.8.12"
  }
 },
 "nbformat": 4,
 "nbformat_minor": 5
}
