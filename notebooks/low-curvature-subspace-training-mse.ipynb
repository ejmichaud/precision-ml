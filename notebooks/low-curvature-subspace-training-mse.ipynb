{
 "cells": [
  {
   "cell_type": "code",
   "execution_count": 1,
   "id": "30e0300d",
   "metadata": {},
   "outputs": [],
   "source": [
    "import random\n",
    "import time\n",
    "from itertools import product, islice\n",
    "from collections import defaultdict\n",
    "from copy import deepcopy\n",
    "from tqdm.auto import tqdm\n",
    "\n",
    "import numpy as np\n",
    "import matplotlib.pyplot as plt\n",
    "\n",
    "from scipy import optimize\n",
    "\n",
    "import torch\n",
    "import torch.nn as nn"
   ]
  },
  {
   "cell_type": "code",
   "execution_count": 2,
   "id": "2e43873b",
   "metadata": {},
   "outputs": [
    {
     "data": {
      "text/plain": [
       "'cuda:0'"
      ]
     },
     "execution_count": 2,
     "metadata": {},
     "output_type": "execute_result"
    }
   ],
   "source": [
    "device = 'cuda:0' if torch.cuda.is_available() else 'cpu'\n",
    "# device = 'cpu'\n",
    "torch.set_default_dtype(torch.float64)\n",
    "device"
   ]
  },
  {
   "cell_type": "code",
   "execution_count": 3,
   "id": "26468785",
   "metadata": {},
   "outputs": [],
   "source": [
    "def get_func(model: nn.Module, loss_fn, x, y):\n",
    "    def func(*p_tensors):\n",
    "        assert len(list(model.parameters())) == len(p_tensors)\n",
    "        assert type(model) is nn.Sequential\n",
    "        i = 0\n",
    "        z = x\n",
    "        for module in model:\n",
    "            if type(module) is nn.Linear:\n",
    "                if module.bias is None:\n",
    "                    z = nn.functional.linear(z, p_tensors[i], None)\n",
    "                    i += 1\n",
    "                else:\n",
    "                    z = nn.functional.linear(z, p_tensors[i], p_tensors[i+1])\n",
    "                    i += 2\n",
    "            if type(module) in [nn.Tanh, nn.Sigmoid, nn.ReLU]:\n",
    "                z = module(z)\n",
    "        return loss_fn(z, y)\n",
    "    return func\n",
    "\n",
    "def hessian_autograd(model, loss_fn, x, y):\n",
    "    H = torch.autograd.functional.hessian(get_func(model, loss_fn, x, y), tuple(model.parameters()))\n",
    "    return H\n",
    "\n",
    "def hvp_autograd(model, v, loss_fn, x, y):\n",
    "    _, Hv = torch.autograd.functional.hvp(get_func(model, loss_fn, x, y), tuple(model.parameters()), v)\n",
    "    return Hv\n",
    "\n",
    "def decompose_hessian(hessian, lengths, shapes):\n",
    "    H_matrix = torch.zeros(sum(lengths), sum(lengths))\n",
    "    for i, j in product(range(len(shapes)), range(len(shapes))):\n",
    "        i0, i1 = sum(lengths[:i+1]) - lengths[i], sum(lengths[:i+1])\n",
    "        j0, j1 = sum(lengths[:j+1]) - lengths[j], sum(lengths[:j+1])\n",
    "        H_matrix[i0:i1, j0:j1] = hessian[i][j].reshape(lengths[i], lengths[j])\n",
    "    vals, vecs = torch.linalg.eigh(H_matrix)\n",
    "    vs = []\n",
    "    for i in range(sum(lengths)):\n",
    "        vec = vecs[:, i]\n",
    "        v = tuple(vec[sum(lengths[:i]):sum(lengths[:i+1])].reshape(shapes[i]) for i in range(len(lengths)))\n",
    "        vs.append(v)\n",
    "    return vals, vs"
   ]
  },
  {
   "cell_type": "code",
   "execution_count": 4,
   "id": "7ac29255",
   "metadata": {},
   "outputs": [],
   "source": [
    "def dot_prod(u, v):\n",
    "    assert len(u) == len(v)\n",
    "    result = 0\n",
    "    for i in range(len(u)):\n",
    "        result += torch.sum(u[i] * v[i])\n",
    "    return result.item()\n",
    "\n",
    "def dot_prod_dict(u, v):\n",
    "    assert set(u.keys()) == set(v.keys())\n",
    "    result = 0\n",
    "    for k in u.keys():\n",
    "        result += torch.sum(u[k] * v[k])\n",
    "    return result.item()"
   ]
  },
  {
   "cell_type": "code",
   "execution_count": 5,
   "id": "37b3f209",
   "metadata": {},
   "outputs": [],
   "source": [
    "rmse_loss_fn_torch = lambda x, y: torch.sqrt(torch.mean(torch.pow(x-y, 2)))\n",
    "qmqe_loss_fn_torch = lambda x, y: torch.pow(torch.mean(torch.pow(x-y, 4)), 1/4)\n",
    "smse_loss_fn_torch = lambda x, y: torch.pow(torch.mean(torch.pow(x-y, 6)), 1/6)\n",
    "mse_loss_fn_torch = nn.MSELoss()\n",
    "\n",
    "def lp_norm(p):\n",
    "    def loss(x, y):\n",
    "        return torch.pow(torch.mean(torch.pow(torch.abs(x-y), p)), 1/p)\n",
    "    return loss\n",
    "\n",
    "def dl_loss(epsilon):\n",
    "    def loss(x, y):\n",
    "        return torch.mean(0.5 * torch.log2(1 + torch.pow((x-y) / epsilon, 2)))\n",
    "    return loss"
   ]
  },
  {
   "cell_type": "code",
   "execution_count": 6,
   "id": "31a1acb6",
   "metadata": {},
   "outputs": [],
   "source": [
    "def loss(param_vector, lengths, shapes, \n",
    "             mlp, loss_fn, x, y, device=device):\n",
    "    l = 0\n",
    "    for i, param in enumerate(mlp.parameters()):\n",
    "        param_data = param_vector[l:l+lengths[i]]\n",
    "        l += lengths[i]\n",
    "        param_data_shaped = param_data.reshape(shapes[i])\n",
    "        param.data = torch.tensor(param_data_shaped).to(device)\n",
    "    return loss_fn(mlp(x.to(device)), y).detach().cpu().numpy()\n",
    "\n",
    "def gradient(param_vector, lengths, shapes, \n",
    "             mlp, loss_fn, x, y, device=device):\n",
    "    l = 0\n",
    "    for i, param in enumerate(mlp.parameters()):\n",
    "        param_data = param_vector[l:l+lengths[i]]\n",
    "        l += lengths[i]\n",
    "        param_data_shaped = param_data.reshape(shapes[i])\n",
    "        param.data = torch.tensor(param_data_shaped).to(device)\n",
    "    loss_fn(mlp(x.to(device)), y).backward()\n",
    "    grads = []\n",
    "    for param in mlp.parameters():\n",
    "        grads.append(param.grad.detach().clone().cpu().numpy().flatten())\n",
    "        param.grad = None\n",
    "    mlp.zero_grad()\n",
    "    return np.concatenate(grads)"
   ]
  },
  {
   "cell_type": "markdown",
   "id": "7974e221",
   "metadata": {},
   "source": [
    "## Find eigenvalues before and after training. Fit a random 5th order polynomial."
   ]
  },
  {
   "cell_type": "code",
   "execution_count": 7,
   "id": "e72bf5cd",
   "metadata": {},
   "outputs": [],
   "source": [
    "coeffs = (a, b, c, d, e, f) = np.random.uniform(low=-1.5, high=1.5, size=(6,))\n",
    "x_i = np.random.uniform(low=-1, high=1, size=(50000, 1))\n",
    "y_i = a + b*np.power(x_i, 1) + c*np.power(x_i, 2) + d*np.power(x_i, 3) + e*np.power(x_i, 4) + f*np.power(x_i, 5)\n",
    "\n",
    "x_i = torch.from_numpy(x_i).to(device)\n",
    "y_i = torch.from_numpy(y_i).to(device)"
   ]
  },
  {
   "cell_type": "code",
   "execution_count": 8,
   "id": "39810dd4",
   "metadata": {},
   "outputs": [],
   "source": [
    "width = 20\n",
    "mlp = nn.Sequential(\n",
    "    nn.Linear(1, width),\n",
    "    nn.Tanh(),\n",
    "    nn.Linear(width, width),\n",
    "    nn.Tanh(),\n",
    "    nn.Linear(width, 1)\n",
    ").to(device)\n",
    "\n",
    "params = []\n",
    "shapes = []\n",
    "lenghts = []\n",
    "for param in mlp.parameters():\n",
    "    param_np = param.data.detach().clone().cpu().numpy()\n",
    "    shapes.append(param_np.shape)\n",
    "    param_np_flat = param_np.flatten()\n",
    "    lenghts.append(len(param_np_flat))\n",
    "    params.append(param_np_flat)\n",
    "\n",
    "param_vector = np.concatenate(params)"
   ]
  },
  {
   "cell_type": "code",
   "execution_count": 9,
   "id": "f21d2979",
   "metadata": {},
   "outputs": [
    {
     "data": {
      "image/png": "[encoded data removed]",
      "text/plain": [
       "<Figure size 576x360 with 4 Axes>"
      ]
     },
     "metadata": {
      "needs_background": "light"
     },
     "output_type": "display_data"
    }
   ],
   "source": [
    "hessian = hessian_autograd(mlp, mse_loss_fn_torch, x_i, y_i)\n",
    "vals, vs = decompose_hessian(hessian, lenghts, shapes)\n",
    "mlp.zero_grad()\n",
    "\n",
    "mse_loss_fn_torch(mlp(x_i), y_i).backward()\n",
    "g = [p.grad.detach().clone().cpu() for p in mlp.parameters()]\n",
    "mlp.zero_grad()\n",
    "\n",
    "positives = [x for x in vals.numpy() if x >= 0]\n",
    "negatives = [x for x in vals.numpy() if x < 0]\n",
    "positives.reverse()\n",
    "negatives.reverse()\n",
    "\n",
    "pos_dot_prods = [np.abs(dot_prod(g, vs[i])) for i in range(len(vs)) if vals.numpy()[i] >= 0]\n",
    "neg_dot_prods = [np.abs(dot_prod(g, vs[i])) for i in range(len(vs)) if vals.numpy()[i] < 0]\n",
    "pos_dot_prods.reverse()\n",
    "neg_dot_prods.reverse()\n",
    "\n",
    "plt.figure(figsize=(8, 5))\n",
    "\n",
    "ax1 = plt.subplot(1, 2, 1)\n",
    "ax1.scatter(list(range(len(positives))), positives, color='teal')\n",
    "ax1.set_yscale('log')\n",
    "ax1.set_title(\"Positive eigenvalues\")\n",
    "ax1.set_ylabel(\"eigenvalue (+)\", fontsize=15, color='teal')\n",
    "ax1.set_xlabel(\"Eigenvalue (ordered by value)\")\n",
    "ax2 = ax1.twinx()\n",
    "ax2.plot(list(range(len(positives))), pos_dot_prods, color='red')\n",
    "ax2.set_yscale('log')\n",
    "ax2.set_ylabel('Projection coefficient magnitude', fontsize=12, color='red')\n",
    "\n",
    "ax1 = plt.subplot(1, 2, 2)\n",
    "ax1.scatter(list(range(len(positives), len(positives) + len(negatives))), np.abs(negatives), color='teal')\n",
    "ax1.set_yscale('log')\n",
    "ax1.set_title(\"Negative eigenvalues\")\n",
    "ax1.set_ylabel(\"eigenvalue (-)\", fontsize=15, color='teal')\n",
    "ax2 = ax1.twinx()\n",
    "ax2.plot(list(range(len(positives), len(positives) + len(negatives))), neg_dot_prods, color='red')\n",
    "ax2.set_yscale('log')\n",
    "ax2.set_ylabel('Projection coefficient magnitude', fontsize=12, color='red')\n",
    "\n",
    "plt.suptitle(\"At initialization:\\nThere are {0:d} Hessian eigenvalues. \\nThe largest eigenvalue is {1:.4e}\".format(len(vals), max(positives)))\n",
    "\n",
    "plt.tight_layout()"
   ]
  },
  {
   "cell_type": "code",
   "execution_count": 10,
   "id": "2d5b279c",
   "metadata": {},
   "outputs": [
    {
     "name": "stdout",
     "output_type": "stream",
     "text": [
      "Warning: Desired error not necessarily achieved due to precision loss.\n",
      "         Current function value: 0.000000\n",
      "         Iterations: 4891\n",
      "         Function evaluations: 5581\n",
      "         Gradient evaluations: 5569\n",
      "5.2726865131794e-07\n"
     ]
    }
   ],
   "source": [
    "result = optimize.minimize(loss,\n",
    "                       param_vector, \n",
    "                       args=(lenghts, shapes, mlp, mse_loss_fn_torch, x_i, y_i, device),\n",
    "                       jac=gradient,\n",
    "                       method='BFGS',\n",
    "                       options={\n",
    "                           'disp': True,\n",
    "                           'gtol': 1e-40,\n",
    "                           'maxiter': 25000,\n",
    "#                                'finite_diff_rel_step': 1e-15\n",
    "                       },\n",
    "                    )\n",
    "\n",
    "l = 0\n",
    "for j, param in enumerate(mlp.parameters()):\n",
    "    param_data = result.x[l:l+lenghts[j]]\n",
    "    l += lenghts[j]\n",
    "    param_data_shaped = param_data.reshape(shapes[j])\n",
    "    param.data = torch.tensor(param_data_shaped).to(device)\n",
    "\n",
    "l = rmse_loss_fn_torch(mlp(x_i), y_i).item()\n",
    "print(l)\n",
    "mlp.zero_grad()"
   ]
  },
  {
   "cell_type": "code",
   "execution_count": 11,
   "id": "48de6dbc",
   "metadata": {},
   "outputs": [],
   "source": [
    "solution_params = [p.detach().clone() for p in mlp.parameters()]"
   ]
  },
  {
   "cell_type": "code",
   "execution_count": 12,
   "id": "3f30b7ce",
   "metadata": {},
   "outputs": [
    {
     "data": {
      "image/png": "[encoded data removed]",
      "text/plain": [
       "<Figure size 432x187.2 with 4 Axes>"
      ]
     },
     "metadata": {
      "needs_background": "light"
     },
     "output_type": "display_data"
    }
   ],
   "source": [
    "for j, p in enumerate(mlp.parameters()):\n",
    "    p.data = solution_params[j].clone()\n",
    "\n",
    "hessian = hessian_autograd(mlp, mse_loss_fn_torch, x_i, y_i)\n",
    "vals, vs = decompose_hessian(hessian, lenghts, shapes)\n",
    "mlp.zero_grad()\n",
    "\n",
    "mse_loss_fn_torch(mlp(x_i), y_i).backward()\n",
    "g = [p.grad.detach().clone().cpu() for p in mlp.parameters()]\n",
    "mlp.zero_grad()\n",
    "\n",
    "positives = [x for x in vals.numpy() if x >= 0]\n",
    "negatives = [x for x in vals.numpy() if x < 0]\n",
    "positives.reverse()\n",
    "negatives.reverse()\n",
    "\n",
    "pos_dot_prods = [np.abs(dot_prod(g, vs[i])) for i in range(len(vs)) if vals.numpy()[i] >= 0]\n",
    "neg_dot_prods = [np.abs(dot_prod(g, vs[i])) for i in range(len(vs)) if vals.numpy()[i] < 0]\n",
    "pos_dot_prods.reverse()\n",
    "neg_dot_prods.reverse()\n",
    "\n",
    "plt.figure(figsize=(6, 2.6))\n",
    "\n",
    "ax1 = plt.subplot(1, 2, 1)\n",
    "ax1.scatter(list(range(len(positives))), positives, color='teal', s=10)\n",
    "ax1.set_yscale('log')\n",
    "ax1.set_title(\"Positive eigenvalues\", fontsize=8)\n",
    "ax1.set_ylabel(\"Positive Eigenvalue Magnitude \", fontsize=7, color='teal')\n",
    "ax1.set_xlabel(\"Eigenvalue (ordered by value)\", fontsize=7)\n",
    "ax2 = ax1.twinx()\n",
    "ax2.plot(list(range(len(positives))), pos_dot_prods, color='red', alpha=0.6)\n",
    "ax2.set_yscale('log')\n",
    "ax2.set_ylabel('Gradient Projection Magnitude', fontsize=7, color='red', alpha=0.8)\n",
    "\n",
    "ax1 = plt.subplot(1, 2, 2)\n",
    "ax1.scatter(list(range(len(positives), len(positives) + len(negatives))), np.abs(negatives), color='teal', s=10)\n",
    "ax1.set_yscale('log')\n",
    "ax1.set_title(\"Negative eigenvalues\", fontsize=8)\n",
    "ax1.set_ylabel(\"Negative Eigenvalue Magnitude\", fontsize=7, color='teal')\n",
    "ax1.set_xlabel(\"Eigenvalue (ordered by value)\", fontsize=7)\n",
    "ax2 = ax1.twinx()\n",
    "ax2.plot(list(range(len(positives), len(positives) + len(negatives))), neg_dot_prods, color='red', alpha=0.6)\n",
    "ax2.set_yscale('log')\n",
    "ax2.set_ylabel('Gradient Projection Magnitude', fontsize=7, color='red', alpha=0.8)\n",
    "\n",
    "# plt.suptitle(\"After training:\\nThere are {0:d} Hessian eigenvalues. \\nThe largest eigenvalue is {1:.4e}\".format(len(vals), max(positives)), fontsize=8)\n",
    "\n",
    "plt.tight_layout()\n",
    "# plt.savefig('figures/eigenvalue-spectrum-with-projection.pdf')"
   ]
  },
  {
   "cell_type": "markdown",
   "id": "9de42be9",
   "metadata": {},
   "source": [
    "## Train in low-curvature subspace"
   ]
  },
  {
   "cell_type": "code",
   "execution_count": 33,
   "id": "40c39a3a",
   "metadata": {},
   "outputs": [
    {
     "data": {
      "application/vnd.jupyter.widget-view+json": {
       "model_id": "724428ac8e534f2fb373e749a7d5dff3",
       "version_major": 2,
       "version_minor": 0
      },
      "text/plain": [
       "  0%|          | 0/10 [00:00<?, ?it/s]"
      ]
     },
     "metadata": {},
     "output_type": "display_data"
    }
   ],
   "source": [
    "for j, p in enumerate(mlp.parameters()):\n",
    "    p.data = solution_params[j].clone()\n",
    "\n",
    "curvature_threshold = 1e-5\n",
    "lr = 5e5\n",
    "\n",
    "losses = []\n",
    "for _ in tqdm(range(10)):\n",
    "    \n",
    "    mse_loss_fn_torch(mlp(x_i), y_i).backward()\n",
    "    g = [p.grad.detach().clone().cpu() for p in mlp.parameters()]\n",
    "    mlp.zero_grad()\n",
    "    with torch.no_grad():\n",
    "        g_mag = np.sqrt(dot_prod(g, g))\n",
    "    \n",
    "    hessian = hessian_autograd(mlp, mse_loss_fn_torch, x_i, y_i)\n",
    "    vals, vs = decompose_hessian(hessian, lenghts, shapes)\n",
    "    mlp.zero_grad()\n",
    "    \n",
    "    with torch.no_grad():\n",
    "        for i, p in enumerate(mlp.parameters()):\n",
    "            g_i_proj = torch.zeros(p.shape).to(device)\n",
    "            for j, (val, v) in enumerate(zip(vals.numpy(), vs)):\n",
    "                if np.abs(val) < curvature_threshold:\n",
    "                    g_i_proj += (v[i] * dot_prod(v, g)).to(device)\n",
    "            p.add_(-lr * g_i_proj)\n",
    "        losses.append(mse_loss_fn_torch(mlp(x_i), y_i).item())"
   ]
  },
  {
   "cell_type": "code",
   "execution_count": 34,
   "id": "b25f7e04",
   "metadata": {},
   "outputs": [
    {
     "data": {
      "text/plain": [
       "Text(0.5, 0, 'Curvature-restricted subspace training steps')"
      ]
     },
     "execution_count": 34,
     "metadata": {},
     "output_type": "execute_result"
    },
    {
     "data": {
      "image/png": "[encoded data removed]",
      "text/plain": [
       "<Figure size 432x288 with 1 Axes>"
      ]
     },
     "metadata": {
      "needs_background": "light"
     },
     "output_type": "display_data"
    }
   ],
   "source": [
    "plt.plot(losses)\n",
    "plt.ylabel(\"RMSE loss\")\n",
    "plt.xlabel(\"Curvature-restricted subspace training steps\")"
   ]
  },
  {
   "cell_type": "code",
   "execution_count": null,
   "id": "abdf748e",
   "metadata": {},
   "outputs": [],
   "source": [
    "for j, p in enumerate(mlp.parameters()):\n",
    "    p.data = solution_params[j].clone()\n",
    "\n",
    "curvature_threshold = 1e-5\n",
    "\n",
    "mse_loss_fn_torch(mlp(x_i), y_i).backward()\n",
    "g = [p.grad.detach().clone().cpu() for p in mlp.parameters()]\n",
    "mlp.zero_grad()\n",
    "with torch.no_grad():\n",
    "    g_mag = np.sqrt(dot_prod(g, g))\n",
    "\n",
    "hessian = hessian_autograd(mlp, mse_loss_fn_torch, x_i, y_i)\n",
    "vals, vs = decompose_hessian(hessian, lenghts, shapes)\n",
    "mlp.zero_grad()\n",
    "\n",
    "v_g = []\n",
    "\n",
    "with torch.no_grad():\n",
    "    for i, p in enumerate(mlp.parameters()):\n",
    "        g_i_proj = torch.zeros(p.shape).to(device)\n",
    "        for j, (val, v) in enumerate(zip(vals.numpy(), vs)):\n",
    "            if np.abs(val) < curvature_threshold:\n",
    "                g_i_proj += (v[i] * dot_prod(v, g)).to(device)\n",
    "        v_g.append(g_i_proj)\n",
    "#             p.add_(-lr * g_i_proj)\n",
    "#         losses.append(mse_loss_fn_torch(mlp(x_i), y_i).item())"
   ]
  },
  {
   "cell_type": "code",
   "execution_count": null,
   "id": "baeb3347",
   "metadata": {},
   "outputs": [],
   "source": [
    "mlp.zero_grad()\n",
    "losses = []\n",
    "alphas = np.linspace(-1e7, 1e6, 200)\n",
    "for alpha in tqdm(alphas):\n",
    "    with torch.no_grad():\n",
    "        for j, p in enumerate(mlp.parameters()):\n",
    "            p.data = solution_params[j].clone() + alpha * v_g[j]\n",
    "        losses.append(mse_loss_fn_torch(mlp(x_i), y_i).item())"
   ]
  },
  {
   "cell_type": "code",
   "execution_count": null,
   "id": "0d6f1538",
   "metadata": {},
   "outputs": [],
   "source": [
    "plt.plot(alphas, losses)\n",
    "plt.yscale('log')"
   ]
  },
  {
   "cell_type": "code",
   "execution_count": 13,
   "id": "414286d5",
   "metadata": {},
   "outputs": [],
   "source": [
    "def logarithmic_line_search(f, low=1e-12, high=1e12, points=15, depth=4):\n",
    "    \"\"\"Performs line search of positive parameter between \n",
    "    `low` and `high`, minimizing objective function `f`.\n",
    "    Only searches through positive values of parameter,\n",
    "    so define your objective function `f` accordingly.\"\"\"\n",
    "    assert low > 0 and high > 0\n",
    "    best_loss = float('inf')\n",
    "    best_alpha = None\n",
    "    for d in range(depth):\n",
    "        alphas = np.exp(np.linspace(np.log(low), np.log(high), points))\n",
    "        losses = [f(alpha) for alpha in alphas]\n",
    "        i_min = np.argmin(losses)\n",
    "        if losses[i_min] < best_loss:\n",
    "            best_alpha = alphas[i_min]\n",
    "        else:\n",
    "            return alphas[i_min]\n",
    "        if i_min == 0:\n",
    "            high = alphas[i_min + 1]\n",
    "            low = alphas[i_min] * (alphas[i_min] / alphas[i_min + 1])\n",
    "        elif i_min == points - 1:\n",
    "            low = alphas[i_min - 1]\n",
    "            high = alphas[i_min] * (alphas[i_min] / alphas[i_min - 1])\n",
    "        else:\n",
    "            low = alphas[i_min - 1]\n",
    "            high = alphas[i_min + 1]\n",
    "    return best_alpha"
   ]
  },
  {
   "cell_type": "markdown",
   "id": "e2e569fd",
   "metadata": {},
   "source": [
    "### perform low-curvature subspace training with line search"
   ]
  },
  {
   "cell_type": "code",
   "execution_count": 36,
   "id": "e3ded6bd",
   "metadata": {},
   "outputs": [
    {
     "data": {
      "application/vnd.jupyter.widget-view+json": {
       "model_id": "f0e6e07e6bbc46a282e0126732fdb28d",
       "version_major": 2,
       "version_minor": 0
      },
      "text/plain": [
       "  0%|          | 0/500 [00:00<?, ?it/s]"
      ]
     },
     "metadata": {},
     "output_type": "display_data"
    },
    {
     "ename": "KeyboardInterrupt",
     "evalue": "",
     "output_type": "error",
     "traceback": [
      "\u001b[0;31m---------------------------------------------------------------------------\u001b[0m",
      "\u001b[0;31mKeyboardInterrupt\u001b[0m                         Traceback (most recent call last)",
      "\u001b[0;32m/tmp/ipykernel_11929/2625509813.py\u001b[0m in \u001b[0;36m<module>\u001b[0;34m\u001b[0m\n\u001b[1;32m     17\u001b[0m     \u001b[0mg\u001b[0m \u001b[0;34m=\u001b[0m \u001b[0;34m[\u001b[0m\u001b[0mp\u001b[0m\u001b[0;34m.\u001b[0m\u001b[0mgrad\u001b[0m\u001b[0;34m.\u001b[0m\u001b[0mdetach\u001b[0m\u001b[0;34m(\u001b[0m\u001b[0;34m)\u001b[0m\u001b[0;34m.\u001b[0m\u001b[0mclone\u001b[0m\u001b[0;34m(\u001b[0m\u001b[0;34m)\u001b[0m\u001b[0;34m.\u001b[0m\u001b[0mcpu\u001b[0m\u001b[0;34m(\u001b[0m\u001b[0;34m)\u001b[0m \u001b[0;32mfor\u001b[0m \u001b[0mp\u001b[0m \u001b[0;32min\u001b[0m \u001b[0mmlp\u001b[0m\u001b[0;34m.\u001b[0m\u001b[0mparameters\u001b[0m\u001b[0;34m(\u001b[0m\u001b[0;34m)\u001b[0m\u001b[0;34m]\u001b[0m\u001b[0;34m\u001b[0m\u001b[0;34m\u001b[0m\u001b[0m\n\u001b[1;32m     18\u001b[0m     \u001b[0mmlp\u001b[0m\u001b[0;34m.\u001b[0m\u001b[0mzero_grad\u001b[0m\u001b[0;34m(\u001b[0m\u001b[0;34m)\u001b[0m\u001b[0;34m\u001b[0m\u001b[0;34m\u001b[0m\u001b[0m\n\u001b[0;32m---> 19\u001b[0;31m     \u001b[0mhessian\u001b[0m \u001b[0;34m=\u001b[0m \u001b[0mhessian_autograd\u001b[0m\u001b[0;34m(\u001b[0m\u001b[0mmlp\u001b[0m\u001b[0;34m,\u001b[0m \u001b[0mmse_loss_fn_torch\u001b[0m\u001b[0;34m,\u001b[0m \u001b[0mx_i\u001b[0m\u001b[0;34m,\u001b[0m \u001b[0my_i\u001b[0m\u001b[0;34m)\u001b[0m\u001b[0;34m\u001b[0m\u001b[0;34m\u001b[0m\u001b[0m\n\u001b[0m\u001b[1;32m     20\u001b[0m     \u001b[0mvals\u001b[0m\u001b[0;34m,\u001b[0m \u001b[0mvs\u001b[0m \u001b[0;34m=\u001b[0m \u001b[0mdecompose_hessian\u001b[0m\u001b[0;34m(\u001b[0m\u001b[0mhessian\u001b[0m\u001b[0;34m,\u001b[0m \u001b[0mlenghts\u001b[0m\u001b[0;34m,\u001b[0m \u001b[0mshapes\u001b[0m\u001b[0;34m)\u001b[0m\u001b[0;34m\u001b[0m\u001b[0;34m\u001b[0m\u001b[0m\n\u001b[1;32m     21\u001b[0m     \u001b[0mmlp\u001b[0m\u001b[0;34m.\u001b[0m\u001b[0mzero_grad\u001b[0m\u001b[0;34m(\u001b[0m\u001b[0;34m)\u001b[0m\u001b[0;34m\u001b[0m\u001b[0;34m\u001b[0m\u001b[0m\n",
      "\u001b[0;32m/tmp/ipykernel_11929/111840954.py\u001b[0m in \u001b[0;36mhessian_autograd\u001b[0;34m(model, loss_fn, x, y)\u001b[0m\n\u001b[1;32m     19\u001b[0m \u001b[0;34m\u001b[0m\u001b[0m\n\u001b[1;32m     20\u001b[0m \u001b[0;32mdef\u001b[0m \u001b[0mhessian_autograd\u001b[0m\u001b[0;34m(\u001b[0m\u001b[0mmodel\u001b[0m\u001b[0;34m,\u001b[0m \u001b[0mloss_fn\u001b[0m\u001b[0;34m,\u001b[0m \u001b[0mx\u001b[0m\u001b[0;34m,\u001b[0m \u001b[0my\u001b[0m\u001b[0;34m)\u001b[0m\u001b[0;34m:\u001b[0m\u001b[0;34m\u001b[0m\u001b[0;34m\u001b[0m\u001b[0m\n\u001b[0;32m---> 21\u001b[0;31m     \u001b[0mH\u001b[0m \u001b[0;34m=\u001b[0m \u001b[0mtorch\u001b[0m\u001b[0;34m.\u001b[0m\u001b[0mautograd\u001b[0m\u001b[0;34m.\u001b[0m\u001b[0mfunctional\u001b[0m\u001b[0;34m.\u001b[0m\u001b[0mhessian\u001b[0m\u001b[0;34m(\u001b[0m\u001b[0mget_func\u001b[0m\u001b[0;34m(\u001b[0m\u001b[0mmodel\u001b[0m\u001b[0;34m,\u001b[0m \u001b[0mloss_fn\u001b[0m\u001b[0;34m,\u001b[0m \u001b[0mx\u001b[0m\u001b[0;34m,\u001b[0m \u001b[0my\u001b[0m\u001b[0;34m)\u001b[0m\u001b[0;34m,\u001b[0m \u001b[0mtuple\u001b[0m\u001b[0;34m(\u001b[0m\u001b[0mmodel\u001b[0m\u001b[0;34m.\u001b[0m\u001b[0mparameters\u001b[0m\u001b[0;34m(\u001b[0m\u001b[0;34m)\u001b[0m\u001b[0;34m)\u001b[0m\u001b[0;34m)\u001b[0m\u001b[0;34m\u001b[0m\u001b[0;34m\u001b[0m\u001b[0m\n\u001b[0m\u001b[1;32m     22\u001b[0m     \u001b[0;32mreturn\u001b[0m \u001b[0mH\u001b[0m\u001b[0;34m\u001b[0m\u001b[0;34m\u001b[0m\u001b[0m\n\u001b[1;32m     23\u001b[0m \u001b[0;34m\u001b[0m\u001b[0m\n",
      "\u001b[0;32m~/miniconda3/envs/noisy/lib/python3.8/site-packages/torch/autograd/functional.py\u001b[0m in \u001b[0;36mhessian\u001b[0;34m(func, inputs, create_graph, strict, vectorize)\u001b[0m\n\u001b[1;32m    699\u001b[0m         \u001b[0;32mreturn\u001b[0m \u001b[0mjac\u001b[0m\u001b[0;34m\u001b[0m\u001b[0;34m\u001b[0m\u001b[0m\n\u001b[1;32m    700\u001b[0m \u001b[0;34m\u001b[0m\u001b[0m\n\u001b[0;32m--> 701\u001b[0;31m     \u001b[0mres\u001b[0m \u001b[0;34m=\u001b[0m \u001b[0mjacobian\u001b[0m\u001b[0;34m(\u001b[0m\u001b[0mjac_func\u001b[0m\u001b[0;34m,\u001b[0m \u001b[0minputs\u001b[0m\u001b[0;34m,\u001b[0m \u001b[0mcreate_graph\u001b[0m\u001b[0;34m=\u001b[0m\u001b[0mcreate_graph\u001b[0m\u001b[0;34m,\u001b[0m \u001b[0mstrict\u001b[0m\u001b[0;34m=\u001b[0m\u001b[0mstrict\u001b[0m\u001b[0;34m,\u001b[0m \u001b[0mvectorize\u001b[0m\u001b[0;34m=\u001b[0m\u001b[0mvectorize\u001b[0m\u001b[0;34m)\u001b[0m\u001b[0;34m\u001b[0m\u001b[0;34m\u001b[0m\u001b[0m\n\u001b[0m\u001b[1;32m    702\u001b[0m     \u001b[0;32mreturn\u001b[0m \u001b[0m_tuple_postprocess\u001b[0m\u001b[0;34m(\u001b[0m\u001b[0mres\u001b[0m\u001b[0;34m,\u001b[0m \u001b[0;34m(\u001b[0m\u001b[0mis_inputs_tuple\u001b[0m\u001b[0;34m,\u001b[0m \u001b[0mis_inputs_tuple\u001b[0m\u001b[0;34m)\u001b[0m\u001b[0;34m)\u001b[0m\u001b[0;34m\u001b[0m\u001b[0;34m\u001b[0m\u001b[0m\n\u001b[1;32m    703\u001b[0m \u001b[0;34m\u001b[0m\u001b[0m\n",
      "\u001b[0;32m~/miniconda3/envs/noisy/lib/python3.8/site-packages/torch/autograd/functional.py\u001b[0m in \u001b[0;36mjacobian\u001b[0;34m(func, inputs, create_graph, strict, vectorize)\u001b[0m\n\u001b[1;32m    577\u001b[0m             \u001b[0mjac_i\u001b[0m\u001b[0;34m:\u001b[0m \u001b[0mTuple\u001b[0m\u001b[0;34m[\u001b[0m\u001b[0mList\u001b[0m\u001b[0;34m[\u001b[0m\u001b[0mtorch\u001b[0m\u001b[0;34m.\u001b[0m\u001b[0mTensor\u001b[0m\u001b[0;34m]\u001b[0m\u001b[0;34m]\u001b[0m \u001b[0;34m=\u001b[0m \u001b[0mtuple\u001b[0m\u001b[0;34m(\u001b[0m\u001b[0;34m[\u001b[0m\u001b[0;34m]\u001b[0m \u001b[0;32mfor\u001b[0m \u001b[0m_\u001b[0m \u001b[0;32min\u001b[0m \u001b[0mrange\u001b[0m\u001b[0;34m(\u001b[0m\u001b[0mlen\u001b[0m\u001b[0;34m(\u001b[0m\u001b[0minputs\u001b[0m\u001b[0;34m)\u001b[0m\u001b[0;34m)\u001b[0m\u001b[0;34m)\u001b[0m  \u001b[0;31m# type: ignore[assignment]\u001b[0m\u001b[0;34m\u001b[0m\u001b[0;34m\u001b[0m\u001b[0m\n\u001b[1;32m    578\u001b[0m             \u001b[0;32mfor\u001b[0m \u001b[0mj\u001b[0m \u001b[0;32min\u001b[0m \u001b[0mrange\u001b[0m\u001b[0;34m(\u001b[0m\u001b[0mout\u001b[0m\u001b[0;34m.\u001b[0m\u001b[0mnelement\u001b[0m\u001b[0;34m(\u001b[0m\u001b[0;34m)\u001b[0m\u001b[0;34m)\u001b[0m\u001b[0;34m:\u001b[0m\u001b[0;34m\u001b[0m\u001b[0;34m\u001b[0m\u001b[0m\n\u001b[0;32m--> 579\u001b[0;31m                 vj = _autograd_grad((out.reshape(-1)[j],), inputs,\n\u001b[0m\u001b[1;32m    580\u001b[0m                                     retain_graph=True, create_graph=create_graph)\n\u001b[1;32m    581\u001b[0m \u001b[0;34m\u001b[0m\u001b[0m\n",
      "\u001b[0;32m~/miniconda3/envs/noisy/lib/python3.8/site-packages/torch/autograd/functional.py\u001b[0m in \u001b[0;36m_autograd_grad\u001b[0;34m(outputs, inputs, grad_outputs, create_graph, retain_graph)\u001b[0m\n\u001b[1;32m    145\u001b[0m         \u001b[0;32mreturn\u001b[0m \u001b[0;34m(\u001b[0m\u001b[0;32mNone\u001b[0m\u001b[0;34m,\u001b[0m\u001b[0;34m)\u001b[0m \u001b[0;34m*\u001b[0m \u001b[0mlen\u001b[0m\u001b[0;34m(\u001b[0m\u001b[0minputs\u001b[0m\u001b[0;34m)\u001b[0m\u001b[0;34m\u001b[0m\u001b[0;34m\u001b[0m\u001b[0m\n\u001b[1;32m    146\u001b[0m     \u001b[0;32melse\u001b[0m\u001b[0;34m:\u001b[0m\u001b[0;34m\u001b[0m\u001b[0;34m\u001b[0m\u001b[0m\n\u001b[0;32m--> 147\u001b[0;31m         return torch.autograd.grad(new_outputs, inputs, new_grad_outputs, allow_unused=True,\n\u001b[0m\u001b[1;32m    148\u001b[0m                                    create_graph=create_graph, retain_graph=retain_graph)\n\u001b[1;32m    149\u001b[0m \u001b[0;34m\u001b[0m\u001b[0m\n",
      "\u001b[0;32m~/miniconda3/envs/noisy/lib/python3.8/site-packages/torch/autograd/__init__.py\u001b[0m in \u001b[0;36mgrad\u001b[0;34m(outputs, inputs, grad_outputs, retain_graph, create_graph, only_inputs, allow_unused)\u001b[0m\n\u001b[1;32m    232\u001b[0m         \u001b[0mretain_graph\u001b[0m \u001b[0;34m=\u001b[0m \u001b[0mcreate_graph\u001b[0m\u001b[0;34m\u001b[0m\u001b[0;34m\u001b[0m\u001b[0m\n\u001b[1;32m    233\u001b[0m \u001b[0;34m\u001b[0m\u001b[0m\n\u001b[0;32m--> 234\u001b[0;31m     return Variable._execution_engine.run_backward(\n\u001b[0m\u001b[1;32m    235\u001b[0m         \u001b[0moutputs\u001b[0m\u001b[0;34m,\u001b[0m \u001b[0mgrad_outputs_\u001b[0m\u001b[0;34m,\u001b[0m \u001b[0mretain_graph\u001b[0m\u001b[0;34m,\u001b[0m \u001b[0mcreate_graph\u001b[0m\u001b[0;34m,\u001b[0m\u001b[0;34m\u001b[0m\u001b[0;34m\u001b[0m\u001b[0m\n\u001b[1;32m    236\u001b[0m         inputs, allow_unused, accumulate_grad=False)\n",
      "\u001b[0;31mKeyboardInterrupt\u001b[0m: "
     ]
    }
   ],
   "source": [
    "# start training at the end of BFGS\n",
    "for j, p in enumerate(mlp.parameters()):\n",
    "    p.data = solution_params[j].clone()\n",
    "\n",
    "curvature_threshold = 1e-4\n",
    "\n",
    "lrs = []\n",
    "losses = []\n",
    "for _ in tqdm(range(500)):\n",
    "    \n",
    "    # parameters we start the step at\n",
    "    step_params = [p.detach().clone() for p in mlp.parameters()]\n",
    "    \n",
    "    # compute gradient and hessian\n",
    "    l = mse_loss_fn_torch(mlp(x_i), y_i)\n",
    "    l.backward()\n",
    "    g = [p.grad.detach().clone().cpu() for p in mlp.parameters()]\n",
    "    mlp.zero_grad()\n",
    "    hessian = hessian_autograd(mlp, mse_loss_fn_torch, x_i, y_i)\n",
    "    vals, vs = decompose_hessian(hessian, lenghts, shapes)\n",
    "    mlp.zero_grad()\n",
    "    \n",
    "    # compute projected gradient\n",
    "    v_g = []\n",
    "    with torch.no_grad():\n",
    "        for i, p in enumerate(mlp.parameters()):\n",
    "            g_i_proj = torch.zeros(p.shape).to(device)\n",
    "            for j, (val, v) in enumerate(zip(vals.numpy(), vs)):\n",
    "                if np.abs(val) < curvature_threshold:\n",
    "                    g_i_proj += (v[i] * dot_prod(v, g)).to(device)\n",
    "            v_g.append(g_i_proj)\n",
    "    \n",
    "    # helper function for computing loss along direction v_g\n",
    "    @torch.no_grad()\n",
    "    def f(alpha):\n",
    "        for j, p in enumerate(mlp.parameters()):\n",
    "            p.data = step_params[j].clone() - alpha * v_g[j]\n",
    "        l = mse_loss_fn_torch(mlp(x_i), y_i).item()\n",
    "        for j, p in enumerate(mlp.parameters()):\n",
    "            p.data = step_params[j].clone()\n",
    "        return l\n",
    "    \n",
    "    # perform search and step\n",
    "    lr = logarithmic_line_search(f)\n",
    "    with torch.no_grad():\n",
    "        for i, p in enumerate(mlp.parameters()):\n",
    "            p.add_(-lr * v_g[i])\n",
    "    lrs.append(lr)\n",
    "    losses.append(mse_loss_fn_torch(mlp(x_i), y_i).item())\n",
    "    if losses[-1] > l.item():\n",
    "        for j, p in enumerate(mlp.parameters()):\n",
    "            p.data = step_params[j].clone()\n",
    "        break"
   ]
  },
  {
   "cell_type": "code",
   "execution_count": 17,
   "id": "83839b3c",
   "metadata": {},
   "outputs": [
    {
     "data": {
      "text/plain": [
       "[<matplotlib.lines.Line2D at 0x7f2530378b50>]"
      ]
     },
     "execution_count": 17,
     "metadata": {},
     "output_type": "execute_result"
    },
    {
     "data": {
      "image/png": "[encoded data removed]",
      "text/plain": [
       "<Figure size 432x288 with 1 Axes>"
      ]
     },
     "metadata": {
      "needs_background": "light"
     },
     "output_type": "display_data"
    }
   ],
   "source": [
    "plt.plot(losses)"
   ]
  },
  {
   "cell_type": "code",
   "execution_count": 15,
   "id": "85f84701",
   "metadata": {},
   "outputs": [
    {
     "data": {
      "application/vnd.jupyter.widget-view+json": {
       "model_id": "62b83b3add3a413f8c6fb47b9e458e62",
       "version_major": 2,
       "version_minor": 0
      },
      "text/plain": [
       "  0%|          | 0/5 [00:00<?, ?it/s]"
      ]
     },
     "metadata": {},
     "output_type": "display_data"
    },
    {
     "data": {
      "application/vnd.jupyter.widget-view+json": {
       "model_id": "",
       "version_major": 2,
       "version_minor": 0
      },
      "text/plain": [
       "  0%|          | 0/200 [00:00<?, ?it/s]"
      ]
     },
     "metadata": {},
     "output_type": "display_data"
    },
    {
     "data": {
      "application/vnd.jupyter.widget-view+json": {
       "model_id": "",
       "version_major": 2,
       "version_minor": 0
      },
      "text/plain": [
       "  0%|          | 0/200 [00:00<?, ?it/s]"
      ]
     },
     "metadata": {},
     "output_type": "display_data"
    },
    {
     "data": {
      "application/vnd.jupyter.widget-view+json": {
       "model_id": "4587bf3255e841009f0183eddcd54146",
       "version_major": 2,
       "version_minor": 0
      },
      "text/plain": [
       "  0%|          | 0/200 [00:00<?, ?it/s]"
      ]
     },
     "metadata": {},
     "output_type": "display_data"
    },
    {
     "ename": "KeyboardInterrupt",
     "evalue": "",
     "output_type": "error",
     "traceback": [
      "\u001b[0;31m---------------------------------------------------------------------------\u001b[0m",
      "\u001b[0;31mKeyboardInterrupt\u001b[0m                         Traceback (most recent call last)",
      "\u001b[0;32m/tmp/ipykernel_4340/515948309.py\u001b[0m in \u001b[0;36m<module>\u001b[0;34m\u001b[0m\n\u001b[1;32m     19\u001b[0m         \u001b[0mmlp\u001b[0m\u001b[0;34m.\u001b[0m\u001b[0mzero_grad\u001b[0m\u001b[0;34m(\u001b[0m\u001b[0;34m)\u001b[0m\u001b[0;34m\u001b[0m\u001b[0;34m\u001b[0m\u001b[0m\n\u001b[1;32m     20\u001b[0m         \u001b[0mhessian\u001b[0m \u001b[0;34m=\u001b[0m \u001b[0mhessian_autograd\u001b[0m\u001b[0;34m(\u001b[0m\u001b[0mmlp\u001b[0m\u001b[0;34m,\u001b[0m \u001b[0mmse_loss_fn_torch\u001b[0m\u001b[0;34m,\u001b[0m \u001b[0mx_i\u001b[0m\u001b[0;34m,\u001b[0m \u001b[0my_i\u001b[0m\u001b[0;34m)\u001b[0m\u001b[0;34m\u001b[0m\u001b[0;34m\u001b[0m\u001b[0m\n\u001b[0;32m---> 21\u001b[0;31m         \u001b[0mvals\u001b[0m\u001b[0;34m,\u001b[0m \u001b[0mvs\u001b[0m \u001b[0;34m=\u001b[0m \u001b[0mdecompose_hessian\u001b[0m\u001b[0;34m(\u001b[0m\u001b[0mhessian\u001b[0m\u001b[0;34m,\u001b[0m \u001b[0mlenghts\u001b[0m\u001b[0;34m,\u001b[0m \u001b[0mshapes\u001b[0m\u001b[0;34m)\u001b[0m\u001b[0;34m\u001b[0m\u001b[0;34m\u001b[0m\u001b[0m\n\u001b[0m\u001b[1;32m     22\u001b[0m         \u001b[0mmlp\u001b[0m\u001b[0;34m.\u001b[0m\u001b[0mzero_grad\u001b[0m\u001b[0;34m(\u001b[0m\u001b[0;34m)\u001b[0m\u001b[0;34m\u001b[0m\u001b[0;34m\u001b[0m\u001b[0m\n\u001b[1;32m     23\u001b[0m \u001b[0;34m\u001b[0m\u001b[0m\n",
      "\u001b[0;32m/tmp/ipykernel_4340/722382755.py\u001b[0m in \u001b[0;36mdecompose_hessian\u001b[0;34m(hessian, lengths, shapes)\u001b[0m\n\u001b[1;32m     31\u001b[0m         \u001b[0mi0\u001b[0m\u001b[0;34m,\u001b[0m \u001b[0mi1\u001b[0m \u001b[0;34m=\u001b[0m \u001b[0msum\u001b[0m\u001b[0;34m(\u001b[0m\u001b[0mlengths\u001b[0m\u001b[0;34m[\u001b[0m\u001b[0;34m:\u001b[0m\u001b[0mi\u001b[0m\u001b[0;34m+\u001b[0m\u001b[0;36m1\u001b[0m\u001b[0;34m]\u001b[0m\u001b[0;34m)\u001b[0m \u001b[0;34m-\u001b[0m \u001b[0mlengths\u001b[0m\u001b[0;34m[\u001b[0m\u001b[0mi\u001b[0m\u001b[0;34m]\u001b[0m\u001b[0;34m,\u001b[0m \u001b[0msum\u001b[0m\u001b[0;34m(\u001b[0m\u001b[0mlengths\u001b[0m\u001b[0;34m[\u001b[0m\u001b[0;34m:\u001b[0m\u001b[0mi\u001b[0m\u001b[0;34m+\u001b[0m\u001b[0;36m1\u001b[0m\u001b[0;34m]\u001b[0m\u001b[0;34m)\u001b[0m\u001b[0;34m\u001b[0m\u001b[0;34m\u001b[0m\u001b[0m\n\u001b[1;32m     32\u001b[0m         \u001b[0mj0\u001b[0m\u001b[0;34m,\u001b[0m \u001b[0mj1\u001b[0m \u001b[0;34m=\u001b[0m \u001b[0msum\u001b[0m\u001b[0;34m(\u001b[0m\u001b[0mlengths\u001b[0m\u001b[0;34m[\u001b[0m\u001b[0;34m:\u001b[0m\u001b[0mj\u001b[0m\u001b[0;34m+\u001b[0m\u001b[0;36m1\u001b[0m\u001b[0;34m]\u001b[0m\u001b[0;34m)\u001b[0m \u001b[0;34m-\u001b[0m \u001b[0mlengths\u001b[0m\u001b[0;34m[\u001b[0m\u001b[0mj\u001b[0m\u001b[0;34m]\u001b[0m\u001b[0;34m,\u001b[0m \u001b[0msum\u001b[0m\u001b[0;34m(\u001b[0m\u001b[0mlengths\u001b[0m\u001b[0;34m[\u001b[0m\u001b[0;34m:\u001b[0m\u001b[0mj\u001b[0m\u001b[0;34m+\u001b[0m\u001b[0;36m1\u001b[0m\u001b[0;34m]\u001b[0m\u001b[0;34m)\u001b[0m\u001b[0;34m\u001b[0m\u001b[0;34m\u001b[0m\u001b[0m\n\u001b[0;32m---> 33\u001b[0;31m         \u001b[0mH_matrix\u001b[0m\u001b[0;34m[\u001b[0m\u001b[0mi0\u001b[0m\u001b[0;34m:\u001b[0m\u001b[0mi1\u001b[0m\u001b[0;34m,\u001b[0m \u001b[0mj0\u001b[0m\u001b[0;34m:\u001b[0m\u001b[0mj1\u001b[0m\u001b[0;34m]\u001b[0m \u001b[0;34m=\u001b[0m \u001b[0mhessian\u001b[0m\u001b[0;34m[\u001b[0m\u001b[0mi\u001b[0m\u001b[0;34m]\u001b[0m\u001b[0;34m[\u001b[0m\u001b[0mj\u001b[0m\u001b[0;34m]\u001b[0m\u001b[0;34m.\u001b[0m\u001b[0mreshape\u001b[0m\u001b[0;34m(\u001b[0m\u001b[0mlengths\u001b[0m\u001b[0;34m[\u001b[0m\u001b[0mi\u001b[0m\u001b[0;34m]\u001b[0m\u001b[0;34m,\u001b[0m \u001b[0mlengths\u001b[0m\u001b[0;34m[\u001b[0m\u001b[0mj\u001b[0m\u001b[0;34m]\u001b[0m\u001b[0;34m)\u001b[0m\u001b[0;34m\u001b[0m\u001b[0;34m\u001b[0m\u001b[0m\n\u001b[0m\u001b[1;32m     34\u001b[0m     \u001b[0mvals\u001b[0m\u001b[0;34m,\u001b[0m \u001b[0mvecs\u001b[0m \u001b[0;34m=\u001b[0m \u001b[0mtorch\u001b[0m\u001b[0;34m.\u001b[0m\u001b[0mlinalg\u001b[0m\u001b[0;34m.\u001b[0m\u001b[0meigh\u001b[0m\u001b[0;34m(\u001b[0m\u001b[0mH_matrix\u001b[0m\u001b[0;34m)\u001b[0m\u001b[0;34m\u001b[0m\u001b[0;34m\u001b[0m\u001b[0m\n\u001b[1;32m     35\u001b[0m     \u001b[0mvs\u001b[0m \u001b[0;34m=\u001b[0m \u001b[0;34m[\u001b[0m\u001b[0;34m]\u001b[0m\u001b[0;34m\u001b[0m\u001b[0;34m\u001b[0m\u001b[0m\n",
      "\u001b[0;31mKeyboardInterrupt\u001b[0m: "
     ]
    }
   ],
   "source": [
    "thresholds = [1e-6, 1e-8, 1e-10, 1e-12, 1e-15]\n",
    "lrs = defaultdict(list)\n",
    "losses = defaultdict(list)\n",
    "\n",
    "for curvature_threshold in tqdm(thresholds):\n",
    "    # start training at the end of BFGS\n",
    "    for j, p in enumerate(mlp.parameters()):\n",
    "        p.data = solution_params[j].clone()\n",
    "\n",
    "    for _ in tqdm(range(200), leave=False):\n",
    "\n",
    "        # parameters we start the step at\n",
    "        step_params = [p.detach().clone() for p in mlp.parameters()]\n",
    "\n",
    "        # compute gradient and hessian\n",
    "        l = mse_loss_fn_torch(mlp(x_i), y_i)\n",
    "        l.backward()\n",
    "        g = [p.grad.detach().clone().cpu() for p in mlp.parameters()]\n",
    "        mlp.zero_grad()\n",
    "        hessian = hessian_autograd(mlp, mse_loss_fn_torch, x_i, y_i)\n",
    "        vals, vs = decompose_hessian(hessian, lenghts, shapes)\n",
    "        mlp.zero_grad()\n",
    "\n",
    "        # compute projected gradient\n",
    "        v_g = []\n",
    "        with torch.no_grad():\n",
    "            for i, p in enumerate(mlp.parameters()):\n",
    "                g_i_proj = torch.zeros(p.shape).to(device)\n",
    "                for j, (val, v) in enumerate(zip(vals.numpy(), vs)):\n",
    "                    if np.abs(val) < curvature_threshold:\n",
    "                        g_i_proj += (v[i] * dot_prod(v, g)).to(device)\n",
    "                v_g.append(g_i_proj)\n",
    "\n",
    "        # helper function for computing loss along direction v_g\n",
    "        @torch.no_grad()\n",
    "        def f(alpha):\n",
    "            for j, p in enumerate(mlp.parameters()):\n",
    "                p.data = step_params[j].clone() - alpha * v_g[j]\n",
    "            l = mse_loss_fn_torch(mlp(x_i), y_i).item()\n",
    "            for j, p in enumerate(mlp.parameters()):\n",
    "                p.data = step_params[j].clone()\n",
    "            return l\n",
    "\n",
    "        # perform search and step\n",
    "        lr = logarithmic_line_search(f)\n",
    "        with torch.no_grad():\n",
    "            for i, p in enumerate(mlp.parameters()):\n",
    "                p.add_(-lr * v_g[i])\n",
    "        lrs[curvature_threshold].append(lr)\n",
    "        losses[curvature_threshold].append(rmse_loss_fn_torch(mlp(x_i), y_i).item())\n",
    "    "
   ]
  },
  {
   "cell_type": "code",
   "execution_count": 59,
   "id": "13b1aa90",
   "metadata": {},
   "outputs": [
    {
     "data": {
      "image/png": "[encoded data removed]",
      "text/plain": [
       "<Figure size 360x180 with 1 Axes>"
      ]
     },
     "metadata": {
      "needs_background": "light"
     },
     "output_type": "display_data"
    }
   ],
   "source": [
    "plt.figure(figsize=(5, 2.5))\n",
    "ax = plt.subplot(1, 1, 1)\n",
    "\n",
    "colors = plt.cm.plasma(np.linspace(0.8, 0, len(thresholds)))\n",
    "for i, curvature_threshold in enumerate(thresholds):\n",
    "    plt.plot(losses[curvature_threshold], label=\"{:.1e}\".format(curvature_threshold), color=colors[i])\n",
    "    \n",
    "plt.xlabel(\"Optimization Steps\", fontsize=7)\n",
    "plt.ylabel(\"MSE Loss\", fontsize=7)\n",
    "plt.xticks(fontsize=7)\n",
    "plt.yticks(fontsize=7)\n",
    "\n",
    "plt.grid(True, which=\"both\", linestyle='-', linewidth=0.5, alpha=0.3)\n",
    "plt.yscale('log')\n",
    "\n",
    "# Hide the right and top spines\n",
    "ax.spines.right.set_visible(False)\n",
    "ax.spines.top.set_visible(False)\n",
    "# Only show ticks on the left and bottom spines\n",
    "ax.yaxis.set_ticks_position('left')\n",
    "ax.xaxis.set_ticks_position('bottom')\n",
    "\n",
    "legend = plt.legend(title='curvature\\nthreshold', loc='lower right', prop={'size': 6})\n",
    "plt.setp(legend.get_title(), fontsize=6)\n",
    "plt.tight_layout()\n",
    "\n",
    "plt.savefig('figures/low-subspace-training-curve.pdf')\n"
   ]
  },
  {
   "cell_type": "markdown",
   "id": "1bf5f3aa",
   "metadata": {},
   "source": [
    "### Redo with a higher upper limit on step size and with even lower thresholds"
   ]
  },
  {
   "cell_type": "code",
   "execution_count": 16,
   "id": "5a3ac49f",
   "metadata": {},
   "outputs": [
    {
     "data": {
      "application/vnd.jupyter.widget-view+json": {
       "model_id": "64df25febd704ceea07fe92b0722b59e",
       "version_major": 2,
       "version_minor": 0
      },
      "text/plain": [
       "  0%|          | 0/7 [00:00<?, ?it/s]"
      ]
     },
     "metadata": {},
     "output_type": "display_data"
    },
    {
     "data": {
      "application/vnd.jupyter.widget-view+json": {
       "model_id": "",
       "version_major": 2,
       "version_minor": 0
      },
      "text/plain": [
       "  0%|          | 0/200 [00:00<?, ?it/s]"
      ]
     },
     "metadata": {},
     "output_type": "display_data"
    },
    {
     "data": {
      "application/vnd.jupyter.widget-view+json": {
       "model_id": "",
       "version_major": 2,
       "version_minor": 0
      },
      "text/plain": [
       "  0%|          | 0/200 [00:00<?, ?it/s]"
      ]
     },
     "metadata": {},
     "output_type": "display_data"
    },
    {
     "data": {
      "application/vnd.jupyter.widget-view+json": {
       "model_id": "",
       "version_major": 2,
       "version_minor": 0
      },
      "text/plain": [
       "  0%|          | 0/200 [00:00<?, ?it/s]"
      ]
     },
     "metadata": {},
     "output_type": "display_data"
    },
    {
     "data": {
      "application/vnd.jupyter.widget-view+json": {
       "model_id": "",
       "version_major": 2,
       "version_minor": 0
      },
      "text/plain": [
       "  0%|          | 0/200 [00:00<?, ?it/s]"
      ]
     },
     "metadata": {},
     "output_type": "display_data"
    },
    {
     "data": {
      "application/vnd.jupyter.widget-view+json": {
       "model_id": "",
       "version_major": 2,
       "version_minor": 0
      },
      "text/plain": [
       "  0%|          | 0/200 [00:00<?, ?it/s]"
      ]
     },
     "metadata": {},
     "output_type": "display_data"
    },
    {
     "data": {
      "application/vnd.jupyter.widget-view+json": {
       "model_id": "",
       "version_major": 2,
       "version_minor": 0
      },
      "text/plain": [
       "  0%|          | 0/200 [00:00<?, ?it/s]"
      ]
     },
     "metadata": {},
     "output_type": "display_data"
    },
    {
     "data": {
      "application/vnd.jupyter.widget-view+json": {
       "model_id": "",
       "version_major": 2,
       "version_minor": 0
      },
      "text/plain": [
       "  0%|          | 0/200 [00:00<?, ?it/s]"
      ]
     },
     "metadata": {},
     "output_type": "display_data"
    }
   ],
   "source": [
    "thresholds = [1e-6, 1e-8, 1e-10, 1e-12, 1e-14, 1e-16, 1e-18]\n",
    "lrs = defaultdict(list)\n",
    "losses = defaultdict(list)\n",
    "\n",
    "for curvature_threshold in tqdm(thresholds):\n",
    "    # start training at the end of BFGS\n",
    "    for j, p in enumerate(mlp.parameters()):\n",
    "        p.data = solution_params[j].clone()\n",
    "\n",
    "    for _ in tqdm(range(200), leave=False):\n",
    "\n",
    "        # parameters we start the step at\n",
    "        step_params = [p.detach().clone() for p in mlp.parameters()]\n",
    "\n",
    "        # compute gradient and hessian\n",
    "        l = mse_loss_fn_torch(mlp(x_i), y_i)\n",
    "        l.backward()\n",
    "        g = [p.grad.detach().clone().cpu() for p in mlp.parameters()]\n",
    "        mlp.zero_grad()\n",
    "        hessian = hessian_autograd(mlp, mse_loss_fn_torch, x_i, y_i)\n",
    "        vals, vs = decompose_hessian(hessian, lenghts, shapes)\n",
    "        mlp.zero_grad()\n",
    "\n",
    "        # compute projected gradient\n",
    "        v_g = []\n",
    "        with torch.no_grad():\n",
    "            for i, p in enumerate(mlp.parameters()):\n",
    "                g_i_proj = torch.zeros(p.shape).to(device)\n",
    "                for j, (val, v) in enumerate(zip(vals.numpy(), vs)):\n",
    "                    if np.abs(val) < curvature_threshold:\n",
    "                        g_i_proj += (v[i] * dot_prod(v, g)).to(device)\n",
    "                v_g.append(g_i_proj)\n",
    "\n",
    "        # helper function for computing loss along direction v_g\n",
    "        @torch.no_grad()\n",
    "        def f(alpha):\n",
    "            for j, p in enumerate(mlp.parameters()):\n",
    "                p.data = step_params[j].clone() - alpha * v_g[j]\n",
    "            l = mse_loss_fn_torch(mlp(x_i), y_i).item()\n",
    "            for j, p in enumerate(mlp.parameters()):\n",
    "                p.data = step_params[j].clone()\n",
    "            return l\n",
    "\n",
    "        # perform search and step\n",
    "        lr = logarithmic_line_search(f, high=1e18)\n",
    "        with torch.no_grad():\n",
    "            for i, p in enumerate(mlp.parameters()):\n",
    "                p.add_(-lr * v_g[i])\n",
    "        lrs[curvature_threshold].append(lr)\n",
    "        losses[curvature_threshold].append(rmse_loss_fn_torch(mlp(x_i), y_i).item())\n",
    "    "
   ]
  },
  {
   "cell_type": "code",
   "execution_count": 55,
   "id": "7bf0f8dc",
   "metadata": {},
   "outputs": [
    {
     "data": {
      "text/plain": [
       "Text(0.5, 1.0, 'Further reducing loss (after BFGS) with line searches\\nin low-curvature subspaces')"
      ]
     },
     "execution_count": 55,
     "metadata": {},
     "output_type": "execute_result"
    },
    {
     "data": {
      "image/png": "[encoded data removed]",
      "text/plain": [
       "<Figure size 432x288 with 1 Axes>"
      ]
     },
     "metadata": {
      "needs_background": "light"
     },
     "output_type": "display_data"
    }
   ],
   "source": [
    "colors = plt.cm.plasma(np.linspace(0.9, 0, len(thresholds)))\n",
    "for i, curvature_threshold in enumerate(thresholds):\n",
    "    plt.plot(losses[curvature_threshold], label=\"{:.1e}\".format(curvature_threshold), color=colors[i])\n",
    "plt.legend(title='curv threshold', loc='upper right')\n",
    "plt.xlabel('low-curvature subspace steps (line search each step)')\n",
    "plt.yscale('log')\n",
    "plt.ylabel('RMSE loss')\n",
    "plt.title(\"Further reducing loss (after BFGS) with line searches\\nin low-curvature subspaces\")"
   ]
  },
  {
   "cell_type": "code",
   "execution_count": 59,
   "id": "3246152d",
   "metadata": {},
   "outputs": [
    {
     "data": {
      "application/vnd.jupyter.widget-view+json": {
       "model_id": "ca77eb38bb4d4b10b9af1e4aac92db17",
       "version_major": 2,
       "version_minor": 0
      },
      "text/plain": [
       "  0%|          | 0/7 [00:00<?, ?it/s]"
      ]
     },
     "metadata": {},
     "output_type": "display_data"
    },
    {
     "data": {
      "application/vnd.jupyter.widget-view+json": {
       "model_id": "",
       "version_major": 2,
       "version_minor": 0
      },
      "text/plain": [
       "  0%|          | 0/200 [00:00<?, ?it/s]"
      ]
     },
     "metadata": {},
     "output_type": "display_data"
    },
    {
     "data": {
      "application/vnd.jupyter.widget-view+json": {
       "model_id": "",
       "version_major": 2,
       "version_minor": 0
      },
      "text/plain": [
       "  0%|          | 0/200 [00:00<?, ?it/s]"
      ]
     },
     "metadata": {},
     "output_type": "display_data"
    },
    {
     "data": {
      "application/vnd.jupyter.widget-view+json": {
       "model_id": "",
       "version_major": 2,
       "version_minor": 0
      },
      "text/plain": [
       "  0%|          | 0/200 [00:00<?, ?it/s]"
      ]
     },
     "metadata": {},
     "output_type": "display_data"
    },
    {
     "data": {
      "application/vnd.jupyter.widget-view+json": {
       "model_id": "",
       "version_major": 2,
       "version_minor": 0
      },
      "text/plain": [
       "  0%|          | 0/200 [00:00<?, ?it/s]"
      ]
     },
     "metadata": {},
     "output_type": "display_data"
    },
    {
     "data": {
      "application/vnd.jupyter.widget-view+json": {
       "model_id": "",
       "version_major": 2,
       "version_minor": 0
      },
      "text/plain": [
       "  0%|          | 0/200 [00:00<?, ?it/s]"
      ]
     },
     "metadata": {},
     "output_type": "display_data"
    },
    {
     "data": {
      "application/vnd.jupyter.widget-view+json": {
       "model_id": "",
       "version_major": 2,
       "version_minor": 0
      },
      "text/plain": [
       "  0%|          | 0/200 [00:00<?, ?it/s]"
      ]
     },
     "metadata": {},
     "output_type": "display_data"
    },
    {
     "data": {
      "application/vnd.jupyter.widget-view+json": {
       "model_id": "",
       "version_major": 2,
       "version_minor": 0
      },
      "text/plain": [
       "  0%|          | 0/200 [00:00<?, ?it/s]"
      ]
     },
     "metadata": {},
     "output_type": "display_data"
    }
   ],
   "source": [
    "thresholds = [1e-6, 1e-8, 1e-10, 1e-12, 1e-14, 1e-16, 1e-18]\n",
    "lrs = defaultdict(list)\n",
    "losses = defaultdict(list)\n",
    "\n",
    "for curvature_threshold in tqdm(thresholds):\n",
    "    # start training at the end of BFGS\n",
    "    for j, p in enumerate(mlp.parameters()):\n",
    "        p.data = solution_params[j].clone()\n",
    "\n",
    "    for _ in tqdm(range(200), leave=False):\n",
    "\n",
    "        # parameters we start the step at\n",
    "        step_params = [p.detach().clone() for p in mlp.parameters()]\n",
    "\n",
    "        # compute gradient and hessian\n",
    "        l = mse_loss_fn_torch(mlp(x_i), y_i)\n",
    "        l.backward()\n",
    "        g = [p.grad.detach().clone().cpu() for p in mlp.parameters()]\n",
    "        mlp.zero_grad()\n",
    "        hessian = hessian_autograd(mlp, mse_loss_fn_torch, x_i, y_i)\n",
    "        vals, vs = decompose_hessian(hessian, lenghts, shapes)\n",
    "        mlp.zero_grad()\n",
    "\n",
    "        # compute projected gradient\n",
    "        v_g = []\n",
    "        with torch.no_grad():\n",
    "            for i, p in enumerate(mlp.parameters()):\n",
    "                g_i_proj = torch.zeros(p.shape).to(device)\n",
    "                for j, (val, v) in enumerate(zip(vals.numpy(), vs)):\n",
    "                    if np.abs(val) < curvature_threshold:\n",
    "                        g_i_proj += (v[i] * dot_prod(v, g)).to(device)\n",
    "                v_g.append(g_i_proj)\n",
    "\n",
    "        # helper function for computing loss along direction v_g\n",
    "        @torch.no_grad()\n",
    "        def f(alpha):\n",
    "            for j, p in enumerate(mlp.parameters()):\n",
    "                p.data = step_params[j].clone() - alpha * v_g[j]\n",
    "            l = mse_loss_fn_torch(mlp(x_i), y_i).item()\n",
    "            for j, p in enumerate(mlp.parameters()):\n",
    "                p.data = step_params[j].clone()\n",
    "            return l\n",
    "\n",
    "        # perform search and step\n",
    "        lr = logarithmic_line_search(f, high=1e40, points=50)\n",
    "        with torch.no_grad():\n",
    "            for i, p in enumerate(mlp.parameters()):\n",
    "                p.add_(-lr * v_g[i])\n",
    "        lrs[curvature_threshold].append(lr)\n",
    "        losses[curvature_threshold].append(mse_loss_fn_torch(mlp(x_i), y_i).item())\n",
    "    "
   ]
  },
  {
   "cell_type": "code",
   "execution_count": 60,
   "id": "f6732d4e",
   "metadata": {},
   "outputs": [
    {
     "data": {
      "text/plain": [
       "Text(0.5, 1.0, 'Further reducing loss (after BFGS) with line searches\\nin low-curvature subspaces')"
      ]
     },
     "execution_count": 60,
     "metadata": {},
     "output_type": "execute_result"
    },
    {
     "data": {
      "image/png": "[encoded data removed]",
      "text/plain": [
       "<Figure size 432x288 with 1 Axes>"
      ]
     },
     "metadata": {
      "needs_background": "light"
     },
     "output_type": "display_data"
    }
   ],
   "source": [
    "colors = plt.cm.plasma(np.linspace(0.9, 0, len(thresholds)))\n",
    "for i, curvature_threshold in enumerate(thresholds):\n",
    "    plt.plot(losses[curvature_threshold], label=\"{:.1e}\".format(curvature_threshold), color=colors[i])\n",
    "plt.legend(title='curv threshold', loc='upper right')\n",
    "plt.xlabel('low-curvature subspace steps (line search each step)')\n",
    "plt.yscale('log')\n",
    "plt.ylabel('MSE loss')\n",
    "plt.title(\"Further reducing loss (after BFGS) with line searches\\nin low-curvature subspaces\")\n"
   ]
  },
  {
   "cell_type": "code",
   "execution_count": null,
   "id": "3dbe40bf",
   "metadata": {},
   "outputs": [],
   "source": []
  },
  {
   "cell_type": "code",
   "execution_count": null,
   "id": "144cd7e6",
   "metadata": {},
   "outputs": [],
   "source": []
  },
  {
   "cell_type": "code",
   "execution_count": null,
   "id": "4755e5a0",
   "metadata": {},
   "outputs": [],
   "source": []
  },
  {
   "cell_type": "code",
   "execution_count": null,
   "id": "de49f500",
   "metadata": {},
   "outputs": [],
   "source": []
  },
  {
   "cell_type": "code",
   "execution_count": null,
   "id": "789da36d",
   "metadata": {},
   "outputs": [],
   "source": []
  },
  {
   "cell_type": "code",
   "execution_count": null,
   "id": "4916d00c",
   "metadata": {},
   "outputs": [],
   "source": []
  },
  {
   "cell_type": "code",
   "execution_count": null,
   "id": "c46ab55d",
   "metadata": {},
   "outputs": [],
   "source": []
  },
  {
   "cell_type": "code",
   "execution_count": null,
   "id": "59fc2007",
   "metadata": {},
   "outputs": [],
   "source": []
  },
  {
   "cell_type": "code",
   "execution_count": null,
   "id": "5e135eb6",
   "metadata": {},
   "outputs": [],
   "source": []
  },
  {
   "cell_type": "code",
   "execution_count": null,
   "id": "a6ccb1ea",
   "metadata": {},
   "outputs": [],
   "source": []
  },
  {
   "cell_type": "markdown",
   "id": "1900ac39",
   "metadata": {},
   "source": [
    "## Deprecated (unmodified from clone of another notebook)"
   ]
  },
  {
   "cell_type": "code",
   "execution_count": null,
   "id": "43901175",
   "metadata": {},
   "outputs": [],
   "source": [
    "for j, p in enumerate(mlp.parameters()):\n",
    "    p.data = solution_params[j].clone()\n",
    "\n",
    "curvature_threshold = 1e-3\n",
    "lr = 2.5e3\n",
    "\n",
    "losses = []\n",
    "for _ in tqdm(range(500)):\n",
    "    \n",
    "    rmse_loss_fn_torch(mlp(x_i), y_i).backward()\n",
    "    g = [p.grad.detach().clone().cpu() for p in mlp.parameters()]\n",
    "    mlp.zero_grad()\n",
    "    with torch.no_grad():\n",
    "        g_mag = np.sqrt(dot_prod(g, g))\n",
    "    \n",
    "    hessian = hessian_autograd(mlp, rmse_loss_fn_torch, x_i, y_i)\n",
    "    vals, vs = decompose_hessian(hessian, lenghts, shapes)\n",
    "    mlp.zero_grad()\n",
    "    \n",
    "    with torch.no_grad():\n",
    "        for i, p in enumerate(mlp.parameters()):\n",
    "            g_i_proj = torch.zeros(p.shape).to(device)\n",
    "            for j, (val, v) in enumerate(zip(vals.numpy(), vs)):\n",
    "                if np.abs(val) < curvature_threshold:\n",
    "                    g_i_proj += (v[i] * dot_prod(v, g) / g_mag).to(device)\n",
    "            p.add_(-lr * g_i_proj)\n",
    "        losses.append(rmse_loss_fn_torch(mlp(x_i), y_i).item())"
   ]
  },
  {
   "cell_type": "code",
   "execution_count": null,
   "id": "80a405af",
   "metadata": {},
   "outputs": [],
   "source": [
    "plt.plot(losses)\n",
    "plt.ylabel(\"RMSE loss\")\n",
    "plt.xlabel(\"Curvature-restricted subspace training steps\")"
   ]
  },
  {
   "cell_type": "code",
   "execution_count": null,
   "id": "25158b09",
   "metadata": {},
   "outputs": [],
   "source": [
    "for j, p in enumerate(mlp.parameters()):\n",
    "    p.data = solution_params[j].clone()\n",
    "\n",
    "curvature_threshold = 1e-4\n",
    "lr = 2.5e3\n",
    "\n",
    "losses = []\n",
    "for _ in tqdm(range(200)):\n",
    "    \n",
    "    rmse_loss_fn_torch(mlp(x_i), y_i).backward()\n",
    "    g = [p.grad.detach().clone().cpu() for p in mlp.parameters()]\n",
    "    mlp.zero_grad()\n",
    "    with torch.no_grad():\n",
    "        g_mag = np.sqrt(dot_prod(g, g))\n",
    "    \n",
    "    hessian = hessian_autograd(mlp, rmse_loss_fn_torch, x_i, y_i)\n",
    "    vals, vs = decompose_hessian(hessian, lenghts, shapes)\n",
    "    mlp.zero_grad()\n",
    "    \n",
    "    with torch.no_grad():\n",
    "        for i, p in enumerate(mlp.parameters()):\n",
    "            g_i_proj = torch.zeros(p.shape).to(device)\n",
    "            for j, (val, v) in enumerate(zip(vals.numpy(), vs)):\n",
    "                if np.abs(val) < curvature_threshold:\n",
    "                    g_i_proj += (v[i] * dot_prod(v, g) / g_mag).to(device)\n",
    "            p.add_(-lr * g_i_proj)\n",
    "        losses.append(rmse_loss_fn_torch(mlp(x_i), y_i).item())"
   ]
  },
  {
   "cell_type": "code",
   "execution_count": null,
   "id": "dde0de28",
   "metadata": {},
   "outputs": [],
   "source": [
    "plt.plot(losses)\n",
    "plt.ylabel(\"RMSE loss\")\n",
    "plt.xlabel(\"Curvature-restricted subspace training steps\")"
   ]
  },
  {
   "cell_type": "code",
   "execution_count": null,
   "id": "72741512",
   "metadata": {},
   "outputs": [],
   "source": [
    "thresholds = [2**(-n) for n in range(15)]\n",
    "lrs = [2**n for n in range(-4, 20)]\n",
    "\n",
    "results = dict()\n",
    "\n",
    "for lr, curvature_threshold in tqdm(list(product(thresholds, lrs))):\n",
    "    \n",
    "    for j, p in enumerate(mlp.parameters()):\n",
    "        p.data = solution_params[j].clone()\n",
    "\n",
    "    for _ in range(10):\n",
    "\n",
    "        rmse_loss_fn_torch(mlp(x_i), y_i).backward()\n",
    "        g = [p.grad.detach().clone().cpu() for p in mlp.parameters()]\n",
    "        mlp.zero_grad()\n",
    "        with torch.no_grad():\n",
    "            g_mag = np.sqrt(dot_prod(g, g))\n",
    "\n",
    "        hessian = hessian_autograd(mlp, rmse_loss_fn_torch, x_i, y_i)\n",
    "        vals, vs = decompose_hessian(hessian, lenghts, shapes)\n",
    "        mlp.zero_grad()\n",
    "        \n",
    "        losses = []\n",
    "        with torch.no_grad():\n",
    "            for i, p in enumerate(mlp.parameters()):\n",
    "                g_i_proj = torch.zeros(p.shape).to(device)\n",
    "                for j, (val, v) in enumerate(zip(vals.numpy(), vs)):\n",
    "                    if np.abs(val) < curvature_threshold:\n",
    "                        g_i_proj += (v[i] * dot_prod(v, g) / g_mag).to(device)\n",
    "                p.add_(-lr * g_i_proj)\n",
    "            losses.append(rmse_loss_fn_torch(mlp(x_i), y_i).item())\n",
    "        results[(lr, curvature_threshold)] = min(losses)\n"
   ]
  },
  {
   "cell_type": "code",
   "execution_count": null,
   "id": "e406b6cb",
   "metadata": {},
   "outputs": [],
   "source": [
    "min(results.values())"
   ]
  },
  {
   "cell_type": "markdown",
   "id": "87eac31b",
   "metadata": {},
   "source": [
    "### Implement Adam within the restricted space"
   ]
  },
  {
   "cell_type": "code",
   "execution_count": null,
   "id": "baae9e7e",
   "metadata": {},
   "outputs": [],
   "source": [
    "for j, p in enumerate(mlp.parameters()):\n",
    "    p.data = solution_params[j].clone()\n",
    "\n",
    "curvature_threshold = 1e-4\n",
    "lr = 1.0e-10\n",
    "\n",
    "beta1 = 0.9\n",
    "beta2 = 0.999\n",
    "epsilon = 1e-8\n",
    "\n",
    "m = [torch.zeros(p.shape).to(device) for p in mlp.parameters()]\n",
    "v = [torch.zeros(p.shape).to(device) for p in mlp.parameters()]\n",
    "\n",
    "losses = []\n",
    "for t in tqdm(range(10)):\n",
    "    with torch.no_grad():\n",
    "        losses.append(rmse_loss_fn_torch(mlp(x_i), y_i).item())\n",
    "    \n",
    "    rmse_loss_fn_torch(mlp(x_i), y_i).backward()\n",
    "    g = [p.grad.detach().clone().cpu() for p in mlp.parameters()]\n",
    "    mlp.zero_grad()\n",
    "    with torch.no_grad():\n",
    "        g_mag = np.sqrt(dot_prod(g, g))\n",
    "    \n",
    "    hessian = hessian_autograd(mlp, rmse_loss_fn_torch, x_i, y_i)\n",
    "    vals, vs = decompose_hessian(hessian, lenghts, shapes)\n",
    "    mlp.zero_grad()\n",
    "    \n",
    "    g_proj = []\n",
    "    with torch.no_grad():\n",
    "        for i, p in enumerate(mlp.parameters()):\n",
    "            g_i_proj = torch.zeros(p.shape).to(device)\n",
    "            for j, (val, vec) in enumerate(zip(vals.numpy(), vs)):\n",
    "                if np.abs(val) < curvature_threshold:\n",
    "                    g_i_proj += (vec[i] * dot_prod(vec, g) / g_mag).to(device)\n",
    "            g_proj.append(g_i_proj)\n",
    "    \n",
    "    with torch.no_grad():\n",
    "        for i, p in enumerate(mlp.parameters()):\n",
    "            m[i] = beta1 * m[i] + (1 - beta1) * g_proj[i]\n",
    "            v[i] = beta2 * v[i] + (1 - beta2) * torch.pow(g_proj[i], 2)\n",
    "            mhat = m[i] / (1 + np.power(beta1, t))\n",
    "            vhat = v[i] / (1 + np.power(beta2, t))\n",
    "            p.add_(-lr * mhat / (torch.sqrt(vhat) + epsilon))\n",
    "            \n",
    "        losses.append(rmse_loss_fn_torch(mlp(x_i), y_i).item())"
   ]
  },
  {
   "cell_type": "code",
   "execution_count": null,
   "id": "536919be",
   "metadata": {},
   "outputs": [],
   "source": [
    "plt.plot(losses)\n",
    "plt.yscale('log')"
   ]
  },
  {
   "cell_type": "code",
   "execution_count": null,
   "id": "a7fd858a",
   "metadata": {},
   "outputs": [],
   "source": [
    "for j, p in enumerate(mlp.parameters()):\n",
    "    p.data = solution_params[j].clone()\n",
    "\n",
    "curvature_threshold = 1e-4\n",
    "\n",
    "lrs = []\n",
    "\n",
    "losses = []\n",
    "for _ in tqdm(range(10)):\n",
    "    \n",
    "    rmse_loss_fn_torch(mlp(x_i), y_i).backward()\n",
    "    g = [p.grad.detach().clone().cpu() for p in mlp.parameters()]\n",
    "    mlp.zero_grad()\n",
    "    with torch.no_grad():\n",
    "        g_mag = np.sqrt(dot_prod(g, g))\n",
    "    \n",
    "    hessian = hessian_autograd(mlp, rmse_loss_fn_torch, x_i, y_i)\n",
    "    vals, vs = decompose_hessian(hessian, lenghts, shapes)\n",
    "    mlp.zero_grad()\n",
    "    \n",
    "    with torch.no_grad():\n",
    "        for i, p in enumerate(mlp.parameters()):\n",
    "            g_i_proj = torch.zeros(p.shape).to(device)\n",
    "            optimal_lrs = []\n",
    "            for j, (val, v) in enumerate(zip(vals.numpy(), vs)):\n",
    "                if np.abs(val) < curvature_threshold:\n",
    "                    prod = dot_prod(v, g)\n",
    "                    optimal_lrs.append(np.power(dot_prod(v, g), 2) / g_mag / np.abs(val))\n",
    "                    g_i_proj += (v[i] * prod / g_mag).to(device)\n",
    "            lr = np.mean(optimal_lrs)\n",
    "            lrs.append(lr)\n",
    "            p.add_(-lr * g_i_proj)\n",
    "        losses.append(rmse_loss_fn_torch(mlp(x_i), y_i).item())\n",
    "    "
   ]
  },
  {
   "cell_type": "code",
   "execution_count": null,
   "id": "a606bffa",
   "metadata": {},
   "outputs": [],
   "source": [
    "plt.plot(losses)"
   ]
  },
  {
   "cell_type": "code",
   "execution_count": null,
   "id": "3bd222a5",
   "metadata": {},
   "outputs": [],
   "source": []
  },
  {
   "cell_type": "code",
   "execution_count": null,
   "id": "1da410f2",
   "metadata": {},
   "outputs": [],
   "source": []
  },
  {
   "cell_type": "code",
   "execution_count": null,
   "id": "62660152",
   "metadata": {},
   "outputs": [],
   "source": []
  },
  {
   "cell_type": "code",
   "execution_count": null,
   "id": "2c84c70d",
   "metadata": {},
   "outputs": [],
   "source": []
  },
  {
   "cell_type": "code",
   "execution_count": null,
   "id": "a0900b87",
   "metadata": {},
   "outputs": [],
   "source": []
  },
  {
   "cell_type": "code",
   "execution_count": null,
   "id": "d374d28a",
   "metadata": {},
   "outputs": [],
   "source": []
  }
 ],
 "metadata": {
  "kernelspec": {
   "display_name": "Python 3 (ipykernel)",
   "language": "python",
   "name": "python3"
  },
  "language_info": {
   "codemirror_mode": {
    "name": "ipython",
    "version": 3
   },
   "file_extension": ".py",
   "mimetype": "text/x-python",
   "name": "python",
   "nbconvert_exporter": "python",
   "pygments_lexer": "ipython3",
   "version": "3.8.12"
  }
 },
 "nbformat": 4,
 "nbformat_minor": 5
}
