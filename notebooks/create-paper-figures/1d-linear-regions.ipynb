{
 "cells": [
  {
   "cell_type": "code",
   "execution_count": 22,
   "id": "e8b72bd1",
   "metadata": {},
   "outputs": [],
   "source": [
    "from collections import defaultdict\n",
    "from itertools import islice, product\n",
    "import random\n",
    "import time\n",
    "from pathlib import Path\n",
    "\n",
    "import numpy as np\n",
    "from tqdm.auto import tqdm\n",
    "\n",
    "import pandas as pd\n",
    "from sympy import parse_expr, lambdify\n",
    "\n",
    "import torch\n",
    "import torch.nn as nn"
   ]
  },
  {
   "cell_type": "code",
   "execution_count": 23,
   "id": "cba948f3",
   "metadata": {},
   "outputs": [],
   "source": [
    "def parameters(width, depth, dimension):\n",
    "    \"\"\"Computes number of parameters in MLP with widths `width`,\n",
    "    depth `depth`, and input dimension `dimension`. Assumes the neurons\n",
    "    have biases.\n",
    "    \"\"\"\n",
    "    return (dimension * width + width) + (depth - 2)*(width * width + width) + (width + 1)\n",
    "\n",
    "def width_given_ddp(depth, dimension, parameters):\n",
    "    \"\"\"Given the network depth and input dimension, computes the\n",
    "    width such that the architecture (with bias) has `parameters` parameters.\n",
    "    \"\"\"\n",
    "    if depth == 2:\n",
    "        return int((parameters - 1) / (dimension + 2))\n",
    "    root = (-(dimension + depth) + np.sqrt(np.power(dimension + depth, 2) - 4 * (depth - 2) * (1 - parameters))) / (2 * (depth - 2))\n",
    "    return int(root)"
   ]
  },
  {
   "cell_type": "code",
   "execution_count": 5,
   "id": "e8bbaffa",
   "metadata": {},
   "outputs": [
    {
     "data": {
      "application/vnd.jupyter.widget-view+json": {
       "model_id": "a8b40f193a064a94b10e27c8d68c13bd",
       "version_major": 2,
       "version_minor": 0
      },
      "text/plain": [
       "  0%|          | 0/25000 [00:00<?, ?it/s]"
      ]
     },
     "metadata": {},
     "output_type": "display_data"
    },
    {
     "data": {
      "application/vnd.jupyter.widget-view+json": {
       "model_id": "d4e1d17f1624480cbcad5f3a4fd98b4f",
       "version_major": 2,
       "version_minor": 0
      },
      "text/plain": [
       "  0%|          | 0/25000 [00:00<?, ?it/s]"
      ]
     },
     "metadata": {},
     "output_type": "display_data"
    },
    {
     "data": {
      "application/vnd.jupyter.widget-view+json": {
       "model_id": "b27d6daed33d493a919732ac5f83a416",
       "version_major": 2,
       "version_minor": 0
      },
      "text/plain": [
       "  0%|          | 0/25000 [00:00<?, ?it/s]"
      ]
     },
     "metadata": {},
     "output_type": "display_data"
    }
   ],
   "source": [
    "eqn = 'Z.001'\n",
    "# width = 30\n",
    "# depth = 2\n",
    "lr = 1e-3\n",
    "activation = 'ReLU'\n",
    "N_TEST_POINTS = 30000\n",
    "TEST_COMPACTIFICATION = 0.8\n",
    "MAX_TRAIN_ITERS = 25000\n",
    "MAX_BATCH_SIZE = 30000\n",
    "spreadsheet = \"../../equations.csv\"\n",
    "device = torch.device('cuda:0' if torch.cuda.is_available() else 'cpu')\n",
    "dtype = torch.float64\n",
    "seed = 0\n",
    "\n",
    "depths = [2, 3, 4]\n",
    "widths = [30, 8, 6]\n",
    "\n",
    "results = dict()\n",
    "for depth, width in zip(depths, widths):\n",
    "    torch.set_default_dtype(dtype)\n",
    "    torch.manual_seed(seed)\n",
    "    random.seed(seed)\n",
    "    np.random.seed(seed)\n",
    "    \n",
    "    equations = pd.read_csv(spreadsheet)\n",
    "    row = equations[equations['Equation'] == eqn].iloc[0]\n",
    "    dimension = int(row['# variables'])\n",
    "    formula = row['Formula']\n",
    "    variables = [row[f'v{i}_name'] for i in range(1, dimension+1)]\n",
    "    ranges = [(row[f'v{i}_low'], row[f'v{i}_high']) for i in range(1, dimension+1)]\n",
    "    target = lambdify(variables, parse_expr(formula))\n",
    "\n",
    "    TRAIN_POINTS = parameters(width, depth, dimension) // (dimension + 1)\n",
    "    # ex.info['TRAIN_POINTS'] = TRAIN_POINTS\n",
    "    # _log.debug(f\"TRAIN_POINTS: {TRAIN_POINTS}\")\n",
    "\n",
    "    # create datasets\n",
    "    ls = np.array([ranges[i][0] for i in range(dimension)])\n",
    "    hs = np.array([ranges[i][1] for i in range(dimension)])\n",
    "    xs_train = np.random.uniform(low=ls, high=hs, size=(TRAIN_POINTS, dimension))\n",
    "    ys_train = target(*[xs_train[:, i] for i in range(dimension)])\n",
    "\n",
    "    cs = (hs + ls) / 2\n",
    "    ws = (hs - ls) * TEST_COMPACTIFICATION\n",
    "    ls, hs = cs - ws / 2, cs + ws / 2\n",
    "    xs_test = np.random.uniform(low=ls, high=hs, size=(N_TEST_POINTS, dimension))\n",
    "    ys_test = target(*[xs_test[:, i] for i in range(dimension)])\n",
    "\n",
    "    xs_train = torch.from_numpy(xs_train).to(device)\n",
    "    ys_train = torch.from_numpy(ys_train).to(device).unsqueeze(dim=1)\n",
    "    xs_test = torch.from_numpy(xs_test).to(device)\n",
    "    ys_test = torch.from_numpy(ys_test).to(device).unsqueeze(dim=1)\n",
    "    \n",
    "    ## Simplex interpolation first\n",
    "\n",
    "    from scipy import spatial, interpolate\n",
    "\n",
    "    # xs_train = xs_train.reshape((TRAIN_POINTS,))\n",
    "    # ys_train = ys_train.reshape((TRAIN_POINTS,))\n",
    "    # xs_test = xs_test.reshape((N_TEST_POINTS,))\n",
    "    # ys_test = ys_test.reshape((N_TEST_POINTS,))\n",
    "\n",
    "    f = interpolate.interp1d(xs_train.reshape((TRAIN_POINTS,)).cpu().detach().cpu().numpy(), ys_train.reshape((TRAIN_POINTS,)).detach().cpu().numpy(), kind='linear', bounds_error=False)\n",
    "\n",
    "    # _log.debug(\"Evaluating model\") \n",
    "    preds = f(xs_test.reshape((N_TEST_POINTS,)).detach().cpu().numpy())\n",
    "    valid_idx = ~np.isnan(preds)\n",
    "    rmse_loss = np.sqrt(np.mean(np.power(preds[valid_idx] - ys_test.reshape((N_TEST_POINTS,)).detach().cpu().numpy()[valid_idx], 2)))\n",
    "    # ex.info['test'] = rmse_loss.item() \n",
    "\n",
    "    if activation == 'ReLU':\n",
    "        activation_fn = nn.ReLU\n",
    "    elif activation == 'Tanh':\n",
    "        activation_fn = nn.Tanh\n",
    "    elif activation == 'Sigmoid':\n",
    "        activation_fn = nn.Sigmoid\n",
    "    else:\n",
    "        assert False, f\"Unrecognized activation function identifier: {activation}\"\n",
    "\n",
    "    # create model\n",
    "    layers = []\n",
    "    for i in range(depth):\n",
    "        if i == 0:\n",
    "            layers.append(nn.Linear(dimension, width))\n",
    "            layers.append(activation_fn())\n",
    "        elif i == depth - 1:\n",
    "            layers.append(nn.Linear(width, 1))\n",
    "        else:\n",
    "            layers.append(nn.Linear(width, width))\n",
    "            layers.append(activation_fn())\n",
    "    mlp = nn.Sequential(*layers).to(device)\n",
    "    # _log.debug(\"Created model.\")\n",
    "    # _log.debug(f\"Model has {sum(t.numel() for t in mlp.parameters())} parameters\") \n",
    "\n",
    "    loss_fn = nn.MSELoss()\n",
    "    optim = torch.optim.Adam(mlp.parameters(), lr=lr)\n",
    "\n",
    "    # ex.info['train'] = list()\n",
    "    train = list()\n",
    "    # ex.info['test'] = list()\n",
    "    test = list()\n",
    "    min_train = float('inf')\n",
    "    min_test = float('inf')\n",
    "    test_at_min_train = float('inf')\n",
    "\n",
    "    k = 0\n",
    "    for step in tqdm(range(MAX_TRAIN_ITERS)):\n",
    "        optim.zero_grad()\n",
    "        if TRAIN_POINTS <= MAX_BATCH_SIZE:\n",
    "            ys_pred = mlp(xs_train)\n",
    "            l = loss_fn(ys_train, ys_pred)\n",
    "        else:\n",
    "            sample_idx = torch.arange(k, k+MAX_BATCH_SIZE, 1) % TRAIN_POINTS\n",
    "            xs_batch, ys_batch = xs_train[sample_idx], ys_train[sample_idx]\n",
    "            ys_pred = mlp(xs_batch)\n",
    "            l = loss_fn(ys_batch, ys_pred)\n",
    "            k += MAX_BATCH_SIZE\n",
    "        l.backward()\n",
    "        optim.step()\n",
    "        with torch.no_grad():\n",
    "            train_l = torch.sqrt(l).item()\n",
    "            test_l = torch.sqrt(torch.mean(torch.pow(mlp(xs_test) - ys_test, 2))).item()\n",
    "            if train_l < min_train:\n",
    "                min_train = train_l\n",
    "                test_at_min_train = test_l\n",
    "            min_test = test_l if test_l < min_test else min_test\n",
    "            if step % 100 == 0:\n",
    "                # ex.info['train'].append(train_l)\n",
    "                # ex.info['test'].append(test_l)\n",
    "                train.append(train_l)\n",
    "                test.append(test_l)\n",
    "    \n",
    "    results[depth] = dict()\n",
    "    results[depth]['test_at_min_train'] = test_at_min_train\n",
    "    results[depth]['test'] = test\n",
    "    results[depth]['train'] = train\n",
    "    results[depth]['mlp'] = mlp\n",
    "    results[depth]['f'] = f\n",
    "\n",
    "    "
   ]
  },
  {
   "cell_type": "code",
   "execution_count": 24,
   "id": "be06182d",
   "metadata": {},
   "outputs": [],
   "source": [
    "import matplotlib\n",
    "import matplotlib.pyplot as plt\n",
    "import matplotlib.gridspace as gridspac"
   ]
  },
  {
   "cell_type": "code",
   "execution_count": 31,
   "id": "1bf0426a",
   "metadata": {},
   "outputs": [
    {
     "data": {
      "image/png": "[encoded data removed]",
      "text/plain": [
       "<Figure size 432x122.4 with 3 Axes>"
      ]
     },
     "metadata": {
      "needs_background": "light"
     },
     "output_type": "display_data"
    }
   ],
   "source": [
    "plt.figure(figsize=(6, 1.7))\n",
    "gs1 = gridspec.GridSpec(4, 4)\n",
    "\n",
    "for i, (depth, width) in enumerate(zip(depths, widths)):\n",
    "    ax = plt.subplot(1, 3, i+1)\n",
    "\n",
    "    xl = 0.2\n",
    "    xs_plots = np.linspace(-xl, xl, 100000).reshape((100000, 1))\n",
    "    xs_plots = torch.from_numpy(xs_plots).to(device)\n",
    "    ys_network = results[depth]['mlp'](xs_plots)\n",
    "    ys_simplex = results[depth]['f'](xs_plots.detach().cpu().numpy())\n",
    "\n",
    "    plt.plot(xs_plots.detach().cpu().numpy(), xs_plots.detach().cpu().numpy() ** 2, label=r\"$y=x^2$\")\n",
    "    plt.plot(xs_plots.detach().cpu().numpy(), ys_simplex, label=\"Simplex interpolation\")\n",
    "    plt.plot(xs_plots.detach().cpu().numpy(), ys_network.detach().cpu().numpy(), label=\"ReLU network\")\n",
    "    plt.scatter(xs_train.detach().cpu().numpy(), xs_train.detach().cpu().numpy() ** 2, color='black', label='training point', s=5)\n",
    "\n",
    "    plt.xlim(-xl, xl)\n",
    "    plt.ylim(-0.04*xl, xl**2)\n",
    "    if i != 0:\n",
    "        ax.axes.yaxis.set_ticklabels([])\n",
    "    plt.xticks(fontsize=7)\n",
    "    plt.yticks(fontsize=7)\n",
    "    plt.legend(prop={'size': 3})\n",
    "\n",
    "    plt.title(f\"Depth: {depth} (1-{(str(width)+'-')*(depth-1)}1)\\nTest RMSE: {results[depth]['test_at_min_train']:.2e}\", fontsize=7)\n",
    "    plt.xlabel(\"x\")\n",
    "    if i == 0:\n",
    "        plt.ylabel(r\"$y = x^2$\")\n",
    "\n",
    "# plt.tight_layout(pad=0.3, rect=(0.02, 0, 1, 1))\n",
    "# plt.subplots_adjust(wspace=0, hspace=0)\n",
    "# plt.subplots_adjust(hspace=-100)\n",
    "# remove all horizontal spacing between subplots\n",
    "plt.subplots_adjust(hspace=-5)\n",
    "# plt.tight_layout()\n",
    "# plt.savefig(\"../final-figures/1d-linear-regions.pdf\")\n"
   ]
  },
  {
   "cell_type": "code",
   "execution_count": null,
   "id": "5ac1bc1e",
   "metadata": {},
   "outputs": [],
   "source": []
  },
  {
   "cell_type": "code",
   "execution_count": null,
   "id": "be57b99d",
   "metadata": {},
   "outputs": [],
   "source": []
  },
  {
   "cell_type": "code",
   "execution_count": null,
   "id": "3bf34d4f",
   "metadata": {},
   "outputs": [],
   "source": []
  },
  {
   "cell_type": "code",
   "execution_count": null,
   "id": "c6841907",
   "metadata": {},
   "outputs": [],
   "source": []
  },
  {
   "cell_type": "code",
   "execution_count": null,
   "id": "8cd20b41",
   "metadata": {},
   "outputs": [],
   "source": []
  }
 ],
 "metadata": {
  "kernelspec": {
   "display_name": "Python 3 (ipykernel)",
   "language": "python",
   "name": "python3"
  },
  "language_info": {
   "codemirror_mode": {
    "name": "ipython",
    "version": 3
   },
   "file_extension": ".py",
   "mimetype": "text/x-python",
   "name": "python",
   "nbconvert_exporter": "python",
   "pygments_lexer": "ipython3",
   "version": "3.8.12"
  }
 },
 "nbformat": 4,
 "nbformat_minor": 5
}
