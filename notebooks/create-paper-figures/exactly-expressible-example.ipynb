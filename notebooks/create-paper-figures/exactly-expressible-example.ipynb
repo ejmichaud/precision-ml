{
 "cells": [
  {
   "cell_type": "code",
   "execution_count": 1,
   "id": "9d6eab34",
   "metadata": {},
   "outputs": [],
   "source": [
    "import sys\n",
    "import os\n",
    "import yaml\n",
    "from itertools import product\n",
    "from collections import defaultdict\n",
    "from tqdm.auto import tqdm\n",
    "\n",
    "import numpy as np\n",
    "import matplotlib\n",
    "import matplotlib.pyplot as plt\n",
    "\n",
    "from scipy import interpolate, optimize\n",
    "from sklearn.linear_model import LinearRegression\n",
    "\n",
    "import pandas as pd\n",
    "from sympy import parse_expr, lambdify, latex, Symbol\n",
    "\n",
    "from pymongo import MongoClient\n",
    "import pymongo\n",
    "\n",
    "from seml.database import get_collection\n",
    "from seml.evaluation import parse_jsonpickle"
   ]
  },
  {
   "cell_type": "code",
   "execution_count": 2,
   "id": "05997a56",
   "metadata": {},
   "outputs": [],
   "source": [
    "plt.rcParams['text.usetex'] = True"
   ]
  },
  {
   "cell_type": "code",
   "execution_count": 3,
   "id": "aa76671b",
   "metadata": {},
   "outputs": [],
   "source": [
    "def parameters(width, depth, dimension):\n",
    "    \"\"\"Computes number of parameters in MLP with widths `width`,\n",
    "    depth `depth`, and input dimension `dimension`. Assumes the neurons\n",
    "    have biases.\n",
    "    \"\"\"\n",
    "    return (dimension * width + width) + (depth - 2)*(width * width + width) + (width + 1)"
   ]
  },
  {
   "cell_type": "code",
   "execution_count": 4,
   "id": "e9e65723",
   "metadata": {},
   "outputs": [],
   "source": [
    "equations = pd.read_csv('../../equations.csv')"
   ]
  },
  {
   "cell_type": "code",
   "execution_count": 5,
   "id": "522dfd4f",
   "metadata": {},
   "outputs": [],
   "source": [
    "simplex_collection = get_collection('highd-simplex-0')\n",
    "network_collection = get_collection('feynman-network-6')"
   ]
  },
  {
   "cell_type": "code",
   "execution_count": null,
   "id": "d3491aca",
   "metadata": {},
   "outputs": [],
   "source": []
  },
  {
   "cell_type": "code",
   "execution_count": 6,
   "id": "a5522203",
   "metadata": {},
   "outputs": [],
   "source": [
    "optimal_dimension = {\n",
    "    'I.10.7': 2,\n",
    "    'I.30.5': 2,\n",
    "    'I.8.14': 2, # 1 previously\n",
    "    'I.39.22': 2,\n",
    "    'I.44.4': 2,\n",
    "    'I.12.11': 2, # 1 previously\n",
    "    'II.6.15a': 2,\n",
    "    'I.11.19': 2\n",
    "}"
   ]
  },
  {
   "cell_type": "code",
   "execution_count": 7,
   "id": "6713df1b",
   "metadata": {},
   "outputs": [
    {
     "data": {
      "application/vnd.jupyter.widget-view+json": {
       "model_id": "01d00677915249e98e0d3e2aaf0125a7",
       "version_major": 2,
       "version_minor": 0
      },
      "text/plain": [
       "0it [00:00, ?it/s]"
      ]
     },
     "metadata": {},
     "output_type": "display_data"
    },
    {
     "data": {
      "image/png": "[encoded data removed]",
      "text/plain": [
       "<Figure size 216x144 with 1 Axes>"
      ]
     },
     "metadata": {
      "needs_background": "light"
     },
     "output_type": "display_data"
    }
   ],
   "source": [
    "plt.figure(figsize=(3, 2.0))\n",
    "\n",
    "eqns = ['I.11.19']\n",
    "\n",
    "# for rending equations properly, set manually\n",
    "symbol_names = {\n",
    "    Symbol('Ef'): 'E_f',\n",
    "    Symbol('E_den'): 'E_{\\text{den}}',\n",
    "    Symbol('lambd'): '\\lambda',\n",
    "    Symbol('kb'): 'k_b'\n",
    "}\n",
    "\n",
    "for i, eqn in tqdm(enumerate(eqns)):\n",
    "    ax = plt.subplot(1, 1, i+1)\n",
    "    \n",
    "    fields = ['config', 'info']\n",
    "    query = {\n",
    "        'status': 'COMPLETED',\n",
    "        'config.eqn': eqn,\n",
    "    }\n",
    "    cursor = simplex_collection.find(query, fields)\n",
    "    results = list(cursor)\n",
    "    dimension = results[0]['info']['dimension']\n",
    "    sequence = [(r['config']['TRAIN_POINTS'] * (dimension + 1), r['info']['test']) for r in results]\n",
    "    xs = sorted(list(set([s[0] for s in sequence])))\n",
    "    means = np.array([np.mean([s[1] for s in sequence if s[0] == x]) for x in xs])\n",
    "    stds = np.array([np.std([s[1] for s in sequence if s[0] == x]) for x in xs])\n",
    "\n",
    "    min_simplex_mean = min(means)\n",
    "    \n",
    "    plt.plot(xs, means, label='Simplex', color='orange', alpha=1.0)\n",
    "    plt.fill_between(xs, means-stds, means+stds, color='orange', alpha=0.2)\n",
    "\n",
    "    x, y = xs[-1], means[-1]\n",
    "    C = y / np.power(x, -2 / dimension)\n",
    "    ys = C * np.power(xs, -2 / dimension)\n",
    "    plt.plot(xs, ys, '--', color='black', alpha=0.4, label=\"$L \\propto N^{-2/d}$\")\n",
    "    \n",
    "    colors = plt.cm.cool(np.linspace(0.1, 0.9, 3))\n",
    "    for i, depth in enumerate([2, 3, 4]):\n",
    "        fields = ['config', 'info', 'results']\n",
    "        query = {\n",
    "            'status': 'COMPLETED',\n",
    "            'config.eqn': eqn,\n",
    "            'config.lr': 0.001,\n",
    "            'config.depth': depth,\n",
    "            'config.activation': 'Tanh'\n",
    "        }\n",
    "        cursor = network_collection.find(query, fields)\n",
    "        results = [x for x in cursor]\n",
    "        if results:\n",
    "            dimension = results[0]['info']['dimension']\n",
    "            sequence = []\n",
    "            for r in results:\n",
    "                width, depth = r['config']['width'], r['config']['depth']\n",
    "                p = parameters(width, depth, dimension)\n",
    "                sequence.append((p, r['info']['test_at_min_train']))\n",
    "            xs = sorted(list(set([s[0] for s in sequence])))\n",
    "            plt.scatter(*zip(*sequence), color=colors[i], s=5, alpha=0.6)\n",
    "            means = np.array([np.mean([s[1] for s in sequence if s[0] == x]) for x in xs])\n",
    "            medians = np.array([np.median([s[1] for s in sequence if s[0] == x]) for x in xs])\n",
    "            mins = np.array([np.min([s[1] for s in sequence if s[0] == x]) for x in xs])\n",
    "            stds = np.array([np.std([s[1] for s in sequence if s[0] == x]) for x in xs])\n",
    "            plt.plot(xs, medians, label=f'Tanh depth {depth}', color=colors[i], alpha=1.0, linewidth=1.5)\n",
    "    if eqn in optimal_dimension:\n",
    "#         eff_dim = optimal_dimension[eqn]\n",
    "        eff_dim = 2\n",
    "        x, y = xs[0], means[0]\n",
    "        C = y / np.power(x, -2 / eff_dim)\n",
    "        end_x = np.power(min(means[-1], min_simplex_mean) / C, -eff_dim / 2)\n",
    "        xs = np.linspace(x, end_x, 100)\n",
    "        ys = C * np.power(xs, -2 / eff_dim)\n",
    "        plt.plot(xs, ys, '--', color='lime', alpha=1.0, label=r\"$L \\propto N^{-2/{d^*}}; \\ d^* = 2$\", zorder=10)\n",
    "\n",
    "    plt.yscale('log')\n",
    "    plt.xscale('log')\n",
    "    plt.xticks([100, 1000, 10000, 100000], fontsize=7)\n",
    "    plt.yticks(fontsize=7)\n",
    "    row = equations[equations['Equation'] == eqn]\n",
    "    eqn_formula = row['Formula'].item()\n",
    "    eqn_variables = [row[f'v{i}_name'].item() for i in range(1, dimension+1)]\n",
    "    plt.xlabel(r\"Model Parameters $N = |D|(d+1)$\", fontsize=7)\n",
    "    plt.ylabel(\"RMSE Test Loss\", fontsize=7)\n",
    "    \n",
    "    plt.tick_params(axis='x', which='major')\n",
    "    # Hide the right and top spines\n",
    "    ax.spines.right.set_visible(False)\n",
    "    ax.spines.top.set_visible(False)\n",
    "    # Only show ticks on the left and bottom spines\n",
    "    ax.yaxis.set_ticks_position('left')\n",
    "    ax.xaxis.set_ticks_position('bottom')\n",
    "    plt.grid(True, which=\"both\", linestyle='-', linewidth=0.5, alpha=0.3)\n",
    "    \n",
    "    output=row['Output'].item()\n",
    "#     print(output)\n",
    "    if output == 'Ef':\n",
    "        output = 'E_\\perp'\n",
    "    if output == 'theta':\n",
    "        output = '\\\\theta'\n",
    "    if output == 'E_den':\n",
    "        output = 'u'\n",
    "    plt.xlabel(r\"Model Parameters $N = |D|(d+1)$\", fontsize=7)\n",
    "    plt.ylabel(\"RMSE Test Loss\", fontsize=7)\n",
    "    if dimension == 1:\n",
    "        full_formula = f\"{eqn_formula}\"\n",
    "        plt.title(f\"${output}={latex(parse_expr(full_formula), symbol_names=symbol_names)}$: $d = {dimension}$\", fontsize=8)\n",
    "    else:\n",
    "        if eqn == 'I.8.14':\n",
    "                plt.title(r\"$\\Delta s=\\sqrt{(x_2 - x_1)^2 + (y_2 - y_1)^2}$:\" +  f\" $d = {dimension}$\", fontsize=8)\n",
    "        else:\n",
    "            full_formula = f\"{eqn_formula}\"\n",
    "            plt.title(f\"${output}={latex(parse_expr(full_formula), symbol_names=symbol_names)}$: $d = {dimension}$\", fontsize=8)\n",
    "\n",
    "    plt.legend(prop={'size': 4})\n",
    "plt.tight_layout(pad=0.2)\n",
    "plt.savefig(\"../final-figures/exactly-expressible-example.pdf\")\n",
    "\n",
    "\n"
   ]
  },
  {
   "cell_type": "code",
   "execution_count": null,
   "id": "aa874601",
   "metadata": {},
   "outputs": [],
   "source": []
  },
  {
   "cell_type": "code",
   "execution_count": null,
   "id": "7df273a8",
   "metadata": {},
   "outputs": [],
   "source": []
  },
  {
   "cell_type": "code",
   "execution_count": null,
   "id": "399f6967",
   "metadata": {},
   "outputs": [],
   "source": []
  },
  {
   "cell_type": "code",
   "execution_count": null,
   "id": "cbe6c8e7",
   "metadata": {},
   "outputs": [],
   "source": []
  },
  {
   "cell_type": "code",
   "execution_count": null,
   "id": "fea720cd",
   "metadata": {},
   "outputs": [],
   "source": []
  }
 ],
 "metadata": {
  "kernelspec": {
   "display_name": "Python 3 (ipykernel)",
   "language": "python",
   "name": "python3"
  },
  "language_info": {
   "codemirror_mode": {
    "name": "ipython",
    "version": 3
   },
   "file_extension": ".py",
   "mimetype": "text/x-python",
   "name": "python",
   "nbconvert_exporter": "python",
   "pygments_lexer": "ipython3",
   "version": "3.8.12"
  }
 },
 "nbformat": 4,
 "nbformat_minor": 5
}
