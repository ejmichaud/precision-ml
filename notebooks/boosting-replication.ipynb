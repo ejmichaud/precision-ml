{
 "cells": [
  {
   "cell_type": "code",
   "execution_count": 1,
   "metadata": {},
   "outputs": [],
   "source": [
    "import random\n",
    "import time\n",
    "from itertools import product, islice\n",
    "from collections import defaultdict\n",
    "from copy import deepcopy\n",
    "from tqdm.auto import tqdm\n",
    "import pickle\n",
    "\n",
    "import numpy as np\n",
    "import matplotlib.pyplot as plt\n",
    "\n",
    "from scipy import optimize\n",
    "\n",
    "import torch\n",
    "import torch.nn as nn"
   ]
  },
  {
   "attachments": {},
   "cell_type": "markdown",
   "metadata": {},
   "source": [
    "### Definitions for translating between PyTorch and SciPy, since we will use SciPy's BFGS optimizer implementation"
   ]
  },
  {
   "cell_type": "code",
   "execution_count": 2,
   "metadata": {},
   "outputs": [],
   "source": [
    "def get_func(model: nn.Module, loss_fn, x, y):\n",
    "    def func(*p_tensors):\n",
    "        assert len(list(model.parameters())) == len(p_tensors)\n",
    "        assert type(model) is nn.Sequential\n",
    "        i = 0\n",
    "        z = x\n",
    "        for module in model:\n",
    "            if type(module) is nn.Linear:\n",
    "                if module.bias is None:\n",
    "                    z = nn.functional.linear(z, p_tensors[i], None)\n",
    "                    i += 1\n",
    "                else:\n",
    "                    z = nn.functional.linear(z, p_tensors[i], p_tensors[i+1])\n",
    "                    i += 2\n",
    "            if type(module) in [nn.Tanh, nn.Sigmoid, nn.ReLU]:\n",
    "                z = module(z)\n",
    "        return loss_fn(z, y)\n",
    "    return func\n",
    "\n",
    "def hessian_autograd(model, loss_fn, x, y):\n",
    "    H = torch.autograd.functional.hessian(get_func(model, loss_fn, x, y), tuple(model.parameters()))\n",
    "    return H\n",
    "\n",
    "def hvp_autograd(model, v, loss_fn, x, y):\n",
    "    _, Hv = torch.autograd.functional.hvp(get_func(model, loss_fn, x, y), tuple(model.parameters()), v)\n",
    "    return Hv\n",
    "\n",
    "def decompose_hessian(hessian, lengths, shapes):\n",
    "    H_matrix = torch.zeros(sum(lengths), sum(lengths))\n",
    "    for i, j in product(range(len(shapes)), range(len(shapes))):\n",
    "        i0, i1 = sum(lengths[:i+1]) - lengths[i], sum(lengths[:i+1])\n",
    "        j0, j1 = sum(lengths[:j+1]) - lengths[j], sum(lengths[:j+1])\n",
    "        H_matrix[i0:i1, j0:j1] = hessian[i][j].reshape(lengths[i], lengths[j])\n",
    "    vals, vecs = torch.linalg.eigh(H_matrix)\n",
    "    vs = []\n",
    "    for i in range(sum(lengths)):\n",
    "        vec = vecs[:, i]\n",
    "        v = tuple(vec[sum(lengths[:i]):sum(lengths[:i+1])].reshape(shapes[i]) for i in range(len(lengths)))\n",
    "        vs.append(v)\n",
    "    return vals, vs\n",
    "\n",
    "def dot_prod(u, v):\n",
    "    assert len(u) == len(v)\n",
    "    result = 0\n",
    "    for i in range(len(u)):\n",
    "        result += torch.sum(u[i] * v[i])\n",
    "    return result.item()\n",
    "\n",
    "rmse_loss_fn_torch = lambda x, y: torch.sqrt(torch.mean(torch.pow(x-y, 2)))\n",
    "qmqe_loss_fn_torch = lambda x, y: torch.pow(torch.mean(torch.pow(x-y, 4)), 1/4)\n",
    "smse_loss_fn_torch = lambda x, y: torch.pow(torch.mean(torch.pow(x-y, 6)), 1/6)\n",
    "mse_loss_fn_torch = nn.MSELoss()\n",
    "\n",
    "def lp_norm(p):\n",
    "    def loss(x, y):\n",
    "        return torch.pow(torch.mean(torch.pow(torch.abs(x-y), p)), 1/p)\n",
    "    return loss\n",
    "\n",
    "def dl_loss(epsilon):\n",
    "    def loss(x, y):\n",
    "        return torch.mean(0.5 * torch.log2(1 + torch.pow((x-y) / epsilon, 2)))\n",
    "    return loss\n",
    "\n",
    "\n",
    "def loss(param_vector, lengths, shapes, \n",
    "             mlp, loss_fn, x, y, device):\n",
    "    l = 0\n",
    "    for i, param in enumerate(mlp.parameters()):\n",
    "        param_data = param_vector[l:l+lengths[i]]\n",
    "        l += lengths[i]\n",
    "        param_data_shaped = param_data.reshape(shapes[i])\n",
    "        param.data = torch.tensor(param_data_shaped).to(device)\n",
    "    return loss_fn(mlp(x.to(device)), y).detach().cpu().numpy()\n",
    "\n",
    "def gradient(param_vector, lengths, shapes, \n",
    "             mlp, loss_fn, x, y, device):\n",
    "    l = 0\n",
    "    for i, param in enumerate(mlp.parameters()):\n",
    "        param_data = param_vector[l:l+lengths[i]]\n",
    "        l += lengths[i]\n",
    "        param_data_shaped = param_data.reshape(shapes[i])\n",
    "        param.data = torch.tensor(param_data_shaped).to(device)\n",
    "    loss_fn(mlp(x.to(device)), y).backward()\n",
    "    grads = []\n",
    "    for param in mlp.parameters():\n",
    "        grads.append(param.grad.detach().clone().cpu().numpy().flatten())\n",
    "        param.grad = None\n",
    "    mlp.zero_grad()\n",
    "    return np.concatenate(grads)"
   ]
  },
  {
   "cell_type": "code",
   "execution_count": 3,
   "metadata": {},
   "outputs": [],
   "source": [
    "device = 'cuda:0' if torch.cuda.is_available() else 'cpu'\n",
    "torch.set_default_dtype(torch.float64)\n",
    "\n",
    "random.seed(0)\n",
    "np.random.seed(0)\n",
    "torch.manual_seed(0)\n",
    "torch.cuda.manual_seed(0)"
   ]
  },
  {
   "cell_type": "code",
   "execution_count": 4,
   "metadata": {},
   "outputs": [
    {
     "data": {
      "text/plain": [
       "'cuda:0'"
      ]
     },
     "execution_count": 4,
     "metadata": {},
     "output_type": "execute_result"
    }
   ],
   "source": [
    "device"
   ]
  },
  {
   "attachments": {},
   "cell_type": "markdown",
   "metadata": {},
   "source": [
    "### Create train and test set using a teacher network"
   ]
  },
  {
   "cell_type": "code",
   "execution_count": 5,
   "metadata": {},
   "outputs": [],
   "source": [
    "x_i = np.random.uniform(low=-1, high=1, size=(100000, 1))\n",
    "x_i = torch.from_numpy(x_i).to(device)\n",
    "x_i_test = np.random.uniform(low=-1, high=1, size=(10000, 1))\n",
    "x_i_test = torch.from_numpy(x_i_test).to(device)\n",
    "\n",
    "teacher = nn.Sequential(\n",
    "    nn.Linear(1, 3),\n",
    "    nn.Tanh(),\n",
    "    nn.Linear(3, 3),\n",
    "    nn.Tanh(),\n",
    "    nn.Linear(3, 1)\n",
    ").to(device)\n",
    "\n",
    "with torch.no_grad():\n",
    "    y_i = teacher(x_i)\n",
    "    y_i_test = teacher(x_i_test)"
   ]
  },
  {
   "attachments": {},
   "cell_type": "markdown",
   "metadata": {},
   "source": [
    "### Perform training run of first network"
   ]
  },
  {
   "cell_type": "code",
   "execution_count": 6,
   "metadata": {},
   "outputs": [
    {
     "name": "stdout",
     "output_type": "stream",
     "text": [
      "Warning: Desired error not necessarily achieved due to precision loss.\n",
      "         Current function value: 0.000000\n",
      "         Iterations: 2454\n",
      "         Function evaluations: 2886\n",
      "         Gradient evaluations: 2874\n"
     ]
    }
   ],
   "source": [
    "results = dict()\n",
    "\n",
    "width = 20\n",
    "mlp = nn.Sequential(\n",
    "    nn.Linear(1, width),\n",
    "    nn.Tanh(),\n",
    "    nn.Linear(width, width),\n",
    "    nn.Tanh(),\n",
    "    nn.Linear(width, 1)\n",
    ").to(device)\n",
    "\n",
    "params = []\n",
    "shapes = []\n",
    "lengths = []\n",
    "for param in mlp.parameters():\n",
    "    param_np = param.data.detach().clone().cpu().numpy()\n",
    "    shapes.append(param_np.shape)\n",
    "    param_np_flat = param_np.flatten()\n",
    "    lengths.append(len(param_np_flat))\n",
    "    params.append(param_np_flat)\n",
    "param_vector = np.concatenate(params)\n",
    "\n",
    "results['train1'] = list()\n",
    "results['test1'] = list()\n",
    "results['times1'] = list()\n",
    "def callback(xk):\n",
    "    results['times1'].append(time.time())\n",
    "    results['train1'].append(loss(xk, lengths, shapes, mlp, rmse_loss_fn_torch, x_i, y_i, device).item())\n",
    "    results['test1'].append(loss(xk, lengths, shapes, mlp, rmse_loss_fn_torch, x_i_test, y_i_test, device).item())\n",
    "\n",
    "results['start_time1'] = time.time()\n",
    "result = optimize.minimize(loss,\n",
    "                    param_vector, \n",
    "                    args=(lengths, shapes, mlp, mse_loss_fn_torch, x_i, y_i, device),\n",
    "                    jac=gradient,\n",
    "                    method='BFGS',\n",
    "                    options={\n",
    "                        'disp': True,\n",
    "                        'gtol': 1e-60,\n",
    "                        'maxiter': 25000,\n",
    "        # #                                'finite_diff_rel_step': 1e-15\n",
    "                    },\n",
    "                    callback=callback\n",
    "                ) \n",
    "mlp.zero_grad()\n",
    "solution_params = [p.detach().clone() for p in mlp.parameters()]\n",
    "\n",
    "# for j, p in enumerate(mlp.parameters()):\n",
    "#     p.data = solution_params[j].clone()\n",
    "\n",
    "# solution_params2 = [p.detach().clone() for p in mlp.parameters()]\n",
    "\n"
   ]
  },
  {
   "cell_type": "code",
   "execution_count": 7,
   "metadata": {},
   "outputs": [
    {
     "name": "stdout",
     "output_type": "stream",
     "text": [
      "4.0960145066512555e-08\n"
     ]
    }
   ],
   "source": [
    "with torch.no_grad():\n",
    "    print(rmse_loss_fn_torch(mlp(x_i_test), y_i_test).item())"
   ]
  },
  {
   "attachments": {},
   "cell_type": "markdown",
   "metadata": {},
   "source": [
    "### Compute and visualize residual"
   ]
  },
  {
   "cell_type": "code",
   "execution_count": 8,
   "metadata": {},
   "outputs": [],
   "source": [
    "with torch.no_grad():\n",
    "    c = 1 / torch.mean(torch.abs(y_i - mlp(x_i))).item()\n",
    "    yd_i = c * (y_i - mlp(x_i))"
   ]
  },
  {
   "cell_type": "code",
   "execution_count": 12,
   "metadata": {},
   "outputs": [
    {
     "data": {
      "text/plain": [
       "Text(0.5, 1.0, 'First residual in teacher-student setup, with BFGS optimizer')"
      ]
     },
     "execution_count": 12,
     "metadata": {},
     "output_type": "execute_result"
    },
    {
     "data": {
      "image/png": "[encoded data removed]",
      "text/plain": [
       "<Figure size 640x480 with 1 Axes>"
      ]
     },
     "metadata": {},
     "output_type": "display_data"
    }
   ],
   "source": [
    "plt.scatter(x_i.detach().cpu().numpy(), yd_i.detach().cpu().numpy(), s=1)\n",
    "plt.plot([x_i.min().item(), x_i.max().item()], [0, 0], color='black')\n",
    "plt.ylabel(\"Rescaled residual\")\n",
    "plt.xlabel(\"x\")\n",
    "plt.title(\"First residual in teacher-student setup, with BFGS optimizer\", fontsize=9)"
   ]
  },
  {
   "attachments": {},
   "cell_type": "markdown",
   "metadata": {},
   "source": [
    "### Train a second network on the residual"
   ]
  },
  {
   "cell_type": "code",
   "execution_count": 13,
   "metadata": {},
   "outputs": [
    {
     "name": "stdout",
     "output_type": "stream",
     "text": [
      "Warning: Desired error not necessarily achieved due to precision loss.\n",
      "         Current function value: 0.000000\n",
      "         Iterations: 12177\n",
      "         Function evaluations: 13168\n",
      "         Gradient evaluations: 13156\n"
     ]
    }
   ],
   "source": [
    "width = 20\n",
    "mlp2 = nn.Sequential(\n",
    "    nn.Linear(1, width),\n",
    "    nn.Tanh(),\n",
    "    nn.Linear(width, width),\n",
    "    nn.Tanh(),\n",
    "    nn.Linear(width, 1)\n",
    ").to(device)\n",
    "\n",
    "params2 = []\n",
    "shapes2 = []\n",
    "lengths2 = []\n",
    "for param in mlp2.parameters():\n",
    "    param_np = param.data.detach().clone().cpu().numpy()\n",
    "    shapes2.append(param_np.shape)\n",
    "    param_np_flat = param_np.flatten()\n",
    "    lengths2.append(len(param_np_flat))\n",
    "    params2.append(param_np_flat)\n",
    "param_vector2 = np.concatenate(params2)\n",
    "\n",
    "results['train3'] = list()\n",
    "results['test3'] = list()\n",
    "results['times3'] = list()\n",
    "def callback(xk):\n",
    "    \"\"\"xk is the param vector for mlp2\"\"\"\n",
    "    l = 0\n",
    "    for i, param in enumerate(mlp2.parameters()):\n",
    "        param_data = xk[l:l+lengths2[i]]\n",
    "        l += lengths2[i]\n",
    "        param_data_shaped = param_data.reshape(shapes2[i])\n",
    "        param.data = torch.tensor(param_data_shaped).to(device)\n",
    "    results['times3'].append(time.time())\n",
    "    results['train3'].append(rmse_loss_fn_torch(mlp(x_i) + (1/c)*mlp2(x_i), y_i).item())\n",
    "    results['test3'].append(rmse_loss_fn_torch(mlp(x_i_test) + (1/c)*mlp2(x_i_test), y_i_test).item())\n",
    "\n",
    "results['start_time3'] = time.time()\n",
    "result = optimize.minimize(loss,\n",
    "                    param_vector2, \n",
    "                    args=(lengths2, shapes2, mlp2, mse_loss_fn_torch, x_i, yd_i, device),\n",
    "                    jac=gradient,\n",
    "                    method='BFGS',\n",
    "                    options={\n",
    "                        'disp': True,\n",
    "                        'gtol': 1e-60,\n",
    "                        'maxiter': 25000,\n",
    "#                                'finite_diff_rel_step': 1e-15\n",
    "                    },\n",
    "                    callback=callback\n",
    "                    )\n",
    "mlp2.zero_grad()\n",
    "\n",
    "# boost_solution_params = [p.detach().clone() for p in mlp2.parameters()]\n",
    "\n",
    "# for j, p in enumerate(mlp2.parameters()):\n",
    "#     p.data = boost_solution_params[j].clone()\n",
    "\n",
    "\n",
    "\n"
   ]
  },
  {
   "cell_type": "code",
   "execution_count": 14,
   "metadata": {},
   "outputs": [
    {
     "name": "stdout",
     "output_type": "stream",
     "text": [
      "3.166749748647018e-13\n"
     ]
    }
   ],
   "source": [
    "with torch.no_grad():\n",
    "    print(rmse_loss_fn_torch(mlp(x_i_test) + (1/c)*mlp2(x_i_test), y_i_test).item())"
   ]
  },
  {
   "cell_type": "code",
   "execution_count": 15,
   "metadata": {},
   "outputs": [],
   "source": [
    "with torch.no_grad():\n",
    "    yd2_i =  y_i - (mlp(x_i) + (1/c)*mlp2(x_i))"
   ]
  },
  {
   "cell_type": "code",
   "execution_count": 16,
   "metadata": {},
   "outputs": [
    {
     "data": {
      "text/plain": [
       "Text(0.5, 1.0, 'Second residual in teacher-student setup, with BFGS optimizer')"
      ]
     },
     "execution_count": 16,
     "metadata": {},
     "output_type": "execute_result"
    },
    {
     "data": {
      "image/png": "[encoded data removed]",
      "text/plain": [
       "<Figure size 640x480 with 1 Axes>"
      ]
     },
     "metadata": {},
     "output_type": "display_data"
    }
   ],
   "source": [
    "plt.scatter(x_i.detach().cpu().numpy(), yd2_i.detach().cpu().numpy(), s=1)\n",
    "plt.plot([x_i.min().item(), x_i.max().item()], [0, 0], color='black')\n",
    "plt.ylabel(\"Rescaled residual\")\n",
    "plt.xlabel(\"x\")\n",
    "plt.title(\"Second residual in teacher-student setup, with BFGS optimizer\", fontsize=9)"
   ]
  },
  {
   "cell_type": "code",
   "execution_count": null,
   "metadata": {},
   "outputs": [],
   "source": []
  },
  {
   "cell_type": "code",
   "execution_count": null,
   "metadata": {},
   "outputs": [],
   "source": []
  },
  {
   "cell_type": "code",
   "execution_count": null,
   "metadata": {},
   "outputs": [],
   "source": []
  },
  {
   "cell_type": "code",
   "execution_count": null,
   "metadata": {},
   "outputs": [],
   "source": []
  }
 ],
 "metadata": {
  "kernelspec": {
   "display_name": "phase-changes",
   "language": "python",
   "name": "python3"
  },
  "language_info": {
   "codemirror_mode": {
    "name": "ipython",
    "version": 3
   },
   "file_extension": ".py",
   "mimetype": "text/x-python",
   "name": "python",
   "nbconvert_exporter": "python",
   "pygments_lexer": "ipython3",
   "version": "3.8.12"
  },
  "orig_nbformat": 4,
  "vscode": {
   "interpreter": {
    "hash": "f19f355d1a0adb25de3a0476209ea738ec9ebf77e8caad0b0fb02aa74534f56c"
   }
  }
 },
 "nbformat": 4,
 "nbformat_minor": 2
}
